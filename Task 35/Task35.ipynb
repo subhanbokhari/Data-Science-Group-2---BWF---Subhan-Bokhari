{
 "cells": [
  {
   "cell_type": "markdown",
   "id": "3ec7db41-19ba-4dd5-8880-8ca76d3369c9",
   "metadata": {},
   "source": [
    "## 🔴 Task 35-> Convolutional Neural Networks (CNNs) "
   ]
  },
  {
   "cell_type": "code",
   "execution_count": 22,
   "id": "558a8b79-a577-4302-b2a2-0aac3e4327f9",
   "metadata": {},
   "outputs": [],
   "source": [
    "import tensorflow as tf\n",
    "from tensorflow.keras.datasets import cifar10\n",
    "from tensorflow.keras.models import Sequential\n",
    "from tensorflow.keras.layers import Conv2D, MaxPooling2D, Flatten, Dense, Input\n",
    "from tensorflow.keras.optimizers import Adam\n",
    "import matplotlib.pyplot as plt\n",
    "import cv2\n",
    "import numpy as np"
   ]
  },
  {
   "cell_type": "markdown",
   "id": "9f5184d2-fa7b-46b1-9707-6408460bf9ca",
   "metadata": {},
   "source": [
    "## Load Data and split them into train test sets & Normalize the data"
   ]
  },
  {
   "cell_type": "code",
   "execution_count": 3,
   "id": "4f23580d-d7cf-46b4-b595-26ebeea7e7ed",
   "metadata": {},
   "outputs": [],
   "source": [
    "(X_train, y_train), (X_test, y_test) = cifar10.load_data()\n",
    "X_train = X_train / 255.0\n",
    "X_test = X_test / 255.0"
   ]
  },
  {
   "cell_type": "markdown",
   "id": "d19bf85e-e79b-40e0-a859-a69eb949e7c7",
   "metadata": {},
   "source": [
    "## Introduce the model"
   ]
  },
  {
   "cell_type": "code",
   "execution_count": 4,
   "id": "29ad9930-79dc-4e3e-8d39-368caf2c088a",
   "metadata": {},
   "outputs": [],
   "source": [
    "model = Sequential()\n",
    "model.add(Input(shape=(32, 32, 3)))\n",
    "model.add(Conv2D(32, (3, 3), activation='relu'))\n",
    "model.add(MaxPooling2D((2, 2)))\n",
    "model.add(Conv2D(64, (3, 3), activation='relu'))\n",
    "model.add(MaxPooling2D((2, 2)))\n",
    "model.add(Conv2D(64, (3, 3), activation='relu'))\n",
    "model.add(Flatten())\n",
    "model.add(Dense(64, activation='relu'))\n",
    "model.add(Dense(10, activation='softmax'))"
   ]
  },
  {
   "cell_type": "markdown",
   "id": "5734abfc-8e35-4743-9bab-0aef57f8f5a5",
   "metadata": {},
   "source": [
    "## Compile the model altogether"
   ]
  },
  {
   "cell_type": "code",
   "execution_count": 5,
   "id": "0fc5fc8b-dbc7-441a-a2cf-9c64a5bf462e",
   "metadata": {},
   "outputs": [],
   "source": [
    "model.compile(optimizer=Adam(learning_rate=0.001), loss='sparse_categorical_crossentropy', metrics=['accuracy'])"
   ]
  },
  {
   "cell_type": "markdown",
   "id": "2b788543-ddc0-4692-9a7b-2f6bef4d965e",
   "metadata": {},
   "source": [
    "## Train The model"
   ]
  },
  {
   "cell_type": "code",
   "execution_count": 6,
   "id": "8c3ac321-bc90-4015-bf18-2e9495d5d36e",
   "metadata": {},
   "outputs": [
    {
     "name": "stdout",
     "output_type": "stream",
     "text": [
      "Epoch 1/5\n"
     ]
    },
    {
     "name": "stderr",
     "output_type": "stream",
     "text": [
      "2024-08-10 00:00:55.593777: W external/local_tsl/tsl/framework/cpu_allocator_impl.cc:83] Allocation of 614400000 exceeds 10% of free system memory.\n"
     ]
    },
    {
     "name": "stdout",
     "output_type": "stream",
     "text": [
      "\u001b[1m1563/1563\u001b[0m \u001b[32m━━━━━━━━━━━━━━━━━━━━\u001b[0m\u001b[37m\u001b[0m \u001b[1m32s\u001b[0m 19ms/step - accuracy: 0.3372 - loss: 1.7907 - val_accuracy: 0.5336 - val_loss: 1.2811\n",
      "Epoch 2/5\n",
      "\u001b[1m1563/1563\u001b[0m \u001b[32m━━━━━━━━━━━━━━━━━━━━\u001b[0m\u001b[37m\u001b[0m \u001b[1m29s\u001b[0m 19ms/step - accuracy: 0.5738 - loss: 1.2027 - val_accuracy: 0.6044 - val_loss: 1.1139\n",
      "Epoch 3/5\n",
      "\u001b[1m1563/1563\u001b[0m \u001b[32m━━━━━━━━━━━━━━━━━━━━\u001b[0m\u001b[37m\u001b[0m \u001b[1m29s\u001b[0m 18ms/step - accuracy: 0.6369 - loss: 1.0248 - val_accuracy: 0.6611 - val_loss: 0.9833\n",
      "Epoch 4/5\n",
      "\u001b[1m1563/1563\u001b[0m \u001b[32m━━━━━━━━━━━━━━━━━━━━\u001b[0m\u001b[37m\u001b[0m \u001b[1m29s\u001b[0m 18ms/step - accuracy: 0.6799 - loss: 0.9056 - val_accuracy: 0.6731 - val_loss: 0.9388\n",
      "Epoch 5/5\n",
      "\u001b[1m1563/1563\u001b[0m \u001b[32m━━━━━━━━━━━━━━━━━━━━\u001b[0m\u001b[37m\u001b[0m \u001b[1m29s\u001b[0m 18ms/step - accuracy: 0.7106 - loss: 0.8222 - val_accuracy: 0.6835 - val_loss: 0.9083\n"
     ]
    },
    {
     "data": {
      "text/plain": [
       "<keras.src.callbacks.history.History at 0x7f2b9b4004d0>"
      ]
     },
     "execution_count": 6,
     "metadata": {},
     "output_type": "execute_result"
    }
   ],
   "source": [
    "model.fit(X_train, y_train, epochs=5, batch_size=32, validation_data=(X_test, y_test))"
   ]
  },
  {
   "cell_type": "markdown",
   "id": "54f2867b-c785-44ed-b63f-1c7f1936ba60",
   "metadata": {},
   "source": [
    "## Check Accuracy and lose in training the model"
   ]
  },
  {
   "cell_type": "code",
   "execution_count": 7,
   "id": "c4582056-fcba-4f39-bf57-291be0195fc3",
   "metadata": {},
   "outputs": [
    {
     "name": "stdout",
     "output_type": "stream",
     "text": [
      "\u001b[1m313/313\u001b[0m \u001b[32m━━━━━━━━━━━━━━━━━━━━\u001b[0m\u001b[37m\u001b[0m \u001b[1m2s\u001b[0m 6ms/step - accuracy: 0.6857 - loss: 0.9048\n",
      "Test loss: 0.908271849155426\n",
      "Test accuracy: 0.6834999918937683\n"
     ]
    }
   ],
   "source": [
    "loss, accuracy = model.evaluate(X_test, y_test)\n",
    "print('Test loss:', loss)\n",
    "print('Test accuracy:', accuracy)"
   ]
  },
  {
   "cell_type": "markdown",
   "id": "e6c97a65-4700-4716-94ec-76084ba0d87c",
   "metadata": {},
   "source": [
    "## Sharpen the image through Gaussian Blur method and display both original and sharpened"
   ]
  },
  {
   "cell_type": "code",
   "execution_count": 23,
   "id": "43e12830-c8b4-47d9-bb09-fa8a16e73ca0",
   "metadata": {},
   "outputs": [
    {
     "data": {
      "image/png": "[encoded data removed]",
      "text/plain": [
       "<Figure size 1200x600 with 2 Axes>"
      ]
     },
     "metadata": {},
     "output_type": "display_data"
    }
   ],
   "source": [
    "sharpened_images = []\n",
    "\n",
    "for i in range(X_train.shape[0]):\n",
    "    image = X_train[i]\n",
    "    \n",
    "    gaussian = cv2.GaussianBlur(image, (5, 5), 2.0)\n",
    "    sharpened = cv2.addWeighted(image, 2.5, gaussian, -1.5, 0)\n",
    "    \n",
    "    sharpened = (sharpened * 255).astype(np.uint8)\n",
    "    \n",
    "    sharpened_images.append(sharpened)\n",
    "\n",
    "sharpened_images_array = np.array(sharpened_images)\n",
    "\n",
    "plt.figure(figsize=(12, 6))\n",
    "\n",
    "plt.subplot(1, 3, 1)\n",
    "plt.imshow(X_train[0])\n",
    "plt.title('Original Image')\n",
    "\n",
    "plt.subplot(1, 3, 2)\n",
    "plt.imshow(sharpened_images_array[0])\n",
    "plt.title('Sharpened Image')\n",
    "\n",
    "plt.show()\n"
   ]
  }
 ],
 "metadata": {
  "kernelspec": {
   "display_name": "Python 3 (ipykernel)",
   "language": "python",
   "name": "python3"
  },
  "language_info": {
   "codemirror_mode": {
    "name": "ipython",
    "version": 3
   },
   "file_extension": ".py",
   "mimetype": "text/x-python",
   "name": "python",
   "nbconvert_exporter": "python",
   "pygments_lexer": "ipython3",
   "version": "3.11.9"
  }
 },
 "nbformat": 4,
 "nbformat_minor": 5
}
