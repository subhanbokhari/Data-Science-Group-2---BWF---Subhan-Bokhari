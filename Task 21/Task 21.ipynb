{
 "cells": [
  {
   "cell_type": "markdown",
   "id": "640a0fd7-dba5-4074-b108-8b53b1ebbae2",
   "metadata": {},
   "source": [
    "# 🔴 Task 21-> Linear algebra and calculus in NumPy"
   ]
  },
  {
   "cell_type": "code",
   "execution_count": 118,
   "id": "601d1b35-8fd8-4871-8805-e983abce7091",
   "metadata": {},
   "outputs": [],
   "source": [
    "import numpy as np\n",
    "from scipy.linalg import lu\n",
    "import pandas as pd\n",
    "from sklearn.preprocessing import StandardScaler\n",
    "from sklearn.preprocessing import LabelEncoder"
   ]
  },
  {
   "cell_type": "markdown",
   "id": "491b349c-6a7c-4176-a9df-8d02f61ee626",
   "metadata": {},
   "source": [
    "## 1. Matrix Creation and Manipulation"
   ]
  },
  {
   "cell_type": "code",
   "execution_count": 119,
   "id": "61040025-127e-4aa3-ad35-e040a0aac57a",
   "metadata": {},
   "outputs": [
    {
     "name": "stdout",
     "output_type": "stream",
     "text": [
      "Zero matrix:\n",
      "[[0. 0. 0. 0. 0.]\n",
      " [0. 0. 0. 0. 0.]\n",
      " [0. 0. 0. 0. 0.]\n",
      " [0. 0. 0. 0. 0.]\n",
      " [0. 0. 0. 0. 0.]]\n"
     ]
    }
   ],
   "source": [
    "zero_matrix = np.zeros((5, 5))\n",
    "print(\"Zero matrix:\")\n",
    "print(zero_matrix)"
   ]
  },
  {
   "cell_type": "code",
   "execution_count": 120,
   "id": "1fbb335e-6931-483d-855a-ee5df57d318c",
   "metadata": {},
   "outputs": [
    {
     "name": "stdout",
     "output_type": "stream",
     "text": [
      "Identity matrix:\n",
      "[[1. 0. 0. 0. 0.]\n",
      " [0. 1. 0. 0. 0.]\n",
      " [0. 0. 1. 0. 0.]\n",
      " [0. 0. 0. 1. 0.]\n",
      " [0. 0. 0. 0. 1.]]\n",
      "\n"
     ]
    }
   ],
   "source": [
    "identity_matrix = np.eye(5)\n",
    "print(\"Identity matrix:\")\n",
    "print(identity_matrix)\n",
    "print()"
   ]
  },
  {
   "cell_type": "code",
   "execution_count": 121,
   "id": "38d2f63b-a1a8-4465-8349-03b9ee42f15f",
   "metadata": {},
   "outputs": [
    {
     "name": "stdout",
     "output_type": "stream",
     "text": [
      "Random matrix:\n",
      "[[0.27101034 0.44369582 0.19859305 0.65799473 0.86982656]\n",
      " [0.47217351 0.7835475  0.599717   0.15794412 0.36680106]\n",
      " [0.20086946 0.02288165 0.187835   0.50583173 0.94116777]\n",
      " [0.10994497 0.83433685 0.8633589  0.700531   0.49968349]\n",
      " [0.65705018 0.06125752 0.65377724 0.38131713 0.08628182]]\n",
      "\n"
     ]
    }
   ],
   "source": [
    "random_matrix = np.random.rand(5, 5)\n",
    "print(\"Random matrix:\")\n",
    "print(random_matrix)\n",
    "print()"
   ]
  },
  {
   "cell_type": "markdown",
   "id": "80de7b66-d86e-44b6-89bd-c48bb02f6db8",
   "metadata": {},
   "source": [
    "### 🟡 Addition"
   ]
  },
  {
   "cell_type": "code",
   "execution_count": 122,
   "id": "c7ec75a4-244c-4bf6-ab8d-ae975def39dd",
   "metadata": {},
   "outputs": [
    {
     "name": "stdout",
     "output_type": "stream",
     "text": [
      "[[1. 0. 0. 0. 0.]\n",
      " [0. 1. 0. 0. 0.]\n",
      " [0. 0. 1. 0. 0.]\n",
      " [0. 0. 0. 1. 0.]\n",
      " [0. 0. 0. 0. 1.]]\n"
     ]
    }
   ],
   "source": [
    "addition = zero_matrix + identity_matrix\n",
    "print(addition)"
   ]
  },
  {
   "cell_type": "markdown",
   "id": "bcabc988-45ae-4e57-a473-57f2017b11b7",
   "metadata": {},
   "source": [
    "### 🟢 Subtraction"
   ]
  },
  {
   "cell_type": "code",
   "execution_count": 123,
   "id": "78e7fff4-6cca-45c7-b917-6d2850ca6131",
   "metadata": {},
   "outputs": [
    {
     "name": "stdout",
     "output_type": "stream",
     "text": [
      "[[ 0.72898966 -0.44369582 -0.19859305 -0.65799473 -0.86982656]\n",
      " [-0.47217351  0.2164525  -0.599717   -0.15794412 -0.36680106]\n",
      " [-0.20086946 -0.02288165  0.812165   -0.50583173 -0.94116777]\n",
      " [-0.10994497 -0.83433685 -0.8633589   0.299469   -0.49968349]\n",
      " [-0.65705018 -0.06125752 -0.65377724 -0.38131713  0.91371818]]\n"
     ]
    }
   ],
   "source": [
    "subtraction = identity_matrix - random_matrix\n",
    "print(subtraction)"
   ]
  },
  {
   "cell_type": "markdown",
   "id": "07553232-7cc7-4c80-b411-06a39eb4f003",
   "metadata": {},
   "source": [
    "### ⚫ Multiplication"
   ]
  },
  {
   "cell_type": "code",
   "execution_count": 124,
   "id": "a95d7e3a-715a-452b-9b9b-f7bca83bb0de",
   "metadata": {},
   "outputs": [
    {
     "name": "stdout",
     "output_type": "stream",
     "text": [
      "[[0. 0. 0. 0. 0.]\n",
      " [0. 0. 0. 0. 0.]\n",
      " [0. 0. 0. 0. 0.]\n",
      " [0. 0. 0. 0. 0.]\n",
      " [0. 0. 0. 0. 0.]]\n"
     ]
    }
   ],
   "source": [
    "multiplication = identity_matrix * zero_matrix\n",
    "print(multiplication)"
   ]
  },
  {
   "cell_type": "markdown",
   "id": "5dc015a4-4a38-4148-aa35-4d737c081943",
   "metadata": {},
   "source": [
    "## 2. Solving Linear Equations\n"
   ]
  },
  {
   "cell_type": "markdown",
   "id": "a9dba87b-529f-4a56-b2ee-286dbf4236b0",
   "metadata": {},
   "source": [
    "#### x + 6y - 9z = 8\n",
    "#### -4x + 2y + z = 3\n",
    "#### -7x - 3y + 8z = 9"
   ]
  },
  {
   "cell_type": "code",
   "execution_count": 125,
   "id": "ffadc9e0-dfab-4451-8dfd-2ca4f9d5d71b",
   "metadata": {},
   "outputs": [],
   "source": [
    "coefficient_mat = np.array([[1, 6, -9],\n",
    "              [-4, 2, 1],\n",
    "              [-7, -3, 8]])\n",
    "is_equal = np.array([8, 3, 9])\n",
    "\n",
    "linear_solve = np.linalg.solve(coefficient_mat, is_equal)"
   ]
  },
  {
   "cell_type": "code",
   "execution_count": 126,
   "id": "27b9f4a4-a7fd-4295-8953-4ca57e499218",
   "metadata": {},
   "outputs": [
    {
     "name": "stdout",
     "output_type": "stream",
     "text": [
      "Solution to the system of linear equations:\n",
      "x = -4.692307692307689\n",
      "y = -5.38461538461538\n",
      "z = -4.999999999999996\n"
     ]
    }
   ],
   "source": [
    "print(\"Solution to the system of linear equations:\")\n",
    "print(\"x =\", linear_solve[0])\n",
    "print(\"y =\", linear_solve[1])\n",
    "print(\"z =\", linear_solve[2])"
   ]
  },
  {
   "cell_type": "markdown",
   "id": "59f1734c-9eaa-4ddc-b0fd-0661bab30a03",
   "metadata": {},
   "source": [
    "#### 🟤 LU Decomposition"
   ]
  },
  {
   "cell_type": "code",
   "execution_count": 127,
   "id": "a86f1037-9fee-4a73-b1c2-87024029a7ec",
   "metadata": {},
   "outputs": [
    {
     "name": "stdout",
     "output_type": "stream",
     "text": [
      "P:\n",
      "[[0. 1. 0.]\n",
      " [0. 0. 1.]\n",
      " [1. 0. 0.]]\n",
      "\n",
      "L:\n",
      "[[ 1.          0.          0.        ]\n",
      " [-0.14285714  1.          0.        ]\n",
      " [ 0.57142857  0.66666667  1.        ]]\n",
      "\n",
      "U:\n",
      "[[-7.         -3.          8.        ]\n",
      " [ 0.          5.57142857 -7.85714286]\n",
      " [ 0.          0.          1.66666667]]\n",
      "\n"
     ]
    }
   ],
   "source": [
    "P, L, U = lu(coefficient_mat)\n",
    "print(\"P:\")\n",
    "print(P)\n",
    "print()\n",
    "print(\"L:\")\n",
    "print(L)\n",
    "print()\n",
    "print(\"U:\")\n",
    "print(U)\n",
    "print()"
   ]
  },
  {
   "cell_type": "markdown",
   "id": "4e47c75e-205a-4e06-8a6e-5d67667f9a0c",
   "metadata": {},
   "source": [
    "#### 🔴 QR Decomposition"
   ]
  },
  {
   "cell_type": "code",
   "execution_count": 128,
   "id": "c1b93d64-d20f-449e-81fe-0b6c379c4bb3",
   "metadata": {},
   "outputs": [
    {
     "name": "stdout",
     "output_type": "stream",
     "text": [
      "Q:\n",
      "[[-0.12309149 -0.86576808  0.48507125]\n",
      " [ 0.49236596 -0.47766515 -0.72760688]\n",
      " [ 0.86164044  0.14927036  0.48507125]]\n",
      "\n",
      "R:\n",
      "[[-8.1240384  -2.33873833  8.49331288]\n",
      " [ 0.         -6.59774985  8.50841043]\n",
      " [ 0.          0.         -1.21267813]]\n"
     ]
    }
   ],
   "source": [
    "Q, R = np.linalg.qr(coefficient_mat)\n",
    "print(\"Q:\")\n",
    "print(Q)\n",
    "print()\n",
    "print(\"R:\")\n",
    "print(R)"
   ]
  },
  {
   "cell_type": "markdown",
   "id": "094e2433-526f-4de3-8ba8-980bbf9f3e65",
   "metadata": {},
   "source": [
    "## 3. Eigenvalues and Eigenvectors"
   ]
  },
  {
   "cell_type": "code",
   "execution_count": 129,
   "id": "4e41fe1b-53fa-44a2-b467-73ba6dcacbfb",
   "metadata": {},
   "outputs": [],
   "source": [
    "eigenval, eigenvec = np.linalg.eig(coefficient_mat)"
   ]
  },
  {
   "cell_type": "code",
   "execution_count": 130,
   "id": "d1a27d01-16f0-4776-9b27-01a1f49f659d",
   "metadata": {},
   "outputs": [
    {
     "name": "stdout",
     "output_type": "stream",
     "text": [
      "Eigen Value:\n",
      "[11.37678579 -2.58607524  2.20928945]\n",
      "\n",
      "Eigen Vector:\n",
      "[[-0.5167845   0.67388003 -0.09228359]\n",
      " [ 0.30573385  0.46204645 -0.83417822]\n",
      " [ 0.7996628   0.57654035 -0.54371908]]\n"
     ]
    }
   ],
   "source": [
    "print(\"Eigen Value:\")\n",
    "print(eigenval)\n",
    "print()\n",
    "print(\"Eigen Vector:\")\n",
    "print(eigenvec)"
   ]
  },
  {
   "cell_type": "code",
   "execution_count": 131,
   "id": "a9c53aa7-c6ab-40bf-8a0f-2f640c16aa7f",
   "metadata": {},
   "outputs": [
    {
     "name": "stdout",
     "output_type": "stream",
     "text": [
      "Reconstructed:\n",
      "[[ 1.  6. -9.]\n",
      " [-4.  2.  1.]\n",
      " [-7. -3.  8.]]\n"
     ]
    }
   ],
   "source": [
    "recon = np.dot(eigenvec, np.diag(eigenval)).dot(np.linalg.inv(eigenvec))\n",
    "print(\"Reconstructed:\")\n",
    "print(recon)"
   ]
  },
  {
   "cell_type": "code",
   "execution_count": 132,
   "id": "766feab0-fd9f-4c99-afac-f139393ead3d",
   "metadata": {},
   "outputs": [
    {
     "name": "stdout",
     "output_type": "stream",
     "text": [
      "Both are Same\n"
     ]
    }
   ],
   "source": [
    "if np.allclose(recon, coefficient_mat):\n",
    "    print(\"Both are Same\")\n",
    "else:\n",
    "    print(\"Not Same\")"
   ]
  },
  {
   "cell_type": "markdown",
   "id": "d8077e93-13bb-4528-9e7f-bd0360d1b474",
   "metadata": {},
   "source": [
    "## 4. Vector Operations"
   ]
  },
  {
   "cell_type": "code",
   "execution_count": 133,
   "id": "c65e4808-8498-4d6a-829b-7a04f5e6c3b5",
   "metadata": {},
   "outputs": [
    {
     "name": "stdout",
     "output_type": "stream",
     "text": [
      "[7 3 1] [8 2 6]\n"
     ]
    }
   ],
   "source": [
    "v1 = np.array([7, 3, 1])\n",
    "v2 = np.array([8, 2, 6])\n",
    "print(v1, v2)"
   ]
  },
  {
   "cell_type": "markdown",
   "id": "14d810c1-45a9-4fed-9511-a02dedfb7ed4",
   "metadata": {},
   "source": [
    "### 🟡 Addition"
   ]
  },
  {
   "cell_type": "code",
   "execution_count": 134,
   "id": "ef32b631-a057-4957-9e30-c1be95b53ce6",
   "metadata": {},
   "outputs": [
    {
     "name": "stdout",
     "output_type": "stream",
     "text": [
      "[15  5  7]\n"
     ]
    }
   ],
   "source": [
    "addition = v1 +v2\n",
    "print(addition)"
   ]
  },
  {
   "cell_type": "markdown",
   "id": "6930636f-e23d-4485-9ed4-48e13a6df670",
   "metadata": {},
   "source": [
    "### 🟢 Subtraction"
   ]
  },
  {
   "cell_type": "code",
   "execution_count": 135,
   "id": "95709692-8bd8-4a10-9573-773bfb56b3b3",
   "metadata": {},
   "outputs": [
    {
     "name": "stdout",
     "output_type": "stream",
     "text": [
      "[ 1 -1  5]\n"
     ]
    }
   ],
   "source": [
    "subtraction = v2 - v1\n",
    "print(subtraction)"
   ]
  },
  {
   "cell_type": "markdown",
   "id": "712ac887-f232-41a8-a589-57d1c4368e99",
   "metadata": {},
   "source": [
    "### ⚫ Multiplication"
   ]
  },
  {
   "cell_type": "code",
   "execution_count": 136,
   "id": "37248b7b-0c86-4201-ba33-e8ed7196c80e",
   "metadata": {},
   "outputs": [
    {
     "name": "stdout",
     "output_type": "stream",
     "text": [
      "[56  6  6]\n"
     ]
    }
   ],
   "source": [
    "multiplication = v1 * v2\n",
    "print(multiplication)"
   ]
  },
  {
   "cell_type": "markdown",
   "id": "380381c7-ac96-4512-a4ea-523826c1c93a",
   "metadata": {},
   "source": [
    "### 🔘 Dot Product"
   ]
  },
  {
   "cell_type": "code",
   "execution_count": 137,
   "id": "60600897-adb8-4962-8f85-81efd54272b3",
   "metadata": {},
   "outputs": [
    {
     "name": "stdout",
     "output_type": "stream",
     "text": [
      "68\n"
     ]
    }
   ],
   "source": [
    "dot_prod = np.dot(v1, v2)\n",
    "print(dot_prod)"
   ]
  },
  {
   "cell_type": "markdown",
   "id": "0e160b18-83ab-4423-81ec-394214b274ec",
   "metadata": {},
   "source": [
    "### ⭕ Cross Product"
   ]
  },
  {
   "cell_type": "code",
   "execution_count": 138,
   "id": "f2e0c53a-273c-48bf-a42b-9962dc679f5a",
   "metadata": {},
   "outputs": [
    {
     "name": "stdout",
     "output_type": "stream",
     "text": [
      "[ 16 -34 -10]\n"
     ]
    }
   ],
   "source": [
    "cross_prod = np.cross(v1, v2)\n",
    "print(cross_prod)"
   ]
  },
  {
   "cell_type": "markdown",
   "id": "9866296c-70e2-460a-85a5-ad28f6bf7b35",
   "metadata": {},
   "source": [
    "### 🌑Vector normalization\n"
   ]
  },
  {
   "cell_type": "code",
   "execution_count": 139,
   "id": "4d37d1c5-e89c-41d5-b33e-0d7ce7d25d26",
   "metadata": {},
   "outputs": [
    {
     "name": "stdout",
     "output_type": "stream",
     "text": [
      "Normalized Vectors:\n",
      "Vector 1:\n",
      "[0.91132238 0.39056673 0.13018891]\n",
      "Vector 2:\n",
      "[0.78446454 0.19611614 0.58834841]\n"
     ]
    }
   ],
   "source": [
    "v1_normal = v1 / np.linalg.norm(v1)\n",
    "v2_normal = v2 / np.linalg.norm(v2)\n",
    "print(\"Normalized Vectors:\")\n",
    "print(\"Vector 1:\")\n",
    "print(v1_normal)\n",
    "print(\"Vector 2:\")\n",
    "print(v2_normal)"
   ]
  },
  {
   "cell_type": "markdown",
   "id": "2c2bcb8b-3cc6-4ca0-b945-15bf08bf845c",
   "metadata": {},
   "source": [
    "## 5. Matrix Decomposition"
   ]
  },
  {
   "cell_type": "code",
   "execution_count": 140,
   "id": "af277f70-2e65-478a-a4eb-c9ea00806fdb",
   "metadata": {},
   "outputs": [],
   "source": [
    "iris_df = pd.read_csv(\"Iris.csv\")"
   ]
  },
  {
   "cell_type": "code",
   "execution_count": 142,
   "id": "badd0445-06e8-4b01-8d4f-3a94ca563849",
   "metadata": {},
   "outputs": [],
   "source": [
    "le = LabelEncoder()\n",
    "iris_df['species'] = le.fit_transform(iris_df['Species'])\n",
    "\n",
    "scl = StandardScaler()\n",
    "iris_df_scl = scl.fit_transform(iris_df.drop('Species', axis=1))"
   ]
  },
  {
   "cell_type": "markdown",
   "id": "8e9ee41d-af03-4b0d-96f8-4cda70816c2e",
   "metadata": {},
   "source": [
    "### PCA using SVD:"
   ]
  },
  {
   "cell_type": "code",
   "execution_count": 149,
   "id": "16c5e2b5-ab68-45c0-b9d3-781de453b0f1",
   "metadata": {},
   "outputs": [],
   "source": [
    "U, s, Vh = np.linalg.svd(iris_df_scl, full_matrices=False)\n",
    "X_reconst = np.dot(U, np.diag(s)).dot(Vh)"
   ]
  },
  {
   "cell_type": "code",
   "execution_count": 150,
   "id": "1176fe08-4146-421d-874d-dd4618988f3b",
   "metadata": {},
   "outputs": [
    {
     "name": "stdout",
     "output_type": "stream",
     "text": [
      "Original data shape: (150, 7)\n",
      "Scaled data shape: (150, 6)\n",
      "U shape: (150, 6)\n",
      "Singular values (s): [26.50252364 11.75896291  6.18291866  3.6613837   2.16811868  1.73438162]\n",
      "Vh shape: (6, 6)\n",
      "Reconstructed data shape: (150, 6)\n"
     ]
    }
   ],
   "source": [
    "print(\"Original data shape:\", iris_df.shape)\n",
    "print(\"Scaled data shape:\", iris_df_scl.shape)\n",
    "print(\"U shape:\", U.shape)\n",
    "print(\"Singular values (s):\", s)\n",
    "print(\"Vh shape:\", Vh.shape)\n",
    "print(\"Reconstructed data shape:\", X_reconst.shape)\n"
   ]
  }
 ],
 "metadata": {
  "kernelspec": {
   "display_name": "Python 3 (ipykernel)",
   "language": "python",
   "name": "python3"
  },
  "language_info": {
   "codemirror_mode": {
    "name": "ipython",
    "version": 3
   },
   "file_extension": ".py",
   "mimetype": "text/x-python",
   "name": "python",
   "nbconvert_exporter": "python",
   "pygments_lexer": "ipython3",
   "version": "3.11.9"
  }
 },
 "nbformat": 4,
 "nbformat_minor": 5
}
