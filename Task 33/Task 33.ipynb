{
 "cells": [
  {
   "cell_type": "markdown",
   "id": "77ad79d6-56bb-48ac-ad82-8bd166b81394",
   "metadata": {},
   "source": [
    "# 🔴 Task 33-> Neural Networks Basics (Perceptron, Activation Functions)\n"
   ]
  },
  {
   "cell_type": "markdown",
   "id": "6686410d-e502-4904-a5db-741b020e6408",
   "metadata": {},
   "source": [
    "## Import the Necessary Libraries"
   ]
  },
  {
   "cell_type": "code",
   "execution_count": 76,
   "id": "3fba19cb-5b00-4dbf-9802-2d21169582b7",
   "metadata": {},
   "outputs": [],
   "source": [
    "import numpy as np"
   ]
  },
  {
   "cell_type": "markdown",
   "id": "240d70b9-d57b-434e-a776-9749074bea7d",
   "metadata": {},
   "source": [
    "## Introduce the Activation (Sigmoid & it's Derivative) methods & The Neural Network (Took fromt the Web)"
   ]
  },
  {
   "cell_type": "code",
   "execution_count": 86,
   "id": "d9d0aa62-56f3-4e23-81c7-cd63c70dc23f",
   "metadata": {},
   "outputs": [],
   "source": [
    "def sigmoid(x):\n",
    "    return 1 / (1 + np.exp(-x))\n",
    "\n",
    "def sigmoid_derivative(x):\n",
    "    return x * (1 - x)\n",
    "\n",
    "def relu(x):\n",
    "    return np.maximum(0, x)\n",
    "\n",
    "def relu_derivative(x):\n",
    "    return np.where(x > 0, 1, 0)\n",
    "\n",
    "# Mean Squared Error loss\n",
    "def mse(y_true, y_pred):\n",
    "    return np.mean((y_true - y_pred) ** 2)"
   ]
  },
  {
   "cell_type": "code",
   "execution_count": 87,
   "id": "29d5342e-f801-41bf-8557-4ae2aa6d19aa",
   "metadata": {},
   "outputs": [],
   "source": [
    "class NeuralNetwork:\n",
    "    def __init__(self, input_size, hidden_size, output_size, activation='sigmoid'):\n",
    "        # Initialize weights and biases\n",
    "        self.weights_input_hidden = np.random.randn(input_size, hidden_size)\n",
    "        self.weights_hidden_output = np.random.randn(hidden_size, output_size)\n",
    "        self.bias_hidden = np.zeros((1, hidden_size))\n",
    "        self.bias_output = np.zeros((1, output_size))\n",
    "        \n",
    "        # Set activation function\n",
    "        if activation == 'sigmoid':\n",
    "            self.activation = sigmoid\n",
    "            self.activation_derivative = sigmoid_derivative\n",
    "        elif activation == 'relu':\n",
    "            self.activation = relu\n",
    "            self.activation_derivative = relu_derivative\n",
    "        else:\n",
    "            raise ValueError(\"Unsupported activation function\")\n",
    "    \n",
    "    def forward(self, X):\n",
    "        # Forward pass\n",
    "        self.hidden_input = np.dot(X, self.weights_input_hidden) + self.bias_hidden\n",
    "        self.hidden_output = self.activation(self.hidden_input)\n",
    "        self.output_input = np.dot(self.hidden_output, self.weights_hidden_output) + self.bias_output\n",
    "        self.output = self.output_input  # For regression, we don't apply an activation function here\n",
    "        return self.output\n",
    "    \n",
    "    def backward(self, X, y, output, learning_rate):\n",
    "        # Backward pass\n",
    "        output_error = y - output\n",
    "        output_delta = output_error\n",
    "        \n",
    "        hidden_error = output_delta.dot(self.weights_hidden_output.T)\n",
    "        hidden_delta = hidden_error * self.activation_derivative(self.hidden_output)\n",
    "        \n",
    "        # Update weights and biases\n",
    "        self.weights_hidden_output += self.hidden_output.T.dot(output_delta) * learning_rate\n",
    "        self.bias_output += np.sum(output_delta, axis=0, keepdims=True) * learning_rate\n",
    "        self.weights_input_hidden += X.T.dot(hidden_delta) * learning_rate\n",
    "        self.bias_hidden += np.sum(hidden_delta, axis=0, keepdims=True) * learning_rate\n",
    "    \n",
    "    def train(self, X, y, epochs, learning_rate):\n",
    "        for epoch in range(epochs):\n",
    "            output = self.forward(X)\n",
    "            loss = mse(y, output)\n",
    "            self.backward(X, y, output, learning_rate)\n",
    "            if (epoch + 1) % 100 == 0:\n",
    "                print(f'Epoch {epoch + 1}/{epochs}, Loss: {loss}')"
   ]
  },
  {
   "cell_type": "markdown",
   "id": "2e3cb8e7-22bf-47f6-832d-2b17ee88cdc6",
   "metadata": {},
   "source": [
    "## Test Parameters"
   ]
  },
  {
   "cell_type": "code",
   "execution_count": 93,
   "id": "5598a2d6-4297-4eaa-b014-f952881885ef",
   "metadata": {},
   "outputs": [],
   "source": [
    "if __name__ == \"__main__\":\n",
    "    X = np.array([[0], [1], [2], [3], [4]])\n",
    "    y = np.array([[0], [1], [4], [9], [16]])\n",
    "    x = X / np.max(X)\n",
    "    Y = y / np.max(y)"
   ]
  },
  {
   "cell_type": "markdown",
   "id": "4beae06b-703b-4113-ac63-58a059b061d4",
   "metadata": {},
   "source": [
    "## Now, Create and Train the Neural Network"
   ]
  },
  {
   "cell_type": "code",
   "execution_count": 95,
   "id": "a26d3d5c-9ea7-45bf-a882-e5d938cb9d27",
   "metadata": {},
   "outputs": [
    {
     "name": "stdout",
     "output_type": "stream",
     "text": [
      "Epoch 100/1000, Loss: 0.015750892750584604\n",
      "Epoch 200/1000, Loss: 0.011816950083321186\n",
      "Epoch 300/1000, Loss: 0.009580782812241525\n",
      "Epoch 400/1000, Loss: 0.008014768050369398\n",
      "Epoch 500/1000, Loss: 0.006847603652557851\n",
      "Epoch 600/1000, Loss: 0.005931503829194812\n",
      "Epoch 700/1000, Loss: 0.005185491087635459\n",
      "Epoch 800/1000, Loss: 0.004562407749478903\n",
      "Epoch 900/1000, Loss: 0.0040328406340519474\n",
      "Epoch 1000/1000, Loss: 0.003577253445546572\n"
     ]
    }
   ],
   "source": [
    "nn = NeuralNetwork(input_size, hidden_size, output_size)\n",
    "nn.train(x, Y, epochs=1000, learning_rate=0.1)"
   ]
  },
  {
   "cell_type": "markdown",
   "id": "995891e4-7d87-4bde-9b1c-209df3ab042d",
   "metadata": {},
   "source": [
    "## Output the Predictions"
   ]
  },
  {
   "cell_type": "code",
   "execution_count": 98,
   "id": "3b26ef67-e998-4278-a16d-7ee14192eff3",
   "metadata": {},
   "outputs": [
    {
     "name": "stdout",
     "output_type": "stream",
     "text": [
      "Predictions: [[-0.07450969]\n",
      " [ 0.93080143]\n",
      " [ 1.88104742]\n",
      " [ 2.10361717]\n",
      " [ 2.13408529]]\n"
     ]
    }
   ],
   "source": [
    "predictions = nn.forward(X)\n",
    "print(\"Predictions:\", predictions)"
   ]
  }
 ],
 "metadata": {
  "kernelspec": {
   "display_name": "Python 3 (ipykernel)",
   "language": "python",
   "name": "python3"
  },
  "language_info": {
   "codemirror_mode": {
    "name": "ipython",
    "version": 3
   },
   "file_extension": ".py",
   "mimetype": "text/x-python",
   "name": "python",
   "nbconvert_exporter": "python",
   "pygments_lexer": "ipython3",
   "version": "3.11.9"
  }
 },
 "nbformat": 4,
 "nbformat_minor": 5
}
