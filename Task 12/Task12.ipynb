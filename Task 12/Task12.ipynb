{
 "cells": [
  {
   "cell_type": "markdown",
   "id": "4f20e61f-5e16-48a4-8549-a6e38aa2b6b7",
   "metadata": {},
   "source": [
    "# 🔴 Task 12: Introduction to Pandas (Series, DataFrame basics)"
   ]
  },
  {
   "cell_type": "markdown",
   "id": "16cba64a-4869-45f2-9e04-3fbf3702d5df",
   "metadata": {},
   "source": [
    "#### 1. Create a Pandas Series from a Python list, numpy array, and a dictionary."
   ]
  },
  {
   "cell_type": "code",
   "execution_count": 1,
   "id": "888807bc-a177-4f06-88e1-63e542cc0bfe",
   "metadata": {},
   "outputs": [],
   "source": [
    "import numpy as np\n",
    "import pandas as pd"
   ]
  },
  {
   "cell_type": "code",
   "execution_count": 2,
   "id": "063586b2-1037-40c4-a938-672dda11bd83",
   "metadata": {},
   "outputs": [
    {
     "name": "stdout",
     "output_type": "stream",
     "text": [
      "0    1\n",
      "1    2\n",
      "2    3\n",
      "3    4\n",
      "4    5\n",
      "dtype: int64\n",
      "0     6\n",
      "1     7\n",
      "2     8\n",
      "3     9\n",
      "4    10\n",
      "dtype: int64\n",
      "a    11\n",
      "b    12\n",
      "c    13\n",
      "d    14\n",
      "e    15\n",
      "dtype: int64\n"
     ]
    }
   ],
   "source": [
    "arr1 = np.array([1, 2, 3, 4, 5])\n",
    "arr2 = np.array([6, 7, 8, 9, 10])\n",
    "dict1 = {'a': 11, 'b': 12, 'c': 13, 'd': 14, 'e': 15}\n",
    "\n",
    "pd_series1 = pd.Series(arr1)\n",
    "pd_series2 = pd.Series(arr2)\n",
    "pd_series3 = pd.Series(dict1)\n",
    "\n",
    "print(pd_series1)\n",
    "print(pd_series2)\n",
    "print(pd_series3)"
   ]
  },
  {
   "cell_type": "markdown",
   "id": "42ebb900-f63b-492e-9fe3-2df0df94b96e",
   "metadata": {},
   "source": [
    "#### 2. Assign a custom index to the Series."
   ]
  },
  {
   "cell_type": "code",
   "execution_count": 3,
   "id": "5c2ccb8d-808c-4a72-bdfe-a294f3b9f3aa",
   "metadata": {},
   "outputs": [
    {
     "name": "stdout",
     "output_type": "stream",
     "text": [
      "a    1\n",
      "b    2\n",
      "c    3\n",
      "d    4\n",
      "e    5\n",
      "dtype: int64\n",
      "a     6\n",
      "b     7\n",
      "c     8\n",
      "d     9\n",
      "e    10\n",
      "dtype: int64\n",
      "a    11\n",
      "b    12\n",
      "c    13\n",
      "d    14\n",
      "e    15\n",
      "dtype: int64\n"
     ]
    }
   ],
   "source": [
    "custom_index = ['a', 'b', 'c', 'd', 'e']\n",
    "pd_series1 = pd.Series(arr1, index=custom_index)\n",
    "pd_series2 = pd.Series(arr2, index=custom_index)\n",
    "pd_series3 = pd.Series(dict1, index=custom_index)\n",
    "\n",
    "print(pd_series1)\n",
    "print(pd_series2)\n",
    "print(pd_series3)"
   ]
  },
  {
   "cell_type": "markdown",
   "id": "9f9533cc-51ca-463f-b2f3-0e4b59d7c632",
   "metadata": {},
   "source": [
    "#### 3. Perform basic arithmetic operations on Series."
   ]
  },
  {
   "cell_type": "code",
   "execution_count": 4,
   "id": "bdc20075-dd86-4dfd-a9cc-f932e57e9660",
   "metadata": {},
   "outputs": [
    {
     "name": "stdout",
     "output_type": "stream",
     "text": [
      "a    5\n",
      "b    5\n",
      "c    5\n",
      "d    5\n",
      "e    5\n",
      "dtype: int64\n",
      "a    10\n",
      "b    10\n",
      "c    10\n",
      "d    10\n",
      "e    10\n",
      "dtype: int64\n",
      "a     66\n",
      "b     84\n",
      "c    104\n",
      "d    126\n",
      "e    150\n",
      "dtype: int64\n",
      "a    11.000000\n",
      "b     6.000000\n",
      "c     4.333333\n",
      "d     3.500000\n",
      "e     3.000000\n",
      "dtype: float64\n"
     ]
    }
   ],
   "source": [
    "pd_series4 = pd_series2 - pd_series1\n",
    "pd_series5 = pd_series3 - pd_series1\n",
    "pd_series6 = pd_series2 * pd_series3\n",
    "pd_series7 = pd_series3 / pd_series1\n",
    "\n",
    "print(pd_series4)\n",
    "print(pd_series5)\n",
    "print(pd_series6)\n",
    "print(pd_series7)"
   ]
  },
  {
   "cell_type": "markdown",
   "id": "dd0504fa-4d7a-448c-b5b8-89775ee96771",
   "metadata": {},
   "source": [
    "#### 4. Access elements using index labels and positions."
   ]
  },
  {
   "cell_type": "code",
   "execution_count": 5,
   "id": "c28c6b38-059d-4b43-84fc-d33b4cdff508",
   "metadata": {},
   "outputs": [
    {
     "name": "stdout",
     "output_type": "stream",
     "text": [
      "Index Labels:\n",
      "2\n",
      "9\n",
      "13\n",
      "Index Positions:\n",
      "2\n",
      "9\n",
      "13\n"
     ]
    }
   ],
   "source": [
    "print(\"Index Labels:\")\n",
    "print(pd_series1['b'])\n",
    "print(pd_series2['d'])\n",
    "print(pd_series3['c'])\n",
    "\n",
    "print(\"Index Positions:\")\n",
    "print(pd_series1.iloc[1])\n",
    "print(pd_series2.iloc[3])\n",
    "print(pd_series3.iloc[2])"
   ]
  },
  {
   "cell_type": "markdown",
   "id": "29663b6f-3900-4c50-a275-0856606e4268",
   "metadata": {},
   "source": [
    "#### 5. Filter the Series to include only values greater than a specific threshold."
   ]
  },
  {
   "cell_type": "code",
   "execution_count": 6,
   "id": "1c5bb1dd-ae1e-422b-8e41-c7a2d5d24a9c",
   "metadata": {},
   "outputs": [
    {
     "name": "stdout",
     "output_type": "stream",
     "text": [
      "c    3\n",
      "d    4\n",
      "e    5\n",
      "dtype: int64\n",
      "a     6\n",
      "b     7\n",
      "c     8\n",
      "d     9\n",
      "e    10\n",
      "dtype: int64\n",
      "a    11\n",
      "b    12\n",
      "c    13\n",
      "d    14\n",
      "e    15\n",
      "dtype: int64\n"
     ]
    }
   ],
   "source": [
    "fil_ser1 = pd_series1[pd_series1 > 2]\n",
    "fil_ser2 = pd_series2[pd_series2 > 5]\n",
    "fil_ser3 = pd_series3[pd_series3 > 7]\n",
    "\n",
    "print(fil_ser1)\n",
    "print(fil_ser2)\n",
    "print(fil_ser3)"
   ]
  },
  {
   "cell_type": "markdown",
   "id": "fa12ff1b-e07b-43d8-9a72-09551154352e",
   "metadata": {},
   "source": [
    "#### 6. Create a DataFrame from a dictionary of lists."
   ]
  },
  {
   "cell_type": "code",
   "execution_count": 7,
   "id": "656ba19d-6b65-46bf-854e-b0aaf0b9eb7a",
   "metadata": {},
   "outputs": [
    {
     "name": "stdout",
     "output_type": "stream",
     "text": [
      "   Roll Number    Name  Age Discpline\n",
      "0            4  Subhan   20        CS\n",
      "1            8   Ahmad   19        CS\n",
      "2            9    Umer   19       FSC\n",
      "3           12  Nauman   20        CS\n",
      "4           15   Asher   24        DS\n"
     ]
    }
   ],
   "source": [
    "std_data = {\n",
    "    \"Roll Number\" : [4, 8, 9, 12, 15],\n",
    "    \"Name\" : ['Subhan', 'Ahmad', 'Umer', 'Nauman', 'Asher'],\n",
    "    \"Age\" : [20, 19, 19, 20, 24],\n",
    "    \"Discpline\" : ['CS', 'CS', 'FSC', 'CS', 'DS']\n",
    "}\n",
    "std_dataFrame = pd.DataFrame(std_data)\n",
    "print(std_dataFrame)"
   ]
  },
  {
   "cell_type": "markdown",
   "id": "92701625-66bb-479e-b80a-b87329b10fb7",
   "metadata": {},
   "source": [
    "#### 7. Create a DataFrame from a numpy array, specifying column and index names."
   ]
  },
  {
   "cell_type": "code",
   "execution_count": 8,
   "id": "19e2fc31-253d-48c5-9b77-076d1d381fa8",
   "metadata": {},
   "outputs": [
    {
     "name": "stdout",
     "output_type": "stream",
     "text": [
      "   A  B   C   D   E\n",
      "1  4  7   9   6  11\n",
      "2  2  8   4  10  16\n",
      "3  1  3  14  21  30\n"
     ]
    }
   ],
   "source": [
    "arr3 = np.array([[4, 7, 9, 6, 11],[2, 8, 4, 10, 16],[1, 3, 14, 21, 30]])\n",
    "arr3_dataFrame = pd.DataFrame(arr3, columns=['A', 'B', 'C', 'D','E'], index=['1', '2', '3'])\n",
    "print(arr3_dataFrame)"
   ]
  },
  {
   "cell_type": "markdown",
   "id": "52131488-3da2-4757-ac01-cae29ce886b9",
   "metadata": {},
   "source": [
    "#### 8. Load a DataFrame from a CSV file."
   ]
  },
  {
   "cell_type": "code",
   "execution_count": 9,
   "id": "f28d7481-c7dd-46b3-8e84-4836c4f674ff",
   "metadata": {},
   "outputs": [
    {
     "name": "stdout",
     "output_type": "stream",
     "text": [
      "     Year\n",
      "0    2023\n",
      "1    2022\n",
      "2    2021\n",
      "3    2020\n",
      "4    2019\n",
      "..    ...\n",
      "98   1925\n",
      "99   1924\n",
      "100  1923\n",
      "101  1922\n",
      "102  1921\n",
      "\n",
      "[103 rows x 1 columns]\n"
     ]
    }
   ],
   "source": [
    "import_dataFrame = pd.read_csv('year-past.csv')\n",
    "print(import_dataFrame)"
   ]
  },
  {
   "cell_type": "markdown",
   "id": "61689591-e4ef-4a95-8f1a-c49235fd6e52",
   "metadata": {},
   "source": [
    "#### 9. Display the first and last five rows of the DataFrame."
   ]
  },
  {
   "cell_type": "code",
   "execution_count": 10,
   "id": "fd7dad27-8386-4e5f-b847-930f05ff34cd",
   "metadata": {},
   "outputs": [
    {
     "name": "stdout",
     "output_type": "stream",
     "text": [
      "First 5 rows:\n",
      "   Year\n",
      "0  2023\n",
      "1  2022\n",
      "2  2021\n",
      "3  2020\n",
      "4  2019\n",
      "\n",
      "Last 5 rows:\n",
      "     Year\n",
      "98   1925\n",
      "99   1924\n",
      "100  1923\n",
      "101  1922\n",
      "102  1921\n"
     ]
    }
   ],
   "source": [
    "print(\"First 5 rows:\")\n",
    "print(import_dataFrame.head())\n",
    "print()\n",
    "\n",
    "print(\"Last 5 rows:\")\n",
    "print(import_dataFrame.tail())"
   ]
  },
  {
   "cell_type": "markdown",
   "id": "bd7b0d2b-4e17-490c-bc95-8fc67dfdd6c2",
   "metadata": {},
   "source": [
    "#### 10. Get a summary of the DataFrame including the mean, median, and standard deviation of numeric columns."
   ]
  },
  {
   "cell_type": "code",
   "execution_count": 11,
   "id": "eec3d73e-c32d-4448-9334-e8b344c4ac3b",
   "metadata": {},
   "outputs": [
    {
     "name": "stdout",
     "output_type": "stream",
     "text": [
      "              Year\n",
      "count   103.000000\n",
      "mean   1972.000000\n",
      "std      29.877528\n",
      "min    1921.000000\n",
      "25%    1946.500000\n",
      "50%    1972.000000\n",
      "75%    1997.500000\n",
      "max    2023.000000\n"
     ]
    }
   ],
   "source": [
    "sum_dataFrame = import_dataFrame.describe()\n",
    "print(sum_dataFrame)"
   ]
  },
  {
   "cell_type": "markdown",
   "id": "af96f762-aaf5-43db-ad1b-cef57fd55821",
   "metadata": {},
   "source": [
    "#### 11.Extract a specific column as a Series."
   ]
  },
  {
   "cell_type": "code",
   "execution_count": 12,
   "id": "11229823-6a98-4779-a701-defc6288e236",
   "metadata": {},
   "outputs": [
    {
     "name": "stdout",
     "output_type": "stream",
     "text": [
      "0      2023\n",
      "1      2022\n",
      "2      2021\n",
      "3      2020\n",
      "4      2019\n",
      "       ... \n",
      "98     1925\n",
      "99     1924\n",
      "100    1923\n",
      "101    1922\n",
      "102    1921\n",
      "Name: Year, Length: 103, dtype: int64\n"
     ]
    }
   ],
   "source": [
    "age_series = import_dataFrame.Year\n",
    "print(age_series)"
   ]
  },
  {
   "cell_type": "markdown",
   "id": "64d2e656-b76d-41ac-9369-c00553b192c7",
   "metadata": {},
   "source": [
    "#### 12.Filter rows based on column values."
   ]
  },
  {
   "cell_type": "code",
   "execution_count": 19,
   "id": "2277d69c-de0c-4bb4-ab7b-5e12d73d40be",
   "metadata": {},
   "outputs": [
    {
     "name": "stdout",
     "output_type": "stream",
     "text": [
      "Rows where Year is 2023:\n",
      "0       True\n",
      "1      False\n",
      "2      False\n",
      "3      False\n",
      "4      False\n",
      "       ...  \n",
      "98     False\n",
      "99     False\n",
      "100    False\n",
      "101    False\n",
      "102    False\n",
      "Name: Year, Length: 103, dtype: bool\n",
      "\n"
     ]
    }
   ],
   "source": [
    "rows_2023 = importDataFrame['Year'] == 2023\n",
    "print(\"Rows where Year is 2023:\")\n",
    "print(rows_2023)\n",
    "print()"
   ]
  },
  {
   "cell_type": "markdown",
   "id": "072f5f15-167a-4bad-9ba3-f6cf60d475de",
   "metadata": {},
   "source": [
    "#### 13. Select rows based on multiple conditions."
   ]
  },
  {
   "cell_type": "code",
   "execution_count": 25,
   "id": "95cf78a9-c8fa-4b6b-a131-663c2f2c8a48",
   "metadata": {},
   "outputs": [
    {
     "name": "stdout",
     "output_type": "stream",
     "text": [
      "Rows where Year is between 2020 and 2010 (inclusive):\n",
      "    Year\n",
      "3   2020\n",
      "4   2019\n",
      "5   2018\n",
      "6   2017\n",
      "7   2016\n",
      "8   2015\n",
      "9   2014\n",
      "10  2013\n",
      "11  2012\n",
      "12  2011\n",
      "13  2010\n"
     ]
    }
   ],
   "source": [
    "rows_2020_2010 = importDataFrame[(importDataFrame['Year'] >= 2010) & (importDataFrame['Year'] <= 2020)]\n",
    "print(\"Rows where Year is between 2020 and 2010 (inclusive):\")\n",
    "print(rows_2020_2010)\n"
   ]
  },
  {
   "cell_type": "markdown",
   "id": "48462545-13cc-4e0c-8772-161add782073",
   "metadata": {},
   "source": [
    "#### 14. Add a new column to the DataFrame."
   ]
  },
  {
   "cell_type": "code",
   "execution_count": 28,
   "id": "fe3b1f72-0ee3-43bd-9071-6bb279b3bb31",
   "metadata": {},
   "outputs": [
    {
     "name": "stdout",
     "output_type": "stream",
     "text": [
      "     Year  Century\n",
      "0    2023       21\n",
      "1    2022       21\n",
      "2    2021       21\n",
      "3    2020       21\n",
      "4    2019       21\n",
      "..    ...      ...\n",
      "98   1925       20\n",
      "99   1924       20\n",
      "100  1923       20\n",
      "101  1922       20\n",
      "102  1921       20\n",
      "\n",
      "[103 rows x 2 columns]\n"
     ]
    }
   ],
   "source": [
    "importDataFrame['Century'] = (importDataFrame['Year'] - 1) // 100 + 1\n",
    "print(importDataFrame)"
   ]
  },
  {
   "cell_type": "markdown",
   "id": "fa02bc90-ae0b-4963-bae4-0d28a80775e2",
   "metadata": {},
   "source": [
    "#### 15. Delete a column from the DataFrame."
   ]
  },
  {
   "cell_type": "code",
   "execution_count": 30,
   "id": "a783315d-ae7e-41d9-86e3-0fbbed85b467",
   "metadata": {},
   "outputs": [
    {
     "name": "stdout",
     "output_type": "stream",
     "text": [
      "     Year\n",
      "0    2023\n",
      "1    2022\n",
      "2    2021\n",
      "3    2020\n",
      "4    2019\n",
      "..    ...\n",
      "98   1925\n",
      "99   1924\n",
      "100  1923\n",
      "101  1922\n",
      "102  1921\n",
      "\n",
      "[103 rows x 1 columns]\n"
     ]
    }
   ],
   "source": [
    "importDataFrame = importDataFrame.drop('Century', axis=1)\n",
    "print(importDataFrame2)"
   ]
  },
  {
   "cell_type": "markdown",
   "id": "ec5a0d5e-37a4-4537-9763-402cd5b1b1a3",
   "metadata": {},
   "source": [
    "#### 16. Rename columns in the DataFrame."
   ]
  },
  {
   "cell_type": "code",
   "execution_count": 33,
   "id": "c52f3d2a-2973-4056-ae20-edd471918973",
   "metadata": {},
   "outputs": [
    {
     "name": "stdout",
     "output_type": "stream",
     "text": [
      "     Date\n",
      "0    2023\n",
      "1    2022\n",
      "2    2021\n",
      "3    2020\n",
      "4    2019\n",
      "..    ...\n",
      "98   1925\n",
      "99   1924\n",
      "100  1923\n",
      "101  1922\n",
      "102  1921\n",
      "\n",
      "[103 rows x 1 columns]\n"
     ]
    }
   ],
   "source": [
    "importDataFrame = importDataFrame.rename(columns={'Year': 'Date'})\n",
    "print(importDataFrame)"
   ]
  }
 ],
 "metadata": {
  "kernelspec": {
   "display_name": "Python 3 (ipykernel)",
   "language": "python",
   "name": "python3"
  },
  "language_info": {
   "codemirror_mode": {
    "name": "ipython",
    "version": 3
   },
   "file_extension": ".py",
   "mimetype": "text/x-python",
   "name": "python",
   "nbconvert_exporter": "python",
   "pygments_lexer": "ipython3",
   "version": "3.11.9"
  }
 },
 "nbformat": 4,
 "nbformat_minor": 5
}
