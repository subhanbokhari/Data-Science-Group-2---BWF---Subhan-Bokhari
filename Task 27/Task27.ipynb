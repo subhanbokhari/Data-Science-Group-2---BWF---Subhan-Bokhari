{
 "cells": [
  {
   "cell_type": "markdown",
   "id": "f56037a5-0b80-456f-8691-e42d510dd78d",
   "metadata": {},
   "source": [
    "# 🔴 Task 27-> Evaluation Techniques for classification models"
   ]
  },
  {
   "cell_type": "markdown",
   "id": "943e04f9-f1bd-47a1-b8cd-2cc63f28ec25",
   "metadata": {},
   "source": [
    "### Objective :- Train a classification model on the Iris dataset and evaluate its performance using a range of metrics, including confusion matrix, accuracy, precision, recall, F1 score, ROC curve, and cross-validation."
   ]
  },
  {
   "cell_type": "markdown",
   "id": "b73be7fb-8290-47ce-ab73-b26e877ca528",
   "metadata": {},
   "source": [
    "#### Import the Libraries"
   ]
  },
  {
   "cell_type": "code",
   "execution_count": null,
   "id": "20ead81a-3178-4183-8a99-1b943280cc26",
   "metadata": {},
   "outputs": [],
   "source": []
  }
 ],
 "metadata": {
  "kernelspec": {
   "display_name": "Python 3 (ipykernel)",
   "language": "python",
   "name": "python3"
  },
  "language_info": {
   "codemirror_mode": {
    "name": "ipython",
    "version": 3
   },
   "file_extension": ".py",
   "mimetype": "text/x-python",
   "name": "python",
   "nbconvert_exporter": "python",
   "pygments_lexer": "ipython3",
   "version": "3.11.9"
  }
 },
 "nbformat": 4,
 "nbformat_minor": 5
}
