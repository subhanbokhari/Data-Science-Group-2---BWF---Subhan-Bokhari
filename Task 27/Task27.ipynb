{
 "cells": [
  {
   "cell_type": "markdown",
   "id": "f56037a5-0b80-456f-8691-e42d510dd78d",
   "metadata": {},
   "source": [
    "# 🔴 **Task 27**-> Evaluation Techniques for classification models"
   ]
  },
  {
   "cell_type": "markdown",
   "id": "943e04f9-f1bd-47a1-b8cd-2cc63f28ec25",
   "metadata": {},
   "source": [
    "### **Objective** :- Train a classification model on the Iris dataset and evaluate its performance using a range of metrics, including confusion matrix, accuracy, precision, recall, F1 score, ROC curve, and cross-validation."
   ]
  },
  {
   "cell_type": "markdown",
   "id": "b73be7fb-8290-47ce-ab73-b26e877ca528",
   "metadata": {},
   "source": [
    "####  🌟Import the Libraries"
   ]
  },
  {
   "cell_type": "code",
   "execution_count": 49,
   "id": "20ead81a-3178-4183-8a99-1b943280cc26",
   "metadata": {},
   "outputs": [],
   "source": [
    "import numpy as np\n",
    "import pandas as pd\n",
    "from sklearn.model_selection import train_test_split\n",
    "from sklearn.linear_model import LogisticRegression\n",
    "from sklearn.metrics import confusion_matrix, accuracy_score, precision_score, recall_score, f1_score, roc_curve, auc, classification_report\n",
    "from sklearn.model_selection import cross_val_score\n",
    "from sklearn.preprocessing import LabelEncoder, StandardScaler\n",
    "from sklearn.preprocessing import OneHotEncoder"
   ]
  },
  {
   "cell_type": "markdown",
   "id": "d4163bf7-1b6f-4b25-8086-a8ee22822ad3",
   "metadata": {},
   "source": [
    "####  🌟Load and Adjust Data to make it Useful"
   ]
  },
  {
   "cell_type": "code",
   "execution_count": 55,
   "id": "c8af560c-b60f-45f0-a197-30270702504b",
   "metadata": {},
   "outputs": [],
   "source": [
    "titanic_df = pd.read_csv(\"titanic.csv\")\n",
    "titanic_df = titanic_df.dropna()\n",
    "numerical_features = ['Age', 'Fare']\n",
    "scaler = StandardScaler()\n",
    "X_scaled = scaler.fit_transform(titanic_df[numerical_features])\n",
    "df_scaled = pd.DataFrame(X_scaled, columns=numerical_features, index=titanic_df.index)"
   ]
  },
  {
   "cell_type": "markdown",
   "id": "a8407788-98d7-43dd-926c-6b79e0d98448",
   "metadata": {},
   "source": [
    "#### 🌟Split the dataset into training and testing sets"
   ]
  },
  {
   "cell_type": "code",
   "execution_count": 61,
   "id": "63569fc9-71f8-493a-8b44-e886a6a482b4",
   "metadata": {},
   "outputs": [],
   "source": [
    "X = pd.concat([df_scaled, titanic_df[['Pclass', 'SibSp', 'Parch']]], axis=1)\n",
    "y = titanic_df['Survived']\n",
    "\n",
    "X_train, X_test, y_train, y_test = train_test_split(X, y, test_size=0.2, random_state=42)"
   ]
  },
  {
   "cell_type": "markdown",
   "id": "8f1fee45-c14d-4a46-979f-21c07a4514bf",
   "metadata": {},
   "source": [
    "#### 🌟Train a Logistic Regression model"
   ]
  },
  {
   "cell_type": "code",
   "execution_count": 65,
   "id": "20548705-9eb1-49f5-8542-f97da4c4acd6",
   "metadata": {},
   "outputs": [
    {
     "name": "stdout",
     "output_type": "stream",
     "text": [
      "Accuracy: 0.7027027027027027\n"
     ]
    }
   ],
   "source": [
    "model = LogisticRegression()\n",
    "model.fit(X_train, y_train)\n",
    "y_pred = model.predict(X_test)\n",
    "print(f'Accuracy: {model.score(X_test, y_test)}')"
   ]
  },
  {
   "cell_type": "markdown",
   "id": "d1453c0c-8fc4-4841-adf4-6654ec7da774",
   "metadata": {},
   "source": [
    "#### 🌟Confusion Matrix"
   ]
  },
  {
   "cell_type": "code",
   "execution_count": 67,
   "id": "afa531ea-a035-4fae-af5d-92e8cfee43ca",
   "metadata": {},
   "outputs": [
    {
     "name": "stdout",
     "output_type": "stream",
     "text": [
      "Confusion Matrix:\n",
      "[[ 3 11]\n",
      " [ 0 23]]\n"
     ]
    }
   ],
   "source": [
    "cm = confusion_matrix(y_test, y_pred)\n",
    "print(\"Confusion Matrix:\")\n",
    "print(cm)"
   ]
  },
  {
   "cell_type": "markdown",
   "id": "7d6ed7a4-0cbd-49e6-a3a6-3ac90456b2bb",
   "metadata": {},
   "source": [
    "#### 🌟 Accuracy"
   ]
  },
  {
   "cell_type": "code",
   "execution_count": 69,
   "id": "7dd0b277-c279-4d7f-ab3a-eef271ca8c79",
   "metadata": {},
   "outputs": [
    {
     "name": "stdout",
     "output_type": "stream",
     "text": [
      "Accuracy: 0.7027027027027027\n"
     ]
    }
   ],
   "source": [
    "accuracy = accuracy_score(y_test, y_pred)\n",
    "print(\"Accuracy:\", accuracy)"
   ]
  },
  {
   "cell_type": "markdown",
   "id": "061e7995-82e1-4c68-8f87-0e3175bb48a7",
   "metadata": {},
   "source": [
    "#### 🌟Precision"
   ]
  },
  {
   "cell_type": "code",
   "execution_count": 70,
   "id": "ec6c2b11-d932-4433-8ceb-e2cd41858e11",
   "metadata": {},
   "outputs": [
    {
     "name": "stdout",
     "output_type": "stream",
     "text": [
      "Precision: 0.6764705882352942\n"
     ]
    }
   ],
   "source": [
    "precision = precision_score(y_test, y_pred)\n",
    "print(\"Precision:\", precision)"
   ]
  },
  {
   "cell_type": "markdown",
   "id": "c7849883-383d-4e02-a601-fb0c70f98f61",
   "metadata": {},
   "source": [
    "#### 🌟Recall (Sensitivity)"
   ]
  },
  {
   "cell_type": "code",
   "execution_count": 72,
   "id": "2165382b-4039-4f4e-bb3e-212644465d99",
   "metadata": {},
   "outputs": [
    {
     "name": "stdout",
     "output_type": "stream",
     "text": [
      "Recall: 1.0\n"
     ]
    }
   ],
   "source": [
    "recall = recall_score(y_test, y_pred)\n",
    "print(\"Recall:\", recall)"
   ]
  },
  {
   "cell_type": "markdown",
   "id": "78d50c3d-00b3-49ea-9012-5426d97c914a",
   "metadata": {},
   "source": [
    "#### 🌟F1 Score"
   ]
  },
  {
   "cell_type": "code",
   "execution_count": 73,
   "id": "ee4d1d30-ce8a-42d7-b2fb-e0ade55b22e1",
   "metadata": {},
   "outputs": [
    {
     "name": "stdout",
     "output_type": "stream",
     "text": [
      "F1 Score: 0.8070175438596491\n"
     ]
    }
   ],
   "source": [
    "f1 = f1_score(y_test, y_pred)\n",
    "print(\"F1 Score:\", f1)"
   ]
  },
  {
   "cell_type": "markdown",
   "id": "41fefb1d-01f1-4ebf-a1fa-0903c8759836",
   "metadata": {},
   "source": [
    "#### 🌟ROC Curve and AUC"
   ]
  },
  {
   "cell_type": "code",
   "execution_count": 74,
   "id": "774861ef-8784-46c4-88db-1961d87fcde8",
   "metadata": {},
   "outputs": [
    {
     "name": "stdout",
     "output_type": "stream",
     "text": [
      "ROC AUC: 0.7763975155279503\n"
     ]
    }
   ],
   "source": [
    "fpr, tpr, _ = roc_curve(y_test, model.predict_proba(X_test)[:, 1])\n",
    "roc_auc = auc(fpr, tpr)\n",
    "print(\"ROC AUC:\", roc_auc)"
   ]
  },
  {
   "cell_type": "markdown",
   "id": "f1d7bbe9-26aa-4e15-9860-7f16d98699e1",
   "metadata": {},
   "source": [
    "#### 🌟Classification Report"
   ]
  },
  {
   "cell_type": "code",
   "execution_count": 75,
   "id": "5f66d3f6-8870-4927-8a00-bc236b7bd9a9",
   "metadata": {},
   "outputs": [
    {
     "name": "stdout",
     "output_type": "stream",
     "text": [
      "Classification Report:\n",
      "               precision    recall  f1-score   support\n",
      "\n",
      "           0       1.00      0.21      0.35        14\n",
      "           1       0.68      1.00      0.81        23\n",
      "\n",
      "    accuracy                           0.70        37\n",
      "   macro avg       0.84      0.61      0.58        37\n",
      "weighted avg       0.80      0.70      0.64        37\n",
      "\n"
     ]
    }
   ],
   "source": [
    "report = classification_report(y_test, y_pred)\n",
    "print(\"Classification Report:\\n\", report)"
   ]
  }
 ],
 "metadata": {
  "kernelspec": {
   "display_name": "Python 3 (ipykernel)",
   "language": "python",
   "name": "python3"
  },
  "language_info": {
   "codemirror_mode": {
    "name": "ipython",
    "version": 3
   },
   "file_extension": ".py",
   "mimetype": "text/x-python",
   "name": "python",
   "nbconvert_exporter": "python",
   "pygments_lexer": "ipython3",
   "version": "3.11.9"
  }
 },
 "nbformat": 4,
 "nbformat_minor": 5
}
