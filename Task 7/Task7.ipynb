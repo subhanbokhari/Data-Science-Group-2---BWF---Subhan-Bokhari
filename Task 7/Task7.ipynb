{
 "cells": [
  {
   "cell_type": "markdown",
   "id": "86357b3b-fbbd-4fd8-99c2-9f51a8c289e1",
   "metadata": {},
   "source": [
    "# <span style='color:blue'>Library Management System using Object-Oriented Programming (OOP)</span>\n",
    "## <span style='color:green'>Objective:</span>\n",
    "Implement a basic Library Management System using Python and OOP principles to manage books, members, and borrowing activities.\n"
   ]
  },
  {
   "cell_type": "code",
   "execution_count": 1,
   "id": "52166fd0-2ef4-4105-b2fa-61a629d9ba23",
   "metadata": {},
   "outputs": [
    {
     "name": "stdout",
     "output_type": "stream",
     "text": [
      "\n",
      "Library Management System Menu:\n",
      "1. Add Book\n",
      "2. Add Member\n",
      "3. Issue Book\n",
      "4. Return Book\n",
      "5. Display All Books\n",
      "6. Display All Members\n",
      "7. Exit\n"
     ]
    },
    {
     "name": "stdin",
     "output_type": "stream",
     "text": [
      "Enter your choice (1-7):  1\n",
      "Enter book title:  Jay Jay\n",
      "Enter book author:  Jay\n",
      "Enter book ISBN:  123\n"
     ]
    },
    {
     "name": "stdout",
     "output_type": "stream",
     "text": [
      "Added 'Jay Jay by Jay (ISBN: 123)' to the library.\n",
      "\n",
      "Library Management System Menu:\n",
      "1. Add Book\n",
      "2. Add Member\n",
      "3. Issue Book\n",
      "4. Return Book\n",
      "5. Display All Books\n",
      "6. Display All Members\n",
      "7. Exit\n"
     ]
    },
    {
     "name": "stdin",
     "output_type": "stream",
     "text": [
      "Enter your choice (1-7):  5\n"
     ]
    },
    {
     "name": "stdout",
     "output_type": "stream",
     "text": [
      "Books In Library:\n",
      "Jay Jay by Jay (ISBN: 123)\n",
      "\n",
      "Library Management System Menu:\n",
      "1. Add Book\n",
      "2. Add Member\n",
      "3. Issue Book\n",
      "4. Return Book\n",
      "5. Display All Books\n",
      "6. Display All Members\n",
      "7. Exit\n"
     ]
    },
    {
     "name": "stdin",
     "output_type": "stream",
     "text": [
      "Enter your choice (1-7):  2\n",
      "Enter member name:  Subhan\n",
      "Enter member ID:  \n"
     ]
    },
    {
     "name": "stdout",
     "output_type": "stream",
     "text": [
      "Added 'Subhan (Member ID: )' to the library.\n",
      "\n",
      "Library Management System Menu:\n",
      "1. Add Book\n",
      "2. Add Member\n",
      "3. Issue Book\n",
      "4. Return Book\n",
      "5. Display All Books\n",
      "6. Display All Members\n",
      "7. Exit\n"
     ]
    },
    {
     "name": "stdin",
     "output_type": "stream",
     "text": [
      "Enter your choice (1-7):  2\n",
      "Enter member name:  Subhan\n",
      "Enter member ID:  \n"
     ]
    },
    {
     "name": "stdout",
     "output_type": "stream",
     "text": [
      "Member with ID '' already exists in the library.\n",
      "\n",
      "Library Management System Menu:\n",
      "1. Add Book\n",
      "2. Add Member\n",
      "3. Issue Book\n",
      "4. Return Book\n",
      "5. Display All Books\n",
      "6. Display All Members\n",
      "7. Exit\n"
     ]
    },
    {
     "name": "stdin",
     "output_type": "stream",
     "text": [
      "Enter your choice (1-7):  2\n",
      "Enter member name:  Subha\n",
      "Enter member ID:  2\n"
     ]
    },
    {
     "name": "stdout",
     "output_type": "stream",
     "text": [
      "Added 'Subha (Member ID: 2)' to the library.\n",
      "\n",
      "Library Management System Menu:\n",
      "1. Add Book\n",
      "2. Add Member\n",
      "3. Issue Book\n",
      "4. Return Book\n",
      "5. Display All Books\n",
      "6. Display All Members\n",
      "7. Exit\n"
     ]
    },
    {
     "name": "stdin",
     "output_type": "stream",
     "text": [
      "Enter your choice (1-7):  3\n",
      "Enter Book ISBN:  123\n",
      "Enter Member ID:  2\n"
     ]
    },
    {
     "name": "stdout",
     "output_type": "stream",
     "text": [
      "Subha borrowed 'Jay Jay'\n",
      "\n",
      "Library Management System Menu:\n",
      "1. Add Book\n",
      "2. Add Member\n",
      "3. Issue Book\n",
      "4. Return Book\n",
      "5. Display All Books\n",
      "6. Display All Members\n",
      "7. Exit\n"
     ]
    },
    {
     "name": "stdin",
     "output_type": "stream",
     "text": [
      "Enter your choice (1-7):  6\n"
     ]
    },
    {
     "name": "stdout",
     "output_type": "stream",
     "text": [
      "Members Of The Library:\n",
      "Subhan (Member ID: )\n",
      "Subha (Member ID: 2)\n",
      "\n",
      "Library Management System Menu:\n",
      "1. Add Book\n",
      "2. Add Member\n",
      "3. Issue Book\n",
      "4. Return Book\n",
      "5. Display All Books\n",
      "6. Display All Members\n",
      "7. Exit\n"
     ]
    },
    {
     "name": "stdin",
     "output_type": "stream",
     "text": [
      "Enter your choice (1-7):  66\n"
     ]
    },
    {
     "name": "stdout",
     "output_type": "stream",
     "text": [
      "Invalid choice. Please try again.\n",
      "\n",
      "Library Management System Menu:\n",
      "1. Add Book\n",
      "2. Add Member\n",
      "3. Issue Book\n",
      "4. Return Book\n",
      "5. Display All Books\n",
      "6. Display All Members\n",
      "7. Exit\n"
     ]
    },
    {
     "name": "stdin",
     "output_type": "stream",
     "text": [
      "Enter your choice (1-7):  6\n"
     ]
    },
    {
     "name": "stdout",
     "output_type": "stream",
     "text": [
      "Members Of The Library:\n",
      "Subhan (Member ID: )\n",
      "Subha (Member ID: 2)\n",
      "\n",
      "Library Management System Menu:\n",
      "1. Add Book\n",
      "2. Add Member\n",
      "3. Issue Book\n",
      "4. Return Book\n",
      "5. Display All Books\n",
      "6. Display All Members\n",
      "7. Exit\n"
     ]
    },
    {
     "name": "stdin",
     "output_type": "stream",
     "text": [
      "Enter your choice (1-7):  \n"
     ]
    },
    {
     "name": "stdout",
     "output_type": "stream",
     "text": [
      "Invalid choice. Please try again.\n",
      "\n",
      "Library Management System Menu:\n",
      "1. Add Book\n",
      "2. Add Member\n",
      "3. Issue Book\n",
      "4. Return Book\n",
      "5. Display All Books\n",
      "6. Display All Members\n",
      "7. Exit\n"
     ]
    },
    {
     "name": "stdin",
     "output_type": "stream",
     "text": [
      "Enter your choice (1-7):  6\n"
     ]
    },
    {
     "name": "stdout",
     "output_type": "stream",
     "text": [
      "Members Of The Library:\n",
      "Subhan (Member ID: )\n",
      "Subha (Member ID: 2)\n",
      "\n",
      "Library Management System Menu:\n",
      "1. Add Book\n",
      "2. Add Member\n",
      "3. Issue Book\n",
      "4. Return Book\n",
      "5. Display All Books\n",
      "6. Display All Members\n",
      "7. Exit\n"
     ]
    },
    {
     "name": "stdin",
     "output_type": "stream",
     "text": [
      "Enter your choice (1-7):  7\n"
     ]
    },
    {
     "name": "stdout",
     "output_type": "stream",
     "text": [
      "Exiting Library Management System...\n"
     ]
    }
   ],
   "source": [
    "class Book:\n",
    "    def __init__(self, title, author, isbn):\n",
    "        self._title = title\n",
    "        self._author = author\n",
    "        self._isbn = isbn\n",
    "        self._status = True\n",
    "\n",
    "    def __str__(self):\n",
    "        return f\"{self._title} by {self._author} (ISBN: {self._isbn})\"\n",
    "\n",
    "    def borrow(self):\n",
    "        if self._status:\n",
    "            self._status = False\n",
    "        else:\n",
    "            print(\"Book is already borrowed.\")\n",
    "\n",
    "    def return_book(self):\n",
    "        if not self._status:\n",
    "            self._status = True\n",
    "        else:\n",
    "            print(\"Book is already in the library.\")\n",
    "\n",
    "class Member:\n",
    "    def __init__(self, name, member_id):\n",
    "        self._name = name\n",
    "        self._member_id = member_id\n",
    "        self._borrowed_books = []\n",
    "\n",
    "    def __str__(self):\n",
    "        return f\"{self._name} (Member ID: {self._member_id})\"\n",
    "\n",
    "    def borrow_book(self, book):\n",
    "        if book._status:\n",
    "            self._borrowed_books.append(book)\n",
    "            book.borrow()\n",
    "            print(f\"{self._name} borrowed '{book._title}'\")\n",
    "        else:\n",
    "            print(f\"'{book._title}' is already borrowed.\")\n",
    "\n",
    "    def return_book(self, book):\n",
    "        if book in self._borrowed_books:\n",
    "            self._borrowed_books.remove(book)\n",
    "            book.return_book()\n",
    "            print(f\"{self._name} returned '{book._title}'\")\n",
    "        else:\n",
    "            print(f\"{self._name} does not have '{book._title}' borrowed.\")\n",
    "\n",
    "class Library:\n",
    "    def __init__(self):\n",
    "        self._bookslist = []\n",
    "        self._memberslist = []\n",
    "\n",
    "    def add_book(self, book):\n",
    "        if book._isbn not in [b._isbn for b in self._bookslist]:\n",
    "            self._bookslist.append(book)\n",
    "            print(f\"Added '{book}' to the library.\")\n",
    "        else:\n",
    "            print(f\"Book with ISBN '{book._isbn}' already exists in the library.\")\n",
    "\n",
    "    def add_member(self, member):\n",
    "        if member._member_id not in [m._member_id for m in self._memberslist]:\n",
    "            self._memberslist.append(member)\n",
    "            print(f\"Added '{member}' to the library.\")\n",
    "        else:\n",
    "            print(f\"Member with ID '{member._member_id}' already exists in the library.\")\n",
    "\n",
    "    def issue_book(self):\n",
    "        book_isbn = input(\"Enter Book ISBN: \")\n",
    "        member_id = input(\"Enter Member ID: \")\n",
    "\n",
    "        try:\n",
    "            book = next((b for b in self._bookslist if b._isbn == book_isbn), None)\n",
    "            if book is None:\n",
    "                raise ValueError(\"Book not found.\")\n",
    "\n",
    "            member = next((m for m in self._memberslist if m._member_id == member_id), None)\n",
    "            if member is None:\n",
    "                raise ValueError(\"Member not found.\")\n",
    "\n",
    "            member.borrow_book(book)\n",
    "        except ValueError as e:\n",
    "            print(e)\n",
    "\n",
    "    def return_book(self):\n",
    "        book_isbn = input(\"Enter Book ISBN: \")\n",
    "        member_id = input(\"Enter Member ID: \")\n",
    "\n",
    "        try:\n",
    "            book = next((b for b in self._bookslist if b._isbn == book_isbn), None)\n",
    "            if book is None:\n",
    "                raise ValueError(\"Book not found.\")\n",
    "\n",
    "            member = next((m for m in self._memberslist if m._member_id == member_id), None)\n",
    "            if member is None:\n",
    "                raise ValueError(\"Member not found.\")\n",
    "\n",
    "            member.return_book(book)\n",
    "        except ValueError as e:\n",
    "            print(e)\n",
    "\n",
    "    def all_books(self):\n",
    "        print(\"Books In Library:\")\n",
    "        for book in self._bookslist:\n",
    "            print(book)\n",
    "\n",
    "    def display_all_members(self):\n",
    "        print(\"Members Of The Library:\")\n",
    "        for member in self._memberslist:\n",
    "            print(member)\n",
    "\n",
    "# Example usage\n",
    "library = Library()\n",
    "while True:\n",
    "    print(\"\\nLibrary Management System Menu:\")\n",
    "    print(\"1. Add Book\")\n",
    "    print(\"2. Add Member\")\n",
    "    print(\"3. Issue Book\")\n",
    "    print(\"4. Return Book\")\n",
    "    print(\"5. Display All Books\")\n",
    "    print(\"6. Display All Members\")\n",
    "    print(\"7. Exit\")\n",
    "\n",
    "    choice = input(\"Enter your choice (1-7): \")\n",
    "\n",
    "    if choice == '1':\n",
    "        book_title = input(\"Enter book title: \")\n",
    "        book_author = input(\"Enter book author: \")\n",
    "        book_isbn = input(\"Enter book ISBN: \")\n",
    "        new_book = Book(book_title, book_author, book_isbn)\n",
    "        library.add_book(new_book)\n",
    "\n",
    "    elif choice == '2':\n",
    "        member_name = input(\"Enter member name: \")\n",
    "        member_id = input(\"Enter member ID: \")\n",
    "        new_member = Member(member_name, member_id)\n",
    "        library.add_member(new_member)\n",
    "\n",
    "    elif choice == '3':\n",
    "        library.issue_book()\n",
    "\n",
    "    elif choice == '4':\n",
    "        library.return_book()\n",
    "\n",
    "    elif choice == '5':\n",
    "        library.all_books()\n",
    "\n",
    "    elif choice == '6':\n",
    "        library.display_all_members()\n",
    "\n",
    "    elif choice == '7':\n",
    "        print(\"Exiting Library Management System...\")\n",
    "        break\n",
    "\n",
    "    else:\n",
    "        print(\"Invalid choice. Please try again.\")"
   ]
  },
  {
   "cell_type": "markdown",
   "id": "f6c3f0f0-2181-43af-86d6-0b8105b599e7",
   "metadata": {},
   "source": [
    "## Library Management System Summary\n",
    "\n",
    "### Overview\n",
    "This Python code implements a library management system with classes for `Book`, `Member`, and `Library`. It allows adding books and members, borrowing and returning books, and displaying information.\n",
    "\n",
    "### Classes\n",
    "\n",
    "#### 1. `Book`\n",
    "- **Attributes**: `_title`, `_author`, `_isbn`, `_status`\n",
    "- **Methods**: `__init__()`, `display()`, `borrow()`, `return_book()`\n",
    "\n",
    "#### 2. `Member`\n",
    "- **Attributes**: `_name`, `_member_id`, `_borrowed_books`\n",
    "- **Methods**: `__init__()`, `borrow_book()`, `return_book()`\n",
    "\n",
    "#### 3. `Library`\n",
    "- **Attributes**: `_bookslist`, `_memberslist`\n",
    "- **Methods**: `__init__()`, `add_book()`, `add_member()`, `issue_book()`, `return_book()`, `all_books()`, `display_all_members()`\n",
    "- \n",
    "#### 4. `Menu Driven`\n"
   ]
  },
  {
   "cell_type": "code",
   "execution_count": null,
   "id": "55b46cd0-e904-4a4e-8d14-51f8ef1380c4",
   "metadata": {},
   "outputs": [],
   "source": []
  }
 ],
 "metadata": {
  "kernelspec": {
   "display_name": "Python 3 (ipykernel)",
   "language": "python",
   "name": "python3"
  },
  "language_info": {
   "codemirror_mode": {
    "name": "ipython",
    "version": 3
   },
   "file_extension": ".py",
   "mimetype": "text/x-python",
   "name": "python",
   "nbconvert_exporter": "python",
   "pygments_lexer": "ipython3",
   "version": "3.11.9"
  }
 },
 "nbformat": 4,
 "nbformat_minor": 5
}
