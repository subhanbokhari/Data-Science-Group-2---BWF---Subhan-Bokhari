{
 "cells": [
  {
   "cell_type": "markdown",
   "id": "03aaf84a-35f5-4cea-8e14-7c011cf15e63",
   "metadata": {},
   "source": [
    "# <span style=\"color:blue\">Practical Mini Project: Inventory Management System</span>\n",
    "\n",
    "## <span style=\"color:green\">Objective</span>\n",
    "<span>The objective of this project is to develop a simple Inventory Management System using Python's data structures to efficiently manage products, categories, and stock levels. This system will allow for the addition of new products, updating stock levels, and displaying products either in total or filtered by category. Through the implementation of this project, users will gain hands-on experience with Python dictionaries, lists, sets, and tuples.</span>"
   ]
  },
  {
   "cell_type": "code",
   "execution_count": 17,
   "id": "186cf8bb-40c5-44e0-96cb-f06efd06eb4f",
   "metadata": {},
   "outputs": [
    {
     "name": "stdout",
     "output_type": "stream",
     "text": [
      "\n",
      "Inventory Management System\n",
      "1. Add Product\n",
      "2. Update Product Stock\n",
      "3. Display All Products\n",
      "4. Display Products by Category\n",
      "5. Exit\n"
     ]
    },
    {
     "name": "stdin",
     "output_type": "stream",
     "text": [
      "Enter your choice:  1\n",
      "Enter Id for the product:  004\n",
      "Enter Name of the Device:  Iphone 14\n",
      "Enter Category of the Device:  Mobile Phones\n",
      "Enter Amount of Stock:  10\n"
     ]
    },
    {
     "name": "stdout",
     "output_type": "stream",
     "text": [
      "Product 004 added to the inventory.\n",
      "\n",
      "Inventory Management System\n",
      "1. Add Product\n",
      "2. Update Product Stock\n",
      "3. Display All Products\n",
      "4. Display Products by Category\n",
      "5. Exit\n"
     ]
    },
    {
     "name": "stdin",
     "output_type": "stream",
     "text": [
      "Enter your choice:  1\n",
      "Enter Id for the product:  005\n",
      "Enter Name of the Device:  Lenovo Thinkpad\n",
      "Enter Category of the Device:  Personal Computers\n",
      "Enter Amount of Stock:  5\n"
     ]
    },
    {
     "name": "stdout",
     "output_type": "stream",
     "text": [
      "Product 005 added to the inventory.\n",
      "\n",
      "Inventory Management System\n",
      "1. Add Product\n",
      "2. Update Product Stock\n",
      "3. Display All Products\n",
      "4. Display Products by Category\n",
      "5. Exit\n"
     ]
    },
    {
     "name": "stdin",
     "output_type": "stream",
     "text": [
      "Enter your choice:  2\n",
      "Enter Id for the product:  001\n"
     ]
    },
    {
     "name": "stdout",
     "output_type": "stream",
     "text": [
      "Product 001 already exists in the inventory.\n"
     ]
    },
    {
     "name": "stdin",
     "output_type": "stream",
     "text": [
      "Do you want to add or subtract stock? (Enter 'add' or 'subtract'):  subtract\n",
      "Enter the quantity:  5\n"
     ]
    },
    {
     "name": "stdout",
     "output_type": "stream",
     "text": [
      "Stock subtracted successfully!\n",
      "\n",
      "Inventory Management System\n",
      "1. Add Product\n",
      "2. Update Product Stock\n",
      "3. Display All Products\n",
      "4. Display Products by Category\n",
      "5. Exit\n"
     ]
    },
    {
     "name": "stdin",
     "output_type": "stream",
     "text": [
      "Enter your choice:  2\n",
      "Enter Id for the product:  004\n"
     ]
    },
    {
     "name": "stdout",
     "output_type": "stream",
     "text": [
      "Product 004 already exists in the inventory.\n"
     ]
    },
    {
     "name": "stdin",
     "output_type": "stream",
     "text": [
      "Do you want to add or subtract stock? (Enter 'add' or 'subtract'):  add\n",
      "Enter the quantity:  50\n"
     ]
    },
    {
     "name": "stdout",
     "output_type": "stream",
     "text": [
      "Stock added successfully!\n",
      "\n",
      "Inventory Management System\n",
      "1. Add Product\n",
      "2. Update Product Stock\n",
      "3. Display All Products\n",
      "4. Display Products by Category\n",
      "5. Exit\n"
     ]
    },
    {
     "name": "stdin",
     "output_type": "stream",
     "text": [
      "Enter your choice:  3\n"
     ]
    },
    {
     "name": "stdout",
     "output_type": "stream",
     "text": [
      "All Products:\n",
      "Product ID: 001, Name: HP Laptops, Category: Personal Computers, Stock: 10\n",
      "Product ID: 002, Name: Samsung Mobiles, Category: Mobile Phones, Stock: 20\n",
      "Product ID: 003, Name: Canon Printer, Category: Additional Devices, Stock: 70\n",
      "Product ID: 004, Name: Iphone 14, Category: Mobile Phones, Stock: 60\n",
      "Product ID: 005, Name: Lenovo Thinkpad, Category: Personal Computers, Stock: 5\n",
      "\n",
      "Inventory Management System\n",
      "1. Add Product\n",
      "2. Update Product Stock\n",
      "3. Display All Products\n",
      "4. Display Products by Category\n",
      "5. Exit\n"
     ]
    },
    {
     "name": "stdin",
     "output_type": "stream",
     "text": [
      "Enter your choice:  4\n",
      "Enter Category:  Mobile Phones\n"
     ]
    },
    {
     "name": "stdout",
     "output_type": "stream",
     "text": [
      "Products in Category 'Mobile Phones':\n",
      "Product ID: 002, Name: Samsung Mobiles, Stock: 20\n",
      "Product ID: 004, Name: Iphone 14, Stock: 60\n",
      "\n",
      "Inventory Management System\n",
      "1. Add Product\n",
      "2. Update Product Stock\n",
      "3. Display All Products\n",
      "4. Display Products by Category\n",
      "5. Exit\n"
     ]
    },
    {
     "name": "stdin",
     "output_type": "stream",
     "text": [
      "Enter your choice:  5\n"
     ]
    },
    {
     "name": "stdout",
     "output_type": "stream",
     "text": [
      "Exiting the Inventory Management System. Goodbye!\n"
     ]
    }
   ],
   "source": [
    "products = {\n",
    "    '001': {'name': 'HP Laptops', 'category': 'Personal Computers', 'stock': 15},\n",
    "    '002': {'name': 'Samsung Mobiles', 'category': 'Mobile Phones', 'stock': 20},\n",
    "    '003': {'name': 'Canon Printer', 'category': 'Additional Devices', 'stock': 70}\n",
    "}\n",
    "product_order = ['001', '002', '003']\n",
    "categories = {'Personal Computers', 'Mobile Phones', 'Additional Devices'}\n",
    "product_description = ('HP Laptops', 'Personal Computers', 'Samsung Mobiles', 'Mobile Phones', 'Canon Printer', 'Additional Devices')\n",
    "\n",
    "def add_prod():\n",
    "    prod_id = input(\"Enter Id for the product: \")\n",
    "    if prod_id in products:\n",
    "        print(f\"Product ID {prod_id} already exists. Please use a different ID or update the existing product.\")\n",
    "    else:\n",
    "        name = input(\"Enter Name of the Device: \")\n",
    "        category = input(\"Enter Category of the Device: \")\n",
    "        stock = int(input(\"Enter Amount of Stock: \"))\n",
    "        products[prod_id] = {'name': name, 'category': category, 'stock': stock}\n",
    "        product_order.append(prod_id)\n",
    "        categories.add(category)\n",
    "        print(f\"Product {prod_id} added to the inventory.\")\n",
    "\n",
    "def update_prod():\n",
    "    prod_id = input(\"Enter Id for the product: \")\n",
    "    if prod_id in products:\n",
    "        print(f\"Product {prod_id} already exists in the inventory.\")\n",
    "        action = input(\"Do you want to add or subtract stock? (Enter 'add' or 'subtract'): \").strip().lower()\n",
    "        stock_change = int(input(\"Enter the quantity: \"))\n",
    "        if action == 'add':\n",
    "            products[prod_id]['stock'] += stock_change\n",
    "            print(\"Stock added successfully!\")\n",
    "        elif action == 'subtract':\n",
    "            if stock_change <= products[prod_id]['stock']:\n",
    "                products[prod_id]['stock'] -= stock_change\n",
    "                print(\"Stock subtracted successfully!\")\n",
    "            else:\n",
    "                print(\"Error: Cannot subtract more than available stock.\")\n",
    "        else:\n",
    "            print(\"Invalid action. Please enter 'add' or 'subtract'.\")\n",
    "    else:\n",
    "        print(\"Product ID not found. Add new Product First!\")\n",
    "\n",
    "def display_all():\n",
    "    print(\"All Products:\")\n",
    "    for product_id in product_order:\n",
    "        product = products[product_id]\n",
    "        print(f\"Product ID: {product_id}, Name: {product['name']}, Category: {product['category']}, Stock: {product['stock']}\")\n",
    "\n",
    "def display_by_category():\n",
    "    cat = input(\"Enter Category: \")\n",
    "    print(f\"Products in Category '{cat}':\")\n",
    "    flag = False\n",
    "    for product_id in product_order:\n",
    "        product = products[product_id]\n",
    "        if product['category'] == cat:\n",
    "            print(f\"Product ID: {product_id}, Name: {product['name']}, Stock: {product['stock']}\")\n",
    "            flag = True\n",
    "    if not flag:\n",
    "        print(f\"No products found in Category '{cat}'.\")\n",
    "\n",
    "while True:\n",
    "    print(\"\\nInventory Management System\")\n",
    "    print(\"1. Add Product\")\n",
    "    print(\"2. Update Product Stock\")\n",
    "    print(\"3. Display All Products\")\n",
    "    print(\"4. Display Products by Category\")\n",
    "    print(\"5. Exit\")\n",
    "    choice = input(\"Enter your choice: \")\n",
    "\n",
    "    if choice == '1':\n",
    "        add_prod()\n",
    "    elif choice == '2':\n",
    "        update_prod()\n",
    "    elif choice == '3':\n",
    "        display_all()\n",
    "    elif choice == '4':\n",
    "        display_by_category()\n",
    "    elif choice == '5':\n",
    "        print(\"Exiting the Inventory Management System. Goodbye!\")\n",
    "        break\n",
    "    else:\n",
    "        print(\"Invalid choice. Please select a valid option.\")\n"
   ]
  },
  {
   "cell_type": "markdown",
   "id": "02f31a93-834f-47eb-a210-8b93fe7a0fa7",
   "metadata": {},
   "source": [
    "## Code Explanation\n",
    "1. **<span style=\"color:blue\">Initialize Data Structures</span>**:\n",
    "   - `products`: Dictionary to store product details.\n",
    "   - `product_order`: List to maintain the order of product additions.\n",
    "   - `categories`: Set to track unique categories.\n",
    "   - `product_description`: Tuple to store immutable product information.\n",
    "\n",
    "2. **<span style=\"color:blue\">Add Product Function (`add_prod`)</span>**:\n",
    "   - Prompts the user for product details.\n",
    "   - Checks if the product ID already exists.\n",
    "   - If not, adds the product to `products`, updates `product_order`, and adds the category to `categories`.\n",
    "\n",
    "3. **<span style=\"color:blue\">Update Product Function (`update_prod`)</span>**:\n",
    "   - Prompts the user for product ID and action (add or subtract).\n",
    "   - Updates the stock based on user input.\n",
    "   - Checks for valid product ID and action, and ensures stock cannot be reduced below zero.\n",
    "\n",
    "4. **<span style=\"color:blue\">Display All Products Function (`display_all`)</span>**:\n",
    "   - Prints details of all products in the inventory in the order they were added.\n",
    "\n",
    "5. **<span style=\"color:blue\">Display Products by Category Function (`display_by_category`)</span>**:\n",
    "   - Prompts the user for a category.\n",
    "   - Prints details of products in the specified category.\n",
    "\n",
    "6. **<span style=\"color:blue\">Menu Loop</span>**:\n",
    "   - Displays a menu with options to add, update, display all products, display by category, or exit.\n",
    "   - Executes the corresponding function based on user choice.\n",
    "   - Continues until the user chooses to exit.\n"
   ]
  },
  {
   "cell_type": "code",
   "execution_count": null,
   "id": "1a5cd425-3ccc-47e9-8175-70061d48d1ca",
   "metadata": {},
   "outputs": [],
   "source": []
  }
 ],
 "metadata": {
  "kernelspec": {
   "display_name": "Python 3 (ipykernel)",
   "language": "python",
   "name": "python3"
  },
  "language_info": {
   "codemirror_mode": {
    "name": "ipython",
    "version": 3
   },
   "file_extension": ".py",
   "mimetype": "text/x-python",
   "name": "python",
   "nbconvert_exporter": "python",
   "pygments_lexer": "ipython3",
   "version": "3.11.9"
  }
 },
 "nbformat": 4,
 "nbformat_minor": 5
}
