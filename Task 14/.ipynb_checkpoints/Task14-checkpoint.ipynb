{
 "cells": [
  {
   "cell_type": "markdown",
   "id": "265e3a99-6dd8-4132-80c2-e7cd73bad14d",
   "metadata": {},
   "source": [
    "# 🔴 Task 14: Data cleaning and preprocessing with Pandas"
   ]
  },
  {
   "cell_type": "markdown",
   "id": "511fe6b3-5efe-41fa-bd87-e98501e31286",
   "metadata": {},
   "source": [
    "#### 1. Identify missing values in the DataFrame."
   ]
  },
  {
   "cell_type": "code",
   "execution_count": 102,
   "id": "69091507-0e55-4d99-955f-f43f2dcd79fa",
   "metadata": {},
   "outputs": [],
   "source": [
    "import pandas as pd\n",
    "import numpy as np\n",
    "import io\n",
    "\n",
    "import_dataFrame = pd.read_csv('flights.csv')"
   ]
  },
  {
   "cell_type": "markdown",
   "id": "cf93981d-56d5-4ad2-a48f-d3421558d3b8",
   "metadata": {},
   "source": [
    "#### 1.  Identify missing values in the DataFrame."
   ]
  },
  {
   "cell_type": "code",
   "execution_count": 103,
   "id": "7004476c-594b-464e-bb82-bf45656cf19d",
   "metadata": {},
   "outputs": [
    {
     "name": "stdout",
     "output_type": "stream",
     "text": [
      "      year  month  passengers\n",
      "0    False  False       False\n",
      "1    False  False       False\n",
      "2    False  False       False\n",
      "3    False  False       False\n",
      "4    False  False       False\n",
      "..     ...    ...         ...\n",
      "140  False  False       False\n",
      "141  False  False       False\n",
      "142  False  False       False\n",
      "143  False  False       False\n",
      "144  False   True       False\n",
      "\n",
      "[145 rows x 3 columns]\n"
     ]
    }
   ],
   "source": [
    "null_val = import_dataFrame.isnull()\n",
    "print(null_val)"
   ]
  },
  {
   "cell_type": "markdown",
   "id": "7a0feec0-cf62-4443-a5f0-ee67ab31f49c",
   "metadata": {},
   "source": [
    "#### 2. Drop rows with any missing values."
   ]
  },
  {
   "cell_type": "code",
   "execution_count": 104,
   "id": "5240bd3a-2896-4fa0-b068-e06e284d9225",
   "metadata": {},
   "outputs": [
    {
     "name": "stdout",
     "output_type": "stream",
     "text": [
      "     year      month  passengers\n",
      "0    1949    January       112.0\n",
      "1    1949   February       118.0\n",
      "2    1949      March       132.0\n",
      "3    1949      April       129.0\n",
      "4    1949        May       121.0\n",
      "..    ...        ...         ...\n",
      "139  1960     August       606.0\n",
      "140  1960  September       508.0\n",
      "141  1960    October       461.0\n",
      "142  1960   November       390.0\n",
      "143  1960   December       432.0\n",
      "\n",
      "[139 rows x 3 columns]\n"
     ]
    }
   ],
   "source": [
    "null_drop = import_dataFrame.dropna()\n",
    "print(null_drop)"
   ]
  },
  {
   "cell_type": "markdown",
   "id": "5c86eb1f-e4b1-480f-ba75-2d908bea6338",
   "metadata": {},
   "source": [
    "#### 3. Drop columns with any missing values."
   ]
  },
  {
   "cell_type": "code",
   "execution_count": 105,
   "id": "e656faea-17bc-4549-9825-faea76bdeb3b",
   "metadata": {},
   "outputs": [
    {
     "name": "stdout",
     "output_type": "stream",
     "text": [
      "     year\n",
      "0    1949\n",
      "1    1949\n",
      "2    1949\n",
      "3    1949\n",
      "4    1949\n",
      "..    ...\n",
      "140  1960\n",
      "141  1960\n",
      "142  1960\n",
      "143  1960\n",
      "144  1961\n",
      "\n",
      "[145 rows x 1 columns]\n"
     ]
    }
   ],
   "source": [
    "null_drop = import_dataFrame.dropna(axis=1)\n",
    "print(null_drop)"
   ]
  },
  {
   "cell_type": "markdown",
   "id": "b34d0ba5-d1c4-4c28-90f9-526ebc590277",
   "metadata": {},
   "source": [
    "#### 4. Fill missing values with a specific value."
   ]
  },
  {
   "cell_type": "code",
   "execution_count": 106,
   "id": "d07a51ea-1894-400c-80f4-557c2477799f",
   "metadata": {},
   "outputs": [
    {
     "name": "stdout",
     "output_type": "stream",
     "text": [
      "     year      month passengers\n",
      "0    1949    January      112.0\n",
      "1    1949   February      118.0\n",
      "2    1949      March      132.0\n",
      "3    1949      April      129.0\n",
      "4    1949        May      121.0\n",
      "..    ...        ...        ...\n",
      "140  1960  September      508.0\n",
      "141  1960    October      461.0\n",
      "142  1960   November      390.0\n",
      "143  1960   December      432.0\n",
      "144  1961        May      226.0\n",
      "\n",
      "[145 rows x 3 columns]\n"
     ]
    }
   ],
   "source": [
    "miss_fill = import_dataFrame.fillna('May')\n",
    "print(miss_fill)"
   ]
  },
  {
   "cell_type": "markdown",
   "id": "ace7cb5f-e374-421e-890a-32cea2a47a96",
   "metadata": {},
   "source": [
    "#### 5. Fill missing values using forward fill and backward fill methods."
   ]
  },
  {
   "cell_type": "code",
   "execution_count": 107,
   "id": "7e07e112-8a40-4cff-a349-a58e8a697b29",
   "metadata": {},
   "outputs": [
    {
     "name": "stdout",
     "output_type": "stream",
     "text": [
      "     year      month  passengers\n",
      "0    1949    January       112.0\n",
      "1    1949   February       118.0\n",
      "2    1949      March       132.0\n",
      "3    1949      April       129.0\n",
      "4    1949        May       121.0\n",
      "..    ...        ...         ...\n",
      "140  1960  September       508.0\n",
      "141  1960    October       461.0\n",
      "142  1960   November       390.0\n",
      "143  1960   December       432.0\n",
      "144  1961   December       226.0\n",
      "\n",
      "[145 rows x 3 columns]\n",
      "     year      month  passengers\n",
      "0    1949    January       112.0\n",
      "1    1949   February       118.0\n",
      "2    1949      March       132.0\n",
      "3    1949      April       129.0\n",
      "4    1949        May       121.0\n",
      "..    ...        ...         ...\n",
      "140  1960  September       508.0\n",
      "141  1960    October       461.0\n",
      "142  1960   November       390.0\n",
      "143  1960   December       432.0\n",
      "144  1961        NaN       226.0\n",
      "\n",
      "[145 rows x 3 columns]\n"
     ]
    }
   ],
   "source": [
    "forward_fill = import_dataFrame.ffill()\n",
    "backward_fill = import_dataFrame.bfill()\n",
    "print(forward_fill)\n",
    "print(backward_fill)"
   ]
  },
  {
   "cell_type": "markdown",
   "id": "6ac6545b-0fb2-49e5-9668-ab23e9810780",
   "metadata": {},
   "source": [
    "#### 6. Interpolate missing values."
   ]
  },
  {
   "cell_type": "code",
   "execution_count": 108,
   "id": "d10c93f3-c70d-4725-aa36-32cc65a19159",
   "metadata": {},
   "outputs": [
    {
     "name": "stdout",
     "output_type": "stream",
     "text": [
      "     A     B     C\n",
      "0  1.0  10.0  20.0\n",
      "1  2.0  11.0  21.0\n",
      "2  3.0  12.0  22.0\n",
      "3  4.0  13.0  23.0\n",
      "4  5.0  14.0  24.0\n",
      "5  6.0  15.0  25.0\n",
      "6  7.0  16.0  26.0\n"
     ]
    }
   ],
   "source": [
    "new_data = {\n",
    "    'A': [1, 2, np.nan, 4, 5, np.nan, 7],\n",
    "    'B': [10, 11, 12, np.nan, 14, 15, 16],\n",
    "    'C': [20, np.nan, 22, 23, 24, 25, 26]\n",
    "}\n",
    "import_dataFrame2 = pd.DataFrame(new_data)\n",
    "df_interpolated = import_dataFrame2.interpolate(method='linear', axis=0, limit_direction='forward')\n",
    "print(df_interpolated)\n"
   ]
  },
  {
   "cell_type": "markdown",
   "id": "6550ad3c-7aee-4aa3-a3cd-3fe8e84a0f3f",
   "metadata": {},
   "source": [
    "#### 7.Convert a column to a different data type."
   ]
  },
  {
   "cell_type": "code",
   "execution_count": 109,
   "id": "4d02d734-7f6d-4fb3-9eed-f2e8638ba16c",
   "metadata": {},
   "outputs": [
    {
     "name": "stdout",
     "output_type": "stream",
     "text": [
      "year            int64\n",
      "month          object\n",
      "passengers    float64\n",
      "dtype: object\n",
      "year            int64\n",
      "month          object\n",
      "passengers    float64\n",
      "dtype: object\n"
     ]
    }
   ],
   "source": [
    "print(import_dataFrame.dtypes)\n",
    "\n",
    "import_dataFrame['year'] = import_dataFrame['year'].astype(int)\n",
    "\n",
    "print(import_dataFrame.dtypes)"
   ]
  },
  {
   "cell_type": "markdown",
   "id": "e811d505-3b90-4811-b989-0d612315c628",
   "metadata": {},
   "source": [
    "#### 8. Apply a function to transform the values of a column."
   ]
  },
  {
   "cell_type": "code",
   "execution_count": 110,
   "id": "460d25d0-173d-4594-9b6e-c94224a5cedd",
   "metadata": {},
   "outputs": [
    {
     "name": "stdout",
     "output_type": "stream",
     "text": [
      "     year      month  passengers\n",
      "0    1949    January        56.0\n",
      "1    1949   February        59.0\n",
      "2    1949      March        66.0\n",
      "3    1949      April        64.5\n",
      "4    1949        May        60.5\n",
      "..    ...        ...         ...\n",
      "140  1960  September       254.0\n",
      "141  1960    October       230.5\n",
      "142  1960   November       195.0\n",
      "143  1960   December       216.0\n",
      "144  1961        NaN       113.0\n",
      "\n",
      "[145 rows x 3 columns]\n"
     ]
    }
   ],
   "source": [
    "def half_pass(x):\n",
    "    return x / 2\n",
    "\n",
    "import_dataFrame['passengers'] = import_dataFrame['passengers'].apply(half_pass)\n",
    "\n",
    "print(import_dataFrame)"
   ]
  },
  {
   "cell_type": "markdown",
   "id": "e7ed76dd-2253-4804-baf8-4af932699f6b",
   "metadata": {},
   "source": [
    "#### 9. Normalize a column using Min-Max scaling."
   ]
  },
  {
   "cell_type": "code",
   "execution_count": 111,
   "id": "ffebf274-90b4-43fd-8816-db1e5092659d",
   "metadata": {},
   "outputs": [
    {
     "name": "stdout",
     "output_type": "stream",
     "text": [
      "     year      month  passengers  normalized_passengers\n",
      "0    1949    January        56.0               0.015444\n",
      "1    1949   February        59.0               0.027027\n",
      "2    1949      March        66.0               0.054054\n",
      "3    1949      April        64.5               0.048263\n",
      "4    1949        May        60.5               0.032819\n",
      "..    ...        ...         ...                    ...\n",
      "140  1960  September       254.0               0.779923\n",
      "141  1960    October       230.5               0.689189\n",
      "142  1960   November       195.0               0.552124\n",
      "143  1960   December       216.0               0.633205\n",
      "144  1961        NaN       113.0               0.235521\n",
      "\n",
      "[145 rows x 4 columns]\n"
     ]
    }
   ],
   "source": [
    "import_dataFrame['normalized_passengers'] = (import_dataFrame['passengers'] - import_dataFrame['passengers'].min()) / (import_dataFrame['passengers'].max() - import_dataFrame['passengers'].min())\n",
    "\n",
    "print(import_dataFrame)"
   ]
  },
  {
   "cell_type": "markdown",
   "id": "fac3f43c-ebcc-4680-8313-5ae95833ad0b",
   "metadata": {},
   "source": [
    "#### 10. Standardize a column (z-score normalization)."
   ]
  },
  {
   "cell_type": "code",
   "execution_count": 112,
   "id": "e764931c-2baf-4ef5-8359-e60b9f03e3eb",
   "metadata": {
    "scrolled": true
   },
   "outputs": [
    {
     "name": "stdout",
     "output_type": "stream",
     "text": [
      "     year      month  passengers  normalized_passengers\n",
      "0    1949    January        56.0              -1.412415\n",
      "1    1949   February        59.0              -1.362223\n",
      "2    1949      March        66.0              -1.245107\n",
      "3    1949      April        64.5              -1.270203\n",
      "4    1949        May        60.5              -1.337127\n",
      "..    ...        ...         ...                    ...\n",
      "140  1960  September       254.0               1.900280\n",
      "141  1960    October       230.5               1.507107\n",
      "142  1960   November       195.0               0.913164\n",
      "143  1960   December       216.0               1.264510\n",
      "144  1961        NaN       113.0              -0.458760\n",
      "\n",
      "[145 rows x 4 columns]\n"
     ]
    }
   ],
   "source": [
    "import_dataFrame['normalized_passengers'] = (import_dataFrame['passengers'] - import_dataFrame['passengers'].mean()) / (import_dataFrame['passengers'].std())\n",
    "\n",
    "print(import_dataFrame)"
   ]
  },
  {
   "cell_type": "markdown",
   "id": "7113706d-f716-41ee-8687-a455091f67b1",
   "metadata": {},
   "source": [
    "#### 11. Identify duplicate rows in the DataFrame."
   ]
  },
  {
   "cell_type": "code",
   "execution_count": 113,
   "id": "333bcedf-efad-4003-bf94-3f9449dfffe2",
   "metadata": {},
   "outputs": [
    {
     "name": "stdout",
     "output_type": "stream",
     "text": [
      "0      False\n",
      "1      False\n",
      "2      False\n",
      "3      False\n",
      "4      False\n",
      "       ...  \n",
      "140    False\n",
      "141    False\n",
      "142    False\n",
      "143    False\n",
      "144    False\n",
      "Length: 145, dtype: bool\n"
     ]
    }
   ],
   "source": [
    "dup_rows = import_dataFrame.duplicated()\n",
    "print(dup_rows)"
   ]
  },
  {
   "cell_type": "markdown",
   "id": "1c7c97cb-1f52-4cfe-b6fb-b523c56d72d4",
   "metadata": {},
   "source": [
    "#### 12. Drop duplicate rows."
   ]
  },
  {
   "cell_type": "code",
   "execution_count": 114,
   "id": "ec4a24de-71d4-43d1-98e0-fcbf43cc3a0d",
   "metadata": {},
   "outputs": [
    {
     "name": "stdout",
     "output_type": "stream",
     "text": [
      "     year      month  passengers  normalized_passengers\n",
      "0    1949    January        56.0              -1.412415\n",
      "1    1949   February        59.0              -1.362223\n",
      "2    1949      March        66.0              -1.245107\n",
      "3    1949      April        64.5              -1.270203\n",
      "4    1949        May        60.5              -1.337127\n",
      "..    ...        ...         ...                    ...\n",
      "140  1960  September       254.0               1.900280\n",
      "141  1960    October       230.5               1.507107\n",
      "142  1960   November       195.0               0.913164\n",
      "143  1960   December       216.0               1.264510\n",
      "144  1961        NaN       113.0              -0.458760\n",
      "\n",
      "[144 rows x 4 columns]\n"
     ]
    }
   ],
   "source": [
    "duplicate_remove = import_dataFrame.drop_duplicates()\n",
    "print(duplicate_remove)"
   ]
  },
  {
   "cell_type": "markdown",
   "id": "7f0404ca-55be-4319-aa52-bfc5f7a55130",
   "metadata": {},
   "source": [
    "#### 13. Drop duplicate rows based on specific columns."
   ]
  },
  {
   "cell_type": "code",
   "execution_count": 115,
   "id": "7f3a86b0-1b90-4e24-9502-edbc407ce7d5",
   "metadata": {},
   "outputs": [
    {
     "name": "stdout",
     "output_type": "stream",
     "text": [
      "     year      month  passengers  normalized_passengers\n",
      "0    1949    January        56.0              -1.412415\n",
      "1    1949   February        59.0              -1.362223\n",
      "2    1949      March        66.0              -1.245107\n",
      "3    1949      April        64.5              -1.270203\n",
      "4    1949        May        60.5              -1.337127\n",
      "..    ...        ...         ...                    ...\n",
      "140  1960  September       254.0               1.900280\n",
      "141  1960    October       230.5               1.507107\n",
      "142  1960   November       195.0               0.913164\n",
      "143  1960   December       216.0               1.264510\n",
      "144  1961        NaN       113.0              -0.458760\n",
      "\n",
      "[142 rows x 4 columns]\n"
     ]
    }
   ],
   "source": [
    "duplicate_remove2 = import_dataFrame.drop_duplicates(subset=['passengers', 'month'])\n",
    "print(duplicate_remove2)"
   ]
  },
  {
   "cell_type": "markdown",
   "id": "00142173-56df-446e-bb18-205d1ae0debd",
   "metadata": {},
   "source": [
    "#### 14. Convert all string values in a column to lowercase."
   ]
  },
  {
   "cell_type": "code",
   "execution_count": 116,
   "id": "0194734f-59d8-4a5d-af1d-5a484bed8a85",
   "metadata": {},
   "outputs": [
    {
     "name": "stdout",
     "output_type": "stream",
     "text": [
      "     year      month  passengers  normalized_passengers\n",
      "0    1949    january        56.0              -1.412415\n",
      "1    1949   february        59.0              -1.362223\n",
      "2    1949      march        66.0              -1.245107\n",
      "3    1949      april        64.5              -1.270203\n",
      "4    1949        may        60.5              -1.337127\n",
      "..    ...        ...         ...                    ...\n",
      "140  1960  september       254.0               1.900280\n",
      "141  1960    october       230.5               1.507107\n",
      "142  1960   november       195.0               0.913164\n",
      "143  1960   december       216.0               1.264510\n",
      "144  1961        NaN       113.0              -0.458760\n",
      "\n",
      "[145 rows x 4 columns]\n"
     ]
    }
   ],
   "source": [
    "# Convert all string values in column 'A' to lowercase\n",
    "import_dataFrame['month'] = import_dataFrame['month'].str.lower()\n",
    "print(import_dataFrame)"
   ]
  },
  {
   "cell_type": "markdown",
   "id": "fc809ceb-c611-4bc7-9f01-9ad358ac14fa",
   "metadata": {},
   "source": [
    "#### 15. Remove leading and trailing spaces from string values in a column."
   ]
  },
  {
   "cell_type": "code",
   "execution_count": 117,
   "id": "a26d02ac-f71f-42b7-90dc-f7142cb37afb",
   "metadata": {},
   "outputs": [
    {
     "name": "stdout",
     "output_type": "stream",
     "text": [
      "     year      month  passengers  normalized_passengers\n",
      "0    1949    january        56.0              -1.412415\n",
      "1    1949   february        59.0              -1.362223\n",
      "2    1949      march        66.0              -1.245107\n",
      "3    1949      april        64.5              -1.270203\n",
      "4    1949        may        60.5              -1.337127\n",
      "..    ...        ...         ...                    ...\n",
      "140  1960  september       254.0               1.900280\n",
      "141  1960    october       230.5               1.507107\n",
      "142  1960   november       195.0               0.913164\n",
      "143  1960   december       216.0               1.264510\n",
      "144  1961        NaN       113.0              -0.458760\n",
      "\n",
      "[145 rows x 4 columns]\n"
     ]
    }
   ],
   "source": [
    "import_dataFrame['month'] = import_dataFrame['month'].str.strip()\n",
    "print(import_dataFrame)"
   ]
  },
  {
   "cell_type": "markdown",
   "id": "10f11e48-7937-4b8e-a681-0001faf4905f",
   "metadata": {},
   "source": [
    "#### 16. Replace a specific substring in a column with another substring."
   ]
  },
  {
   "cell_type": "code",
   "execution_count": 118,
   "id": "2677794a-c6f2-477e-b72f-0028d5ae773b",
   "metadata": {},
   "outputs": [
    {
     "name": "stdout",
     "output_type": "stream",
     "text": [
      "     year      month  passengers  normalized_passengers\n",
      "0    1949    january        56.0              -1.412415\n",
      "1    1949  2nd Month        59.0              -1.362223\n",
      "2    1949      march        66.0              -1.245107\n",
      "3    1949      april        64.5              -1.270203\n",
      "4    1949        may        60.5              -1.337127\n",
      "..    ...        ...         ...                    ...\n",
      "140  1960  september       254.0               1.900280\n",
      "141  1960    october       230.5               1.507107\n",
      "142  1960   november       195.0               0.913164\n",
      "143  1960   december       216.0               1.264510\n",
      "144  1961        NaN       113.0              -0.458760\n",
      "\n",
      "[145 rows x 4 columns]\n"
     ]
    }
   ],
   "source": [
    "import_dataFrame['month'] = import_dataFrame['month'].str.replace('february', '2nd Month')\n",
    "print(import_dataFrame)"
   ]
  },
  {
   "cell_type": "markdown",
   "id": "ddeec0d9-256f-43d6-b961-58e87ee1739a",
   "metadata": {},
   "source": [
    "#### 17. Extract a substring from each value in a column."
   ]
  },
  {
   "cell_type": "code",
   "execution_count": 119,
   "id": "1005eb1a-8ad4-4fe6-8ab8-8ea1f03aa11e",
   "metadata": {},
   "outputs": [
    {
     "name": "stdout",
     "output_type": "stream",
     "text": [
      "             Name                         Email         Domain\n",
      "0        John Doe          john.doe@example.com    example.com\n",
      "1      Jane Smith        jane.smith@example.org    example.org\n",
      "2     Bob Johnson       bob.johnson@example.net    example.net\n",
      "3  Alice Williams  alice.williams@example.co.uk  example.co.uk\n"
     ]
    }
   ],
   "source": [
    "\n",
    "d = {\n",
    "    'Name': ['John Doe', 'Jane Smith', 'Bob Johnson', 'Alice Williams'],\n",
    "    'Email': ['john.doe@example.com', 'jane.smith@example.org', 'bob.johnson@example.net', 'alice.williams@example.co.uk']\n",
    "}\n",
    "\n",
    "df = pd.DataFrame(d)\n",
    "\n",
    "df['Domain'] = df['Email'].str.split('@').str[1]\n",
    "\n",
    "print(df)"
   ]
  },
  {
   "cell_type": "markdown",
   "id": "ee75beea-9f65-4287-8e28-a78d079f284f",
   "metadata": {},
   "source": [
    "#### 18. Convert a column to datetime format."
   ]
  },
  {
   "cell_type": "code",
   "execution_count": 120,
   "id": "7885c23b-ce6e-45e0-b31d-f4fd054106f7",
   "metadata": {},
   "outputs": [
    {
     "name": "stdout",
     "output_type": "stream",
     "text": [
      "     year      month  passengers  normalized_passengers       date\n",
      "0    1949    january        56.0              -1.412415 1949-01-01\n",
      "1    1949  2nd Month        59.0              -1.362223 1949-01-02\n",
      "2    1949      march        66.0              -1.245107 1949-01-03\n",
      "3    1949      april        64.5              -1.270203 1949-01-04\n",
      "4    1949        may        60.5              -1.337127 1949-01-05\n",
      "..    ...        ...         ...                    ...        ...\n",
      "140  1960  september       254.0               1.900280 1949-05-21\n",
      "141  1960    october       230.5               1.507107 1949-05-22\n",
      "142  1960   november       195.0               0.913164 1949-05-23\n",
      "143  1960   december       216.0               1.264510 1949-05-24\n",
      "144  1961        NaN       113.0              -0.458760 1949-05-25\n",
      "\n",
      "[145 rows x 5 columns]\n"
     ]
    }
   ],
   "source": [
    "import_dataFrame['date'] = pd.date_range(start='1949-01-01', periods=len(import_dataFrame), freq='D')\n",
    "import_dataFrame['date'] = pd.to_datetime(import_dataFrame['date'])\n",
    "print(import_dataFrame)"
   ]
  },
  {
   "cell_type": "markdown",
   "id": "626bb2e8-38f9-4e56-9688-a2cdbba28465",
   "metadata": {},
   "source": [
    "#### 19. Extract year, month, and day from a datetime column."
   ]
  },
  {
   "cell_type": "code",
   "execution_count": 121,
   "id": "8038c686-abbe-4951-bdaa-142b31267001",
   "metadata": {},
   "outputs": [
    {
     "name": "stdout",
     "output_type": "stream",
     "text": [
      "     year  month  passengers  normalized_passengers       date  day\n",
      "0    1949      1        56.0              -1.412415 1949-01-01    1\n",
      "1    1949      1        59.0              -1.362223 1949-01-02    2\n",
      "2    1949      1        66.0              -1.245107 1949-01-03    3\n",
      "3    1949      1        64.5              -1.270203 1949-01-04    4\n",
      "4    1949      1        60.5              -1.337127 1949-01-05    5\n",
      "..    ...    ...         ...                    ...        ...  ...\n",
      "140  1949      5       254.0               1.900280 1949-05-21   21\n",
      "141  1949      5       230.5               1.507107 1949-05-22   22\n",
      "142  1949      5       195.0               0.913164 1949-05-23   23\n",
      "143  1949      5       216.0               1.264510 1949-05-24   24\n",
      "144  1949      5       113.0              -0.458760 1949-05-25   25\n",
      "\n",
      "[145 rows x 6 columns]\n"
     ]
    }
   ],
   "source": [
    "import_dataFrame['year'] = import_dataFrame['date'].dt.year\n",
    "import_dataFrame['month'] = import_dataFrame['date'].dt.month\n",
    "import_dataFrame['day'] = import_dataFrame['date'].dt.day\n",
    "print(import_dataFrame)"
   ]
  },
  {
   "cell_type": "markdown",
   "id": "3643b721-f64d-4807-8278-fc8f5e1a0126",
   "metadata": {},
   "source": [
    "#### 20. Filter rows based on a date range."
   ]
  },
  {
   "cell_type": "code",
   "execution_count": 122,
   "id": "0124bbde-ecb0-4b22-a7a6-c8f116805583",
   "metadata": {},
   "outputs": [
    {
     "name": "stdout",
     "output_type": "stream",
     "text": [
      "     year  month  passengers  normalized_passengers       date  day\n",
      "0    1949      1        56.0              -1.412415 1949-01-01    1\n",
      "1    1949      1        59.0              -1.362223 1949-01-02    2\n",
      "2    1949      1        66.0              -1.245107 1949-01-03    3\n",
      "3    1949      1        64.5              -1.270203 1949-01-04    4\n",
      "4    1949      1        60.5              -1.337127 1949-01-05    5\n",
      "..    ...    ...         ...                    ...        ...  ...\n",
      "140  1949      5       254.0               1.900280 1949-05-21   21\n",
      "141  1949      5       230.5               1.507107 1949-05-22   22\n",
      "142  1949      5       195.0               0.913164 1949-05-23   23\n",
      "143  1949      5       216.0               1.264510 1949-05-24   24\n",
      "144  1949      5       113.0              -0.458760 1949-05-25   25\n",
      "\n",
      "[145 rows x 6 columns]\n"
     ]
    }
   ],
   "source": [
    "start = '1949-01-01'\n",
    "end = '1949-12-31'\n",
    "filtered = import_dataFrame[(import_dataFrame['date'] >= start) & (import_dataFrame['date'] <= end)]\n",
    "print(filtered)"
   ]
  },
  {
   "cell_type": "markdown",
   "id": "2424c6aa-cfe4-45e9-a7ce-fbe047bb0a0b",
   "metadata": {},
   "source": [
    "#### 21. Convert a categorical column to numerical using one-hot encoding."
   ]
  },
  {
   "cell_type": "code",
   "execution_count": 123,
   "id": "cbdd04e9-a76d-42f8-bbdd-84169168a133",
   "metadata": {},
   "outputs": [
    {
     "name": "stdout",
     "output_type": "stream",
     "text": [
      "     year  passengers  normalized_passengers       date  day  month_1  \\\n",
      "0    1949        56.0              -1.412415 1949-01-01    1     True   \n",
      "1    1949        59.0              -1.362223 1949-01-02    2     True   \n",
      "2    1949        66.0              -1.245107 1949-01-03    3     True   \n",
      "3    1949        64.5              -1.270203 1949-01-04    4     True   \n",
      "4    1949        60.5              -1.337127 1949-01-05    5     True   \n",
      "..    ...         ...                    ...        ...  ...      ...   \n",
      "140  1949       254.0               1.900280 1949-05-21   21    False   \n",
      "141  1949       230.5               1.507107 1949-05-22   22    False   \n",
      "142  1949       195.0               0.913164 1949-05-23   23    False   \n",
      "143  1949       216.0               1.264510 1949-05-24   24    False   \n",
      "144  1949       113.0              -0.458760 1949-05-25   25    False   \n",
      "\n",
      "     month_2  month_3  month_4  month_5  \n",
      "0      False    False    False    False  \n",
      "1      False    False    False    False  \n",
      "2      False    False    False    False  \n",
      "3      False    False    False    False  \n",
      "4      False    False    False    False  \n",
      "..       ...      ...      ...      ...  \n",
      "140    False    False    False     True  \n",
      "141    False    False    False     True  \n",
      "142    False    False    False     True  \n",
      "143    False    False    False     True  \n",
      "144    False    False    False     True  \n",
      "\n",
      "[145 rows x 10 columns]\n"
     ]
    }
   ],
   "source": [
    "cat_col = pd.get_dummies(import_dataFrame, columns=['month'])\n",
    "print(cat_col)"
   ]
  },
  {
   "cell_type": "markdown",
   "id": "5bb0c622-b659-421b-9b57-8dd38003bdc0",
   "metadata": {},
   "source": [
    "#### 22. Convert a categorical column to numerical using label encoding."
   ]
  },
  {
   "cell_type": "code",
   "execution_count": 124,
   "id": "a2ccc827-4fc8-4613-8318-09e560b8b744",
   "metadata": {},
   "outputs": [
    {
     "name": "stdout",
     "output_type": "stream",
     "text": [
      "     year  month  passengers  normalized_passengers       date  day  \\\n",
      "0    1949      1        56.0              -1.412415 1949-01-01    1   \n",
      "1    1949      1        59.0              -1.362223 1949-01-02    2   \n",
      "2    1949      1        66.0              -1.245107 1949-01-03    3   \n",
      "3    1949      1        64.5              -1.270203 1949-01-04    4   \n",
      "4    1949      1        60.5              -1.337127 1949-01-05    5   \n",
      "..    ...    ...         ...                    ...        ...  ...   \n",
      "140  1949      5       254.0               1.900280 1949-05-21   21   \n",
      "141  1949      5       230.5               1.507107 1949-05-22   22   \n",
      "142  1949      5       195.0               0.913164 1949-05-23   23   \n",
      "143  1949      5       216.0               1.264510 1949-05-24   24   \n",
      "144  1949      5       113.0              -0.458760 1949-05-25   25   \n",
      "\n",
      "     month_encoded  \n",
      "0                0  \n",
      "1                0  \n",
      "2                0  \n",
      "3                0  \n",
      "4                0  \n",
      "..             ...  \n",
      "140              4  \n",
      "141              4  \n",
      "142              4  \n",
      "143              4  \n",
      "144              4  \n",
      "\n",
      "[145 rows x 7 columns]\n"
     ]
    }
   ],
   "source": [
    "import_dataFrame['month_encoded'] = import_dataFrame['month'].astype('category').cat.codes\n",
    "print(import_dataFrame)"
   ]
  },
  {
   "cell_type": "markdown",
   "id": "2badbc2a-b08c-40c4-85d2-d745815d8ff2",
   "metadata": {},
   "source": [
    "#### 23. Group values in a categorical column and create a new column with grouped categories."
   ]
  },
  {
   "cell_type": "code",
   "execution_count": 125,
   "id": "31360232-1841-481c-88b3-59372cfe519f",
   "metadata": {},
   "outputs": [
    {
     "name": "stdout",
     "output_type": "stream",
     "text": [
      "     year  month  passengers  normalized_passengers       date  day  \\\n",
      "0    1949      1        56.0              -1.412415 1949-01-01    1   \n",
      "1    1949      1        59.0              -1.362223 1949-01-02    2   \n",
      "2    1949      1        66.0              -1.245107 1949-01-03    3   \n",
      "3    1949      1        64.5              -1.270203 1949-01-04    4   \n",
      "4    1949      1        60.5              -1.337127 1949-01-05    5   \n",
      "..    ...    ...         ...                    ...        ...  ...   \n",
      "140  1949      5       254.0               1.900280 1949-05-21   21   \n",
      "141  1949      5       230.5               1.507107 1949-05-22   22   \n",
      "142  1949      5       195.0               0.913164 1949-05-23   23   \n",
      "143  1949      5       216.0               1.264510 1949-05-24   24   \n",
      "144  1949      5       113.0              -0.458760 1949-05-25   25   \n",
      "\n",
      "     month_encoded season  \n",
      "0                0    NaN  \n",
      "1                0    NaN  \n",
      "2                0    NaN  \n",
      "3                0    NaN  \n",
      "4                0    NaN  \n",
      "..             ...    ...  \n",
      "140              4    NaN  \n",
      "141              4    NaN  \n",
      "142              4    NaN  \n",
      "143              4    NaN  \n",
      "144              4    NaN  \n",
      "\n",
      "[145 rows x 8 columns]\n"
     ]
    }
   ],
   "source": [
    "season_mapping = {\n",
    "    'January': 'Winter',\n",
    "    'February': 'Winter',\n",
    "    'March': 'Spring',\n",
    "    'April': 'Spring',\n",
    "    'May': 'Spring',\n",
    "    'June': 'Summer',\n",
    "    'July': 'Summer',\n",
    "    'August': 'Summer',\n",
    "    'September': 'Fall',\n",
    "    'October': 'Fall',\n",
    "    'November': 'Fall',\n",
    "    'December': 'Winter'\n",
    "}\n",
    "\n",
    "import_dataFrame['season'] = import_dataFrame['month'].map(season_mapping)\n",
    "\n",
    "print(import_dataFrame)"
   ]
  },
  {
   "cell_type": "markdown",
   "id": "eabcbeeb-63ac-4487-a354-37bb9bf9c4e5",
   "metadata": {},
   "source": [
    "#### 24. Merge two DataFrames based on a common column."
   ]
  },
  {
   "cell_type": "code",
   "execution_count": 126,
   "id": "33cb42bb-39e9-4591-9ebf-77ec72540088",
   "metadata": {},
   "outputs": [
    {
     "name": "stdout",
     "output_type": "stream",
     "text": [
      "     year_x  month_x  passengers  normalized_passengers       date   day  \\\n",
      "0    1949.0      1.0        52.0              -1.479338 1949-01-11  11.0   \n",
      "1    1949.0      1.0        56.0              -1.412415 1949-01-01   1.0   \n",
      "2    1949.0      1.0        57.0              -1.395684 1949-01-23  23.0   \n",
      "3    1949.0      1.0        57.5              -1.387319 1949-01-13  13.0   \n",
      "4    1949.0      1.0        59.0              -1.362223 1949-01-02   2.0   \n",
      "..      ...      ...         ...                    ...        ...   ...   \n",
      "150  1949.0      5.0       274.0               2.234896 1949-05-07   7.0   \n",
      "151  1949.0      5.0       279.5               2.326915 1949-05-08   8.0   \n",
      "152  1949.0      5.0       303.0               2.720089 1949-05-20  20.0   \n",
      "153  1949.0      5.0       311.0               2.853935 1949-05-19  19.0   \n",
      "154  1949.0      1.0         NaN                    NaN 1949-01-07   7.0   \n",
      "\n",
      "     month_encoded season  year_y month_y  \n",
      "0              0.0    NaN     NaN     NaN  \n",
      "1              0.0    NaN     NaN     NaN  \n",
      "2              0.0    NaN     NaN     NaN  \n",
      "3              0.0    NaN     NaN     NaN  \n",
      "4              0.0    NaN     NaN     NaN  \n",
      "..             ...    ...     ...     ...  \n",
      "150            4.0    NaN     NaN     NaN  \n",
      "151            4.0    NaN     NaN     NaN  \n",
      "152            4.0    NaN     NaN     NaN  \n",
      "153            4.0    NaN     NaN     NaN  \n",
      "154            0.0    NaN  1950.0    July  \n",
      "\n",
      "[155 rows x 10 columns]\n"
     ]
    }
   ],
   "source": [
    "data2 = \"\"\"year,month,passengers\n",
    "1950,January,115\n",
    "1950,February,120\n",
    "1950,March,135\n",
    "1950,April,130\n",
    "1950,May,125\n",
    "1950,June,140\n",
    "1950,July,\n",
    "1950,August,150\n",
    "1950,September,140\n",
    "1950,October,125\n",
    "1950,November,110\n",
    "1950,December,120\n",
    "1951,January,120\"\"\"\n",
    "df2 = pd.read_csv(io.StringIO(data2))\n",
    "merger = pd.merge(import_dataFrame, df2, on=['passengers'], how='outer')\n",
    "print(merger)"
   ]
  },
  {
   "cell_type": "markdown",
   "id": "2fec1576-b45d-4a31-9bcd-b4d92b569692",
   "metadata": {},
   "source": [
    "#### 25. Concatenate two DataFrames vertically."
   ]
  },
  {
   "cell_type": "code",
   "execution_count": 127,
   "id": "d3693fc1-8c5a-441c-a225-46aff950570e",
   "metadata": {},
   "outputs": [
    {
     "name": "stdout",
     "output_type": "stream",
     "text": [
      "     year      month  passengers  normalized_passengers       date  day  \\\n",
      "0    1949          1        56.0              -1.412415 1949-01-01  1.0   \n",
      "1    1949          1        59.0              -1.362223 1949-01-02  2.0   \n",
      "2    1949          1        66.0              -1.245107 1949-01-03  3.0   \n",
      "3    1949          1        64.5              -1.270203 1949-01-04  4.0   \n",
      "4    1949          1        60.5              -1.337127 1949-01-05  5.0   \n",
      "..    ...        ...         ...                    ...        ...  ...   \n",
      "153  1950  September       140.0                    NaN        NaT  NaN   \n",
      "154  1950    October       125.0                    NaN        NaT  NaN   \n",
      "155  1950   November       110.0                    NaN        NaT  NaN   \n",
      "156  1950   December       120.0                    NaN        NaT  NaN   \n",
      "157  1951    January       120.0                    NaN        NaT  NaN   \n",
      "\n",
      "     month_encoded season  \n",
      "0              0.0    NaN  \n",
      "1              0.0    NaN  \n",
      "2              0.0    NaN  \n",
      "3              0.0    NaN  \n",
      "4              0.0    NaN  \n",
      "..             ...    ...  \n",
      "153            NaN    NaN  \n",
      "154            NaN    NaN  \n",
      "155            NaN    NaN  \n",
      "156            NaN    NaN  \n",
      "157            NaN    NaN  \n",
      "\n",
      "[158 rows x 8 columns]\n"
     ]
    }
   ],
   "source": [
    "concat = pd.concat([import_dataFrame, df2], ignore_index=True)\n",
    "print(concat)"
   ]
  },
  {
   "cell_type": "markdown",
   "id": "bbc136eb-1dc1-40d8-b8ff-ce2ce2a57f1a",
   "metadata": {},
   "source": [
    "#### 26. Concatenate two DataFrames horizontally.\n"
   ]
  },
  {
   "cell_type": "code",
   "execution_count": 128,
   "id": "29ae1887-8631-45fb-b339-799cfad27405",
   "metadata": {},
   "outputs": [
    {
     "name": "stdout",
     "output_type": "stream",
     "text": [
      "     year month  passengers  normalized_passengers       date  day  \\\n",
      "0    1949     1        56.0              -1.412415 1949-01-01    1   \n",
      "1    1949     1        59.0              -1.362223 1949-01-02    2   \n",
      "2    1949     1        66.0              -1.245107 1949-01-03    3   \n",
      "3    1949     1        64.5              -1.270203 1949-01-04    4   \n",
      "4    1949     1        60.5              -1.337127 1949-01-05    5   \n",
      "..    ...   ...         ...                    ...        ...  ...   \n",
      "140  1949     5       254.0               1.900280 1949-05-21   21   \n",
      "141  1949     5       230.5               1.507107 1949-05-22   22   \n",
      "142  1949     5       195.0               0.913164 1949-05-23   23   \n",
      "143  1949     5       216.0               1.264510 1949-05-24   24   \n",
      "144  1949     5       113.0              -0.458760 1949-05-25   25   \n",
      "\n",
      "     month_encoded season    year     month  passengers  \n",
      "0                0    NaN  1950.0   January       115.0  \n",
      "1                0    NaN  1950.0  February       120.0  \n",
      "2                0    NaN  1950.0     March       135.0  \n",
      "3                0    NaN  1950.0     April       130.0  \n",
      "4                0    NaN  1950.0       May       125.0  \n",
      "..             ...    ...     ...       ...         ...  \n",
      "140              4    NaN     NaN       NaN         NaN  \n",
      "141              4    NaN     NaN       NaN         NaN  \n",
      "142              4    NaN     NaN       NaN         NaN  \n",
      "143              4    NaN     NaN       NaN         NaN  \n",
      "144              4    NaN     NaN       NaN         NaN  \n",
      "\n",
      "[145 rows x 11 columns]\n"
     ]
    }
   ],
   "source": [
    "concat2 = pd.concat([import_dataFrame, df2], axis=1)\n",
    "print(concat2)"
   ]
  },
  {
   "cell_type": "markdown",
   "id": "eef2c3f5-aa4b-4f5a-bc08-421b1965ed2e",
   "metadata": {},
   "source": [
    "#### 27.Create a new column based on existing columns."
   ]
  },
  {
   "cell_type": "code",
   "execution_count": 129,
   "id": "f19c5d82-0187-4caa-8273-5feaf9b464ac",
   "metadata": {},
   "outputs": [
    {
     "name": "stdout",
     "output_type": "stream",
     "text": [
      "     year  month  passengers  normalized_passengers       date  day  \\\n",
      "0    1949      1        56.0              -1.412415 1949-01-01    1   \n",
      "1    1949      1        59.0              -1.362223 1949-01-02    2   \n",
      "2    1949      1        66.0              -1.245107 1949-01-03    3   \n",
      "3    1949      1        64.5              -1.270203 1949-01-04    4   \n",
      "4    1949      1        60.5              -1.337127 1949-01-05    5   \n",
      "..    ...    ...         ...                    ...        ...  ...   \n",
      "140  1949      5       254.0               1.900280 1949-05-21   21   \n",
      "141  1949      5       230.5               1.507107 1949-05-22   22   \n",
      "142  1949      5       195.0               0.913164 1949-05-23   23   \n",
      "143  1949      5       216.0               1.264510 1949-05-24   24   \n",
      "144  1949      5       113.0              -0.458760 1949-05-25   25   \n",
      "\n",
      "     month_encoded season  double passengers  \n",
      "0                0    NaN              112.0  \n",
      "1                0    NaN              118.0  \n",
      "2                0    NaN              132.0  \n",
      "3                0    NaN              129.0  \n",
      "4                0    NaN              121.0  \n",
      "..             ...    ...                ...  \n",
      "140              4    NaN              508.0  \n",
      "141              4    NaN              461.0  \n",
      "142              4    NaN              390.0  \n",
      "143              4    NaN              432.0  \n",
      "144              4    NaN              226.0  \n",
      "\n",
      "[145 rows x 9 columns]\n"
     ]
    }
   ],
   "source": [
    "import_dataFrame['double passengers'] = import_dataFrame['passengers'] * 2\n",
    "print(import_dataFrame)"
   ]
  },
  {
   "cell_type": "markdown",
   "id": "07ef44e0-575b-44f9-813e-d45fd4afa310",
   "metadata": {},
   "source": [
    "#### 28. Discretize a continuous column into bins."
   ]
  },
  {
   "cell_type": "code",
   "execution_count": 130,
   "id": "580e6817-bda9-4d19-b87e-252541b3c554",
   "metadata": {},
   "outputs": [
    {
     "name": "stdout",
     "output_type": "stream",
     "text": [
      "     year  month  passengers  normalized_passengers       date  day  \\\n",
      "0    1949      1        56.0              -1.412415 1949-01-01    1   \n",
      "1    1949      1        59.0              -1.362223 1949-01-02    2   \n",
      "2    1949      1        66.0              -1.245107 1949-01-03    3   \n",
      "3    1949      1        64.5              -1.270203 1949-01-04    4   \n",
      "4    1949      1        60.5              -1.337127 1949-01-05    5   \n",
      "..    ...    ...         ...                    ...        ...  ...   \n",
      "140  1949      5       254.0               1.900280 1949-05-21   21   \n",
      "141  1949      5       230.5               1.507107 1949-05-22   22   \n",
      "142  1949      5       195.0               0.913164 1949-05-23   23   \n",
      "143  1949      5       216.0               1.264510 1949-05-24   24   \n",
      "144  1949      5       113.0              -0.458760 1949-05-25   25   \n",
      "\n",
      "     month_encoded season  double passengers passengers_bin  \n",
      "0                0    NaN              112.0           0-99  \n",
      "1                0    NaN              118.0           0-99  \n",
      "2                0    NaN              132.0           0-99  \n",
      "3                0    NaN              129.0           0-99  \n",
      "4                0    NaN              121.0           0-99  \n",
      "..             ...    ...                ...            ...  \n",
      "140              4    NaN              508.0            NaN  \n",
      "141              4    NaN              461.0            NaN  \n",
      "142              4    NaN              390.0            NaN  \n",
      "143              4    NaN              432.0            NaN  \n",
      "144              4    NaN              226.0        100-119  \n",
      "\n",
      "[145 rows x 10 columns]\n"
     ]
    }
   ],
   "source": [
    "bins = [0, 100, 120, 140, 150]\n",
    "labels = ['0-99', '100-119', '120-139', '140-150']\n",
    "\n",
    "import_dataFrame['passengers_bin'] = pd.cut(import_dataFrame['passengers'], bins=bins, labels=labels)\n",
    "print(import_dataFrame)"
   ]
  },
  {
   "cell_type": "markdown",
   "id": "dbfdd223-b3ed-43d0-b416-da08368c13ae",
   "metadata": {},
   "source": [
    "#### 29. Create polynomial features from existing numerical columns."
   ]
  },
  {
   "cell_type": "code",
   "execution_count": 131,
   "id": "0f5e4544-6ba2-412f-ad1a-b5f1a69da62b",
   "metadata": {},
   "outputs": [
    {
     "name": "stdout",
     "output_type": "stream",
     "text": [
      "     year  month  passengers  normalized_passengers       date  day  \\\n",
      "0    1949      1        56.0              -1.412415 1949-01-01    1   \n",
      "1    1949      1        59.0              -1.362223 1949-01-02    2   \n",
      "2    1949      1        66.0              -1.245107 1949-01-03    3   \n",
      "3    1949      1        64.5              -1.270203 1949-01-04    4   \n",
      "4    1949      1        60.5              -1.337127 1949-01-05    5   \n",
      "..    ...    ...         ...                    ...        ...  ...   \n",
      "140  1949      5       254.0               1.900280 1949-05-21   21   \n",
      "141  1949      5       230.5               1.507107 1949-05-22   22   \n",
      "142  1949      5       195.0               0.913164 1949-05-23   23   \n",
      "143  1949      5       216.0               1.264510 1949-05-24   24   \n",
      "144  1949      5       113.0              -0.458760 1949-05-25   25   \n",
      "\n",
      "     month_encoded season  double passengers passengers_bin  ...  day  \\\n",
      "0                0    NaN              112.0           0-99  ...    1   \n",
      "1                0    NaN              118.0           0-99  ...    4   \n",
      "2                0    NaN              132.0           0-99  ...    9   \n",
      "3                0    NaN              129.0           0-99  ...   16   \n",
      "4                0    NaN              121.0           0-99  ...   25   \n",
      "..             ...    ...                ...            ...  ...  ...   \n",
      "140              4    NaN              508.0            NaN  ...  441   \n",
      "141              4    NaN              461.0            NaN  ...  484   \n",
      "142              4    NaN              390.0            NaN  ...  529   \n",
      "143              4    NaN              432.0            NaN  ...  576   \n",
      "144              4    NaN              226.0        100-119  ...  625   \n",
      "\n",
      "     month_encoded  double passengers        year  month    passengers  \\\n",
      "0                0            12544.0 -1186461243      1  1.756160e+05   \n",
      "1                0            13924.0 -1186461243      1  2.053790e+05   \n",
      "2                0            17424.0 -1186461243      1  2.874960e+05   \n",
      "3                0            16641.0 -1186461243      1  2.683361e+05   \n",
      "4                0            14641.0 -1186461243      1  2.214451e+05   \n",
      "..             ...                ...         ...    ...           ...   \n",
      "140             16           258064.0 -1186461243    125  1.638706e+07   \n",
      "141             16           212521.0 -1186461243    125  1.224652e+07   \n",
      "142             16           152100.0 -1186461243    125  7.414875e+06   \n",
      "143             16           186624.0 -1186461243    125  1.007770e+07   \n",
      "144             16            51076.0 -1186461243    125  1.442897e+06   \n",
      "\n",
      "     normalized_passengers    day  month_encoded  double passengers  \n",
      "0                -2.817650      1              0          1404928.0  \n",
      "1                -2.527810      8              0          1643032.0  \n",
      "2                -1.930280     27              0          2299968.0  \n",
      "3                -2.049368     64              0          2146689.0  \n",
      "4                -2.390659    125              0          1771561.0  \n",
      "..                     ...    ...            ...                ...  \n",
      "140               6.862034   9261             64        131096512.0  \n",
      "141               3.423198  10648             64         97972181.0  \n",
      "142               0.761458  12167             64         59319000.0  \n",
      "143               2.021935  13824             64         80621568.0  \n",
      "144              -0.096551  15625             64         11543176.0  \n",
      "\n",
      "[145 rows x 24 columns]\n"
     ]
    }
   ],
   "source": [
    "num_cols = import_dataFrame.select_dtypes(include='number').columns\n",
    "polynomial_features = []\n",
    "for degree in range(2, 4):\n",
    "    for col in num_cols:\n",
    "        new_col_name = f\"{col}^{degree}\"\n",
    "        polynomial_features.append(import_dataFrame[col] ** degree)\n",
    "import_dataFrame = pd.concat([import_dataFrame] + polynomial_features, axis=1)\n",
    "print(import_dataFrame)"
   ]
  }
 ],
 "metadata": {
  "kernelspec": {
   "display_name": "Python 3 (ipykernel)",
   "language": "python",
   "name": "python3"
  },
  "language_info": {
   "codemirror_mode": {
    "name": "ipython",
    "version": 3
   },
   "file_extension": ".py",
   "mimetype": "text/x-python",
   "name": "python",
   "nbconvert_exporter": "python",
   "pygments_lexer": "ipython3",
   "version": "3.11.9"
  }
 },
 "nbformat": 4,
 "nbformat_minor": 5
}
