{
 "cells": [
  {
   "cell_type": "markdown",
   "id": "b65c83b4-7780-4b97-8ab9-e577b9d6baff",
   "metadata": {},
   "source": [
    "# 🔴 Task 11: NumPy advanced operations (indexing, slicing, broadcasting)"
   ]
  },
  {
   "cell_type": "code",
   "execution_count": null,
   "id": "a4c49213-e822-4996-a9e6-b436119a6cee",
   "metadata": {},
   "outputs": [],
   "source": [
    "import numpy as np"
   ]
  },
  {
   "cell_type": "markdown",
   "id": "bb4308f4-b4d8-405e-947e-745c742780cc",
   "metadata": {},
   "source": [
    "### 1. Given a 2D array of shape (5, 5), extract a 3x3 sub-array starting from the element at position (1, 1).\n"
   ]
  },
  {
   "cell_type": "code",
   "execution_count": 9,
   "id": "c0fbd7bd-cd99-4420-a878-1ec760650c91",
   "metadata": {},
   "outputs": [
    {
     "name": "stdout",
     "output_type": "stream",
     "text": [
      "Original Matrix\n",
      "[[ 9  4 16  7  8]\n",
      " [ 9 10 15  4  6]\n",
      " [ 9  9  1  7 18]\n",
      " [ 6 15 19  5 17]\n",
      " [11 18 17  8 18]]\n",
      "\n",
      "Sub-Matrix\n",
      "[[10 15  4]\n",
      " [ 9  1  7]\n",
      " [15 19  5]]\n"
     ]
    }
   ],
   "source": [
    "arr2 = np.random.randint(0, 20, size=(5, 5))\n",
    "print(\"Original Matrix\")\n",
    "print(arr2)\n",
    "print()\n",
    "sub_arr = arr2[1:4, 1:4]\n",
    "print(\"Sub-Matrix\")\n",
    "print(sub_arr)"
   ]
  },
  {
   "cell_type": "markdown",
   "id": "b8fb78c3-9236-40e2-bb79-122528deca8e",
   "metadata": {},
   "source": [
    "### 2. From a 3D array of shape (4, 3, 2), extract all elements in the first two rows and all columns of the second slice along the third axis."
   ]
  },
  {
   "cell_type": "code",
   "execution_count": 20,
   "id": "34e6b0c2-bc12-4a55-9366-ccff056749fe",
   "metadata": {},
   "outputs": [
    {
     "name": "stdout",
     "output_type": "stream",
     "text": [
      "Original Array\n",
      "[[[ 7  7]\n",
      "  [ 7 10]\n",
      "  [ 1  1]]\n",
      "\n",
      " [[ 1  9]\n",
      "  [10  2]\n",
      "  [ 8  2]]\n",
      "\n",
      " [[ 1  1]\n",
      "  [ 4  7]\n",
      "  [10  5]]\n",
      "\n",
      " [[ 5  2]\n",
      "  [ 5  5]\n",
      "  [ 2  9]]]\n",
      "\n",
      "Sub_Array\n",
      "[[ 7 10]\n",
      " [10  2]]\n"
     ]
    }
   ],
   "source": [
    "arr2 = np.random.randint(1, 11, size=(4,3,2))\n",
    "print(\"Original Array\")\n",
    "print(arr2)\n",
    "print()\n",
    "sub_arr = arr2[:2, 1, :]\n",
    "print(\"Sub_Array\")\n",
    "print(sub_arr)"
   ]
  },
  {
   "cell_type": "markdown",
   "id": "af1f976b-a58c-48fa-b520-79bcf47a27cc",
   "metadata": {},
   "source": [
    "### 3. Given an array of integers, use fancy indexing to extract elements at positions [1, 3, 4, 7]."
   ]
  },
  {
   "cell_type": "code",
   "execution_count": 36,
   "id": "4ad146bf-cda9-48e6-8b63-d1577b7b0eaa",
   "metadata": {},
   "outputs": [
    {
     "name": "stdout",
     "output_type": "stream",
     "text": [
      "Original Array\n",
      "[[1 2 3]\n",
      " [4 5 6]\n",
      " [7 8 9]]\n",
      "Fancy Array\n",
      "[2 6 7]\n"
     ]
    }
   ],
   "source": [
    "arr3 = np.array([[1, 2, 3], [4, 5, 6], [7, 8, 9]])\n",
    "print(\"Original Array\")\n",
    "print(arr3)\n",
    "new_arr = arr3[[0, 1, 2], [1, 2, 0]]\n",
    "\n",
    "print(\"Fancy Array\")\n",
    "print(new_arr)"
   ]
  },
  {
   "cell_type": "markdown",
   "id": "aa33ba7c-044a-41e1-a750-f397ff4b5a4b",
   "metadata": {},
   "source": [
    "### 4. Given a 2D array, use fancy indexing to select rows [0, 2, 3] and columns [1, 3]."
   ]
  },
  {
   "cell_type": "code",
   "execution_count": 42,
   "id": "dc758915-dffc-441a-9523-cb665b7a6476",
   "metadata": {},
   "outputs": [
    {
     "name": "stdout",
     "output_type": "stream",
     "text": [
      "Original Array:\n",
      "[[ 1  2  3  4]\n",
      " [ 5  6  7  8]\n",
      " [ 9 10 11 12]\n",
      " [13 14 15 16]]\n",
      "\n",
      "Fancy Array:\n",
      "[[ 2  4]\n",
      " [10 12]\n",
      " [14 16]]\n"
     ]
    }
   ],
   "source": [
    "arr4 = np.array([[1, 2, 3, 4], \n",
    "                 [5, 6, 7, 8],\n",
    "                 [9, 10, 11, 12],\n",
    "                 [13, 14, 15, 16]])\n",
    "\n",
    "row_indices = np.array([0, 2, 3])\n",
    "col_indices = np.array([1, 3])\n",
    "\n",
    "arr5 = arr4[row_indices[:, None], col_indices]\n",
    "\n",
    "print(\"Original Array:\")\n",
    "print(arr4)\n",
    "print()\n",
    "print(\"Fancy Array:\")\n",
    "print(arr5)"
   ]
  },
  {
   "cell_type": "markdown",
   "id": "1bac3372-efdc-4618-86e5-f39a57c7fdf3",
   "metadata": {},
   "source": [
    "### 5. From a 1D array of random integers, extract all elements that are greater than 10."
   ]
  },
  {
   "cell_type": "code",
   "execution_count": 44,
   "id": "89b1e171-54cd-463c-8b02-f90e45161eca",
   "metadata": {},
   "outputs": [
    {
     "name": "stdout",
     "output_type": "stream",
     "text": [
      "Original Matrix\n",
      "[18 13  9 16  8  4  1 10  8 10 12  8 20  7 19  8  5  6  1 15 12]\n",
      "\n",
      "Greater than 10\n",
      "[18 13 16 12 20 19 15 12]\n"
     ]
    }
   ],
   "source": [
    "arr6 = np.random.randint(1, 21, size=21)\n",
    "arr7 = arr6[arr6 > 10]\n",
    "\n",
    "print(\"Original Matrix\")\n",
    "print(arr6)\n",
    "print()\n",
    "print(\"Greater than 10\")\n",
    "print(arr7)"
   ]
  },
  {
   "cell_type": "markdown",
   "id": "55d52920-c555-459a-859a-1ce28ce05a9f",
   "metadata": {},
   "source": [
    "### 6. Given a 2D array of shape (5, 5), replace all elements greater than 15 with the value 0"
   ]
  },
  {
   "cell_type": "code",
   "execution_count": 53,
   "id": "a2acb6b6-99f3-4a6c-b3fa-93d240626512",
   "metadata": {},
   "outputs": [
    {
     "name": "stdout",
     "output_type": "stream",
     "text": [
      "Original Matrix\n",
      "[[ 3 16  6  6  5]\n",
      " [ 6  8 19 14  7]\n",
      " [ 6  4 13 20 14]\n",
      " [11  6  2  8  4]\n",
      " [ 8 19 10 11 16]]\n",
      "\n",
      "Replaced Values > 15 with 0\n",
      "[[ 3  0  6  6  5]\n",
      " [ 6  8  0 14  7]\n",
      " [ 6  4 13  0 14]\n",
      " [11  6  2  8  4]\n",
      " [ 8  0 10 11  0]]\n"
     ]
    }
   ],
   "source": [
    " arr8 = np.random.randint(1,21,size=(5,5))\n",
    "print(\"Original Matrix\")\n",
    "print(arr8)\n",
    "print()\n",
    "\n",
    "arr8[arr8 > 15] = 0\n",
    "print(\"Replaced Values > 15 with 0\")\n",
    "print(arr8)"
   ]
  },
  {
   "cell_type": "markdown",
   "id": "0761f106-0d9a-43fa-8a17-e5779a6c592b",
   "metadata": {},
   "source": [
    "# Broadcasting"
   ]
  },
  {
   "cell_type": "markdown",
   "id": "553f3ed6-33be-42f6-a4cd-6d4cb4e55b0d",
   "metadata": {},
   "source": [
    "#### 1. Add a 1D array of shape (3,) to each row of a 2D array of shape (4, 3)"
   ]
  },
  {
   "cell_type": "code",
   "execution_count": 2,
   "id": "89ec4f18-8887-48df-9580-10e322b905ba",
   "metadata": {},
   "outputs": [
    {
     "name": "stdout",
     "output_type": "stream",
     "text": [
      "[[130 402 783]\n",
      " [127 409 786]\n",
      " [124 402 789]\n",
      " [121 404 782]]\n"
     ]
    }
   ],
   "source": [
    "import numpy as np\n",
    "arr9 = np.array([[10, 2, 3], \n",
    "                   [7, 9, 6],\n",
    "                   [4, 2, 9],\n",
    "                   [1, 4, 2]])\n",
    "\n",
    "arr10 = np.array([120, 400, 780])\n",
    "\n",
    "result = arr9 + arr10\n",
    "\n",
    "print(result)"
   ]
  },
  {
   "cell_type": "markdown",
   "id": "e1e5b7ac-981b-4b12-9318-70646b5ee045",
   "metadata": {},
   "source": [
    "#### 2. Multiply a 2D array of shape (3, 3) by a 1D array of shape (3,)."
   ]
  },
  {
   "cell_type": "code",
   "execution_count": 3,
   "id": "b7f0be2b-e242-4d98-994b-a2e5e36a9861",
   "metadata": {},
   "outputs": [
    {
     "name": "stdout",
     "output_type": "stream",
     "text": [
      "[280 220 360]\n"
     ]
    }
   ],
   "source": [
    "arr11 = np.array([[2, 4, 6], \n",
    "                   [7, 6, 1], \n",
    "                   [8, 5, 6]])\n",
    "\n",
    "arr12 = np.array([10, 20, 30])\n",
    "\n",
    "result = arr11 @ arr12\n",
    "\n",
    "print(result)"
   ]
  },
  {
   "cell_type": "markdown",
   "id": "85401743-7342-4979-a06c-aa82b21ba273",
   "metadata": {},
   "source": [
    "#### 3. Create two 2D arrays of shapes (3, 1) and (1, 4) respectively, and perform element-wise addition."
   ]
  },
  {
   "cell_type": "code",
   "execution_count": 4,
   "id": "54dc80c9-8e4c-4dea-894b-010ac30ea02c",
   "metadata": {},
   "outputs": [
    {
     "name": "stdout",
     "output_type": "stream",
     "text": [
      "[[17 39 24 58]\n",
      " [22 44 29 63]\n",
      " [24 46 31 65]]\n"
     ]
    }
   ],
   "source": [
    "arr13 = np.array([[2], \n",
    "                  [7],\n",
    "                  [9]])\n",
    "\n",
    "arr14 = np.array([[15, 37, 22, 56]])\n",
    "\n",
    "result = arr13 + arr14\n",
    "\n",
    "print(result)"
   ]
  },
  {
   "cell_type": "markdown",
   "id": "9bc4cc40-5d4a-4529-8219-c16ab3d5ad9e",
   "metadata": {},
   "source": [
    "#### 4. Given a 3D array of shape (2, 3, 4), add a 2D array of shape (3, 4) to each 2D slice along the first axis."
   ]
  },
  {
   "cell_type": "code",
   "execution_count": 5,
   "id": "19897df6-9171-4221-b731-07ae5c1835d7",
   "metadata": {},
   "outputs": [
    {
     "name": "stdout",
     "output_type": "stream",
     "text": [
      "[[[ 101  202  303  404]\n",
      "  [ 505  606  707  808]\n",
      "  [ 909 1010 1111 1212]]\n",
      "\n",
      " [[ 113  214  315  416]\n",
      "  [ 517  618  719  820]\n",
      "  [ 921 1022 1123 1224]]]\n"
     ]
    }
   ],
   "source": [
    "arr15 = np.array([[[ 1,  2,  3,  4],\n",
    "                    [ 5,  6,  7,  8],\n",
    "                    [ 9, 10, 11, 12]],\n",
    "                   [[13, 14, 15, 16],\n",
    "                    [17, 18, 19, 20],\n",
    "                    [21, 22, 23, 24]]])\n",
    "\n",
    "arr16 = np.array([[100, 200, 300, 400],\n",
    "                   [500, 600, 700, 800],\n",
    "                   [900, 1000, 1100, 1200]])\n",
    "\n",
    "result = arr15 + arr16[None, :, :]\n",
    "\n",
    "print(result)"
   ]
  },
  {
   "cell_type": "markdown",
   "id": "96337488-5a66-4f06-a75d-579890134757",
   "metadata": {},
   "source": [
    "#### 5. Given a 2D array, use slicing to extract every second row and every second column, then add a 1D array to each row of the sliced array:"
   ]
  },
  {
   "cell_type": "code",
   "execution_count": 11,
   "id": "ab859b7b-53b2-4896-922c-edaa72772968",
   "metadata": {},
   "outputs": [
    {
     "name": "stdout",
     "output_type": "stream",
     "text": [
      "[[108 203]\n",
      " [108 219]]\n"
     ]
    }
   ],
   "source": [
    "arr17 = np.array([[8, 2, 3, 9],\n",
    "                  [3, 6, 3, 8],\n",
    "                  [8, 1, 19, 15],\n",
    "                  [15, 18, 11, 18]])\n",
    "\n",
    "sl_arr = arr17[::2, ::2]\n",
    "\n",
    "arr18 = np.array([100, 200])\n",
    "\n",
    "result = sl_arr + arr18.reshape(1, -1)\n",
    "\n",
    "print(result)"
   ]
  },
  {
   "cell_type": "markdown",
   "id": "baf51f9f-083d-48f6-bead-7a1c5a48f6df",
   "metadata": {},
   "source": [
    "#### 6. From a 3D array of shape (4, 3, 2), extract a sub-array using slicing and then use broadcasting to subtract a 2D array from each slice along the third axis."
   ]
  },
  {
   "cell_type": "code",
   "execution_count": 19,
   "id": "483150b7-8280-4528-8328-7f9e9c59d47d",
   "metadata": {},
   "outputs": [
    {
     "name": "stdout",
     "output_type": "stream",
     "text": [
      "[[[ 0  0]\n",
      "  [20 20]]\n",
      "\n",
      " [[50 50]\n",
      "  [70 70]]]\n"
     ]
    }
   ],
   "source": [
    "sub_arr = np.array([[[5, 10],\n",
    "                    [15, 20],\n",
    "                    [25, 30]],\n",
    "                   [[35, 40],\n",
    "                    [45, 50],\n",
    "                    [55, 60]],\n",
    "                   [[65, 70],\n",
    "                    [75, 80],\n",
    "                    [85, 90]],\n",
    "                   [[95, 100],\n",
    "                    [105, 110],\n",
    "                    [115, 120]]])\n",
    "\n",
    "arr19 = np.array([[5, 10],\n",
    "                   [15, 20]])\n",
    "\n",
    "sub_arr2 = sub_arr[::2, ::2, :]\n",
    "\n",
    "result = sub_arr2 - arr19[:, None, :]\n",
    "\n",
    "print(result)"
   ]
  },
  {
   "cell_type": "markdown",
   "id": "d694d764-b6a0-423d-9fea-6268aa8a7e93",
   "metadata": {},
   "source": [
    "#### 7. Given a 2D array, extract the diagonal elements and create a 1D array."
   ]
  },
  {
   "cell_type": "code",
   "execution_count": 20,
   "id": "c41fcabf-37dd-4462-a394-a5364ee33b34",
   "metadata": {},
   "outputs": [
    {
     "name": "stdout",
     "output_type": "stream",
     "text": [
      "[ 5 25 45]\n"
     ]
    }
   ],
   "source": [
    "arr20 = np.array([[5, 10, 15],\n",
    "                   [20, 25, 30],\n",
    "                   [35, 40, 45]])\n",
    "\n",
    "diag_arr = arr20.diagonal()\n",
    "\n",
    "print(diag_arr)"
   ]
  },
  {
   "cell_type": "markdown",
   "id": "204af6a1-f2eb-40c1-8bcd-789ae47e8b9e",
   "metadata": {},
   "source": [
    "#### 8. Use slicing to reverse the order of elements in each row of a 2D array."
   ]
  },
  {
   "cell_type": "code",
   "execution_count": 21,
   "id": "00256093-2277-4ad9-bf7a-f2baa953adb8",
   "metadata": {},
   "outputs": [
    {
     "name": "stdout",
     "output_type": "stream",
     "text": [
      "[[15 10  5]\n",
      " [30 25 20]\n",
      " [45 40 35]]\n"
     ]
    }
   ],
   "source": [
    "arr21 = np.array([[5, 10, 15],\n",
    "                   [20, 25, 30],\n",
    "                   [35, 40, 45]])\n",
    "\n",
    "rev_arr = arr21[:, ::-1]\n",
    "\n",
    "print(rev_arr)"
   ]
  },
  {
   "cell_type": "markdown",
   "id": "2cb6f330-720f-41e3-8d54-cc9483faeb64",
   "metadata": {},
   "source": [
    "#### 9. Given a 3D array of shape (4, 5, 6), use slicing to extract a sub-array of shape (2, 3, 4) and then use broadcasting to add a 1D array of shape (4,) to each row along the third axis."
   ]
  },
  {
   "cell_type": "code",
   "execution_count": 23,
   "id": "8c21885a-34cb-4f82-bea3-4551ffb13189",
   "metadata": {},
   "outputs": [
    {
     "name": "stdout",
     "output_type": "stream",
     "text": [
      "[[[1.0645715  2.53392413 3.3958336  4.65409868]\n",
      "  [1.93249583 2.82394003 3.80069559 4.20214583]\n",
      "  [1.68750082 2.18130959 3.71677674 4.29554714]]\n",
      "\n",
      " [[1.07965851 2.13708401 3.407733   4.12751778]\n",
      "  [1.74110112 2.5477271  3.95194547 4.07667103]\n",
      "  [1.20521389 2.24947436 3.00093942 4.99081325]]]\n"
     ]
    }
   ],
   "source": [
    "arr22 = np.random.rand(4, 5, 6)\n",
    "\n",
    "sub_arr = arr22[:2, :3, :4]\n",
    "\n",
    "arr23 = np.array([1, 2, 3, 4])\n",
    "\n",
    "result = sub_arr + arr23[None, None, :]\n",
    "\n",
    "print(result)"
   ]
  },
  {
   "cell_type": "markdown",
   "id": "0a2fbaa6-1454-40ab-a458-b1de8ca82987",
   "metadata": {},
   "source": [
    "#### 10. Create a 2D array and use both slicing and broadcasting to set the last column to the sum of the first two columns for each row."
   ]
  },
  {
   "cell_type": "code",
   "execution_count": 24,
   "id": "8b98dee5-a39a-4039-a548-717fa5de56c5",
   "metadata": {},
   "outputs": [
    {
     "name": "stdout",
     "output_type": "stream",
     "text": [
      "[[ 5 10 15]\n",
      " [20 25 45]\n",
      " [35 40 75]]\n"
     ]
    }
   ],
   "source": [
    "arr24 = np.array([[5, 10, 15],\n",
    "                   [20, 25, 30],\n",
    "                   [35, 40, 45]])\n",
    "\n",
    "arr24[:, -1] = arr24[:, 0] + arr24[:, 1]\n",
    "\n",
    "print(arr24)"
   ]
  },
  {
   "cell_type": "code",
   "execution_count": null,
   "id": "64defd46-7bac-45fc-8328-777409a67ee5",
   "metadata": {},
   "outputs": [],
   "source": []
  }
 ],
 "metadata": {
  "kernelspec": {
   "display_name": "Python 3 (ipykernel)",
   "language": "python",
   "name": "python3"
  },
  "language_info": {
   "codemirror_mode": {
    "name": "ipython",
    "version": 3
   },
   "file_extension": ".py",
   "mimetype": "text/x-python",
   "name": "python",
   "nbconvert_exporter": "python",
   "pygments_lexer": "ipython3",
   "version": "3.11.9"
  }
 },
 "nbformat": 4,
 "nbformat_minor": 5
}
