{
 "cells": [
  {
   "cell_type": "markdown",
   "id": "f565b914-0008-4c59-b172-4784c72aae30",
   "metadata": {},
   "source": [
    "# TRAVEL BUDDY ASSITANT (STILL WORKING IN PROGRESS)"
   ]
  },
  {
   "cell_type": "markdown",
   "id": "2fdbae12-711a-4d69-bbc9-50eb0b546dd7",
   "metadata": {},
   "source": [
    "## Import all Libraries"
   ]
  },
  {
   "cell_type": "code",
   "execution_count": 7,
   "id": "c8e7d894-515c-464c-81bb-cfb4d02b0f1c",
   "metadata": {},
   "outputs": [],
   "source": [
    "import pandas as pd\n",
    "from langchain_openai import ChatOpenAI\n",
    "from langchain.prompts import PromptTemplate\n",
    "from langchain.chains import LLMChain"
   ]
  },
  {
   "cell_type": "markdown",
   "id": "796c8817-95da-4f5c-88bf-bbf266ae76a5",
   "metadata": {},
   "source": [
    "## Load and Print DF to see if all works okay"
   ]
  },
  {
   "cell_type": "code",
   "execution_count": 2,
   "id": "5efcbc96-5b68-4756-81a1-179e46f60b62",
   "metadata": {},
   "outputs": [
    {
     "name": "stdout",
     "output_type": "stream",
     "text": [
      "            City Country                 Attractions  Hobbies  \\\n",
      "0       New York     USA           Statue of Liberty  culture   \n",
      "1       New York     USA  Metropolitan Museum of Art  culture   \n",
      "2     Washington      DC     Smithsonian Institution  culture   \n",
      "3  San Francisco     USA            Golden Gate Park  culture   \n",
      "4    Los Angeles     USA            The Getty Center  culture   \n",
      "\n",
      "                                         Description  \n",
      "0                An emblem of freedom and democracy.  \n",
      "1  One of the largest and most prestigious art mu...  \n",
      "2  A group of museums and research centers includ...  \n",
      "3  A large urban park with museums gardens and cu...  \n",
      "4  A museum known for its art collections and stu...  \n",
      "DataFrame Columns: Index(['City', 'Country', 'Attractions', 'Hobbies', 'Description'], dtype='object')\n"
     ]
    }
   ],
   "source": [
    "destinations_df = pd.read_csv(\"data.csv\", header=0)\n",
    "destinations_df.dropna() \n",
    "print(destinations_df.head())\n",
    "print(\"DataFrame Columns:\", destinations_df.columns)"
   ]
  },
  {
   "cell_type": "markdown",
   "id": "8099db92-44f2-4373-9d9c-5233d32a840d",
   "metadata": {},
   "source": [
    "## Initialize LangChain OpenAI model with custom API Key and Define the prompt template, github does not allow api key so commenting it out"
   ]
  },
  {
   "cell_type": "code",
   "execution_count": 3,
   "id": "7c7fe2d9-b090-4dd5-9a11-a0de973a8aae",
   "metadata": {},
   "outputs": [],
   "source": [
    "llm = ChatOpenAI(temperature=0.7)\n",
    "prompt_template = PromptTemplate(\n",
    "    input_variables=[\"hobbies\", \"city\"],\n",
    "    template=\"Based on the hobbies '{hobbies}' and the city '{city}', suggest the best travel destination.\"\n",
    ")"
   ]
  },
  {
   "cell_type": "markdown",
   "id": "8d9c8c24-061f-4bd1-b0f8-a2122855b727",
   "metadata": {},
   "source": [
    "## - Create an LLMChain\n",
    "## - Process hobbies to create a search string\n",
    "## - Filter destinations based on hobbies\n",
    "## - Generate recommendations with attractions and descriptions"
   ]
  },
  {
   "cell_type": "code",
   "execution_count": 6,
   "id": "03bf8d23-72e9-47cd-b3cd-685487317bf7",
   "metadata": {},
   "outputs": [],
   "source": [
    "chain = LLMChain(llm=llm, prompt=prompt_template)\n",
    "\n",
    "def recommend_destination(hobbies, city):\n",
    "    hobbies_list = hobbies.split(\", \")\n",
    "\n",
    "    filtered_destinations = destinations_df[\n",
    "        destinations_df['Hobbies'].apply(lambda x: any(hobby in x for hobby in hobbies_list))\n",
    "    ]\n",
    "\n",
    "    if filtered_destinations.empty:\n",
    "        return \"No destinations found for your hobbies.\"\n",
    "\n",
    "    recommendations = []\n",
    "    for _, row in filtered_destinations.iterrows():\n",
    "        recommendation = (\n",
    "            f\"{row['City']}, {row['Country']} - Hobbies: {row['Hobbies']}\\n\"\n",
    "            f\"Attractions: {row['Attractions']}\\n\"\n",
    "            f\"Description: {row['Description']}\\n\"\n",
    "        )\n",
    "        recommendations.append(recommendation)\n",
    "\n",
    "    return recommendations\n"
   ]
  },
  {
   "cell_type": "code",
   "execution_count": 5,
   "id": "db3b16ea-e8d3-40eb-b925-8a4254ecd705",
   "metadata": {},
   "outputs": [
    {
     "name": "stdin",
     "output_type": "stream",
     "text": [
      "Enter your hobbies (comma-separated):  culture\n",
      "Enter your preferred city (e.g., Paris, New York):  USA\n"
     ]
    },
    {
     "name": "stdout",
     "output_type": "stream",
     "text": [
      "Recommended Destinations:\n",
      "New York, USA - Hobbies: culture\n",
      "Attractions: Statue of Liberty\n",
      "Description: An emblem of freedom and democracy.\n",
      "\n",
      "New York, USA - Hobbies: culture\n",
      "Attractions: Metropolitan Museum of Art\n",
      "Description: One of the largest and most prestigious art museums in the world.\n",
      "\n",
      "Washington, DC - Hobbies: culture\n",
      "Attractions: Smithsonian Institution\n",
      "Description: A group of museums and research centers including the Air and Space Museum.\n",
      "\n",
      "San Francisco, USA - Hobbies: culture\n",
      "Attractions: Golden Gate Park\n",
      "Description: A large urban park with museums gardens and cultural institutions.\n",
      "\n",
      "Los Angeles, USA - Hobbies: culture\n",
      "Attractions: The Getty Center\n",
      "Description: A museum known for its art collections and stunning architecture.\n",
      "\n",
      "Chicago, USA - Hobbies: culture\n",
      "Attractions: Art Institute of Chicago\n",
      "Description: Home to an extensive collection of Impressionist and Post-Impressionist paintings.\n",
      "\n",
      "Philadelphia, USA - Hobbies: culture\n",
      "Attractions: Independence Hall\n",
      "Description: The birthplace of the United States where the Declaration of Independence was signed.\n",
      "\n",
      "Seattle, USA - Hobbies: culture\n",
      "Attractions: Seattle Art Museum\n",
      "Description: A major venue for art exhibitions including contemporary and Native American art.\n",
      "\n",
      "Boston, USA - Hobbies: culture\n",
      "Attractions: Freedom Trail\n",
      "Description: A 2.5-mile walking trail that passes by 16 historical sites.\n",
      "\n",
      "New Orleans, USA - Hobbies: culture\n",
      "Attractions: The French Quarter\n",
      "Description: Known for its vibrant music scene historic architecture and unique cuisine.\n",
      "\n",
      "Atlanta, USA - Hobbies: culture\n",
      "Attractions: High Museum of Art\n",
      "Description: A leading art museum in the Southeastern U.S. featuring American art.\n",
      "\n",
      "Miami, USA - Hobbies: culture\n",
      "Attractions: Little Havana\n",
      "Description: A neighborhood known for its Cuban culture music and food.\n",
      "\n",
      "Nashville, USA - Hobbies: culture\n",
      "Attractions: Country Music Hall of Fame\n",
      "Description: A museum dedicated to the preservation and interpretation of country music.\n",
      "\n",
      "Savannah, USA - Hobbies: culture\n",
      "Attractions: Savannah Historic District\n",
      "Description: A well-preserved historic area known for its architecture and public squares.\n",
      "\n",
      "Los Angeles, USA - Hobbies: culture\n",
      "Attractions: Hollywood Walk of Fame\n",
      "Description: A sidewalk featuring over 2600 brass stars honoring notable figures in the entertainment industry.\n",
      "\n",
      "San Diego, USA - Hobbies: culture\n",
      "Attractions: Balboa Park\n",
      "Description: A large park with museums gardens and the San Diego Zoo.\n",
      "\n",
      "Denver, USA - Hobbies: culture\n",
      "Attractions: Denver Art Museum\n",
      "Description: Known for its collection of Native American art and contemporary pieces.\n",
      "\n",
      "Portland, USA - Hobbies: culture\n",
      "Attractions: Portland Art Museum\n",
      "Description: One of the oldest art museums in the country featuring Native American art and modern works.\n",
      "\n",
      "Phoenix, USA - Hobbies: culture\n",
      "Attractions: Heard Museum\n",
      "Description: Dedicated to the advancement and preservation of American Indian art and culture.\n",
      "\n",
      "Detroit, USA - Hobbies: culture\n",
      "Attractions: Detroit Institute of Arts\n",
      "Description: Home to a diverse collection of art including the famous Diego Rivera murals.\n",
      "\n",
      "Cleveland, USA - Hobbies: culture\n",
      "Attractions: Cleveland Museum of Art\n",
      "Description: A renowned art museum with a wide-ranging collection from around the world.\n",
      "\n",
      "Total recommended destinations: 21\n"
     ]
    }
   ],
   "source": [
    "def summarize_recommendations(recommendations):\n",
    "    if isinstance(recommendations, list):\n",
    "        return f\"Total recommended destinations: {len(recommendations)}\"\n",
    "    return recommendations\n",
    "\n",
    "user_hobbies = input(\"Enter your hobbies (comma-separated): \")\n",
    "user_city = input(\"Enter your preferred city (e.g., Paris, New York): \")\n",
    "\n",
    "recommendations = recommend_destination(user_hobbies, user_city)\n",
    "\n",
    "if isinstance(recommendations, list):\n",
    "    print(\"Recommended Destinations:\")\n",
    "    for rec in recommendations:\n",
    "        print(rec)\n",
    "    print(summarize_recommendations(recommendations))\n",
    "else:\n",
    "    print(recommendations)"
   ]
  },
  {
   "cell_type": "markdown",
   "id": "e2f724a9-d0ba-4a2b-a504-77c40564b4fa",
   "metadata": {},
   "source": [
    "#### Currently we only have limited data but we are in process to make it scrap data in real life and then suggest or recommend the user about the places, it will allow us to include more hobbies and increase the user experience, it will also reccomend the user multiple places and user can also enter days till he is in that country and it will create a personalized schedule as well. Moreover, we are looking to expand by taking reviews and using sentiment Analysis on it to reccomend the user the best place."
   ]
  }
 ],
 "metadata": {
  "kernelspec": {
   "display_name": "Python 3 (ipykernel)",
   "language": "python",
   "name": "python3"
  },
  "language_info": {
   "codemirror_mode": {
    "name": "ipython",
    "version": 3
   },
   "file_extension": ".py",
   "mimetype": "text/x-python",
   "name": "python",
   "nbconvert_exporter": "python",
   "pygments_lexer": "ipython3",
   "version": "3.11.9"
  }
 },
 "nbformat": 4,
 "nbformat_minor": 5
}
