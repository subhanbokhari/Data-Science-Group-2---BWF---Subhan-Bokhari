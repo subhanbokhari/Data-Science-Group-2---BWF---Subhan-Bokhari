{
 "cells": [
  {
   "cell_type": "markdown",
   "id": "c97b7809-494d-41a4-8443-45f00491c00e",
   "metadata": {},
   "source": [
    "# Heading1"
   ]
  },
  {
   "cell_type": "markdown",
   "id": "fe35e141-a682-4774-bb19-e1dc03974b94",
   "metadata": {},
   "source": [
    "## Heading2"
   ]
  },
  {
   "cell_type": "markdown",
   "id": "cc44bd1a-4860-4ecf-be58-d5ff10c3ad21",
   "metadata": {},
   "source": [
    "### Heading3"
   ]
  },
  {
   "cell_type": "markdown",
   "id": "c48a5bf2-ba98-45c8-976c-fd0ea523726d",
   "metadata": {},
   "source": [
    "Heading 1\n",
    "=========\n",
    "\n",
    "Heading 2\n",
    "---------"
   ]
  },
  {
   "cell_type": "markdown",
   "id": "04b7552c-ba85-4a04-b301-8c5a9ecce24e",
   "metadata": {},
   "source": [
    "Heading 1\n",
    "=========="
   ]
  },
  {
   "cell_type": "markdown",
   "id": "8599b3c6-3651-4ce3-bf62-b0ada5b59aae",
   "metadata": {},
   "source": [
    "# 🚀 Blast Off!\n",
    "## 🌍 Our Planet\n",
    "### 💻 Data Analysis\n"
   ]
  },
  {
   "cell_type": "markdown",
   "id": "5633d089-d5ed-4583-9f8c-576753c689b7",
   "metadata": {},
   "source": [
    "# Underlined\n",
    "# =========="
   ]
  },
  {
   "cell_type": "markdown",
   "id": "466f6e81-1a7f-4331-8cac-7836ad378537",
   "metadata": {},
   "source": [
    "**this is a bold text**"
   ]
  },
  {
   "cell_type": "markdown",
   "id": "fe8f4350-1821-487f-877e-14bf3e4524c1",
   "metadata": {},
   "source": [
    "_this is italic text_"
   ]
  },
  {
   "cell_type": "markdown",
   "id": "e9429a78-2530-4f13-b46e-8ca9bc023344",
   "metadata": {},
   "source": [
    "**_Both bold & Italic_**"
   ]
  },
  {
   "cell_type": "markdown",
   "id": "e88e7ed6-c91b-4994-bced-76ff06901fb6",
   "metadata": {},
   "source": [
    "[this is a link to google](https://www.google.com/)"
   ]
  },
  {
   "cell_type": "markdown",
   "id": "18675673-4bb4-4182-a4bc-f99e4ef90311",
   "metadata": {},
   "source": [
    "![Canoe](https://images.stockcake.com/public/8/9/c/89cf4db1-73ae-44ff-be53-61d3051897bb_large/sunset-canoe-adventure-stockcake.jpg)"
   ]
  },
  {
   "cell_type": "markdown",
   "id": "d12c0eec-7f35-48b9-860e-aa2bad5b66d8",
   "metadata": {},
   "source": [
    "1. Item One\n",
    "1. Item Two\n",
    "1. Item Three "
   ]
  },
  {
   "cell_type": "markdown",
   "id": "3f71a492-5f96-4fbd-90cb-224181184460",
   "metadata": {},
   "source": [
    "* item one\n",
    "* item two\n",
    "* item three"
   ]
  },
  {
   "cell_type": "markdown",
   "id": "b36e8ab4-9b0a-46b5-96bb-8855cc857493",
   "metadata": {},
   "source": [
    "* item One\n",
    "    1. Item 1a\n",
    "    2. Item 1b\n",
    "    3. Item 1c\n",
    "* item Two\n",
    "    1. Item 2a\n",
    "    2. item 2b\n",
    "    3. Item 2c"
   ]
  },
  {
   "cell_type": "code",
   "execution_count": null,
   "id": "f0b81f2c-1e45-436a-8eea-082b9bc9d5cd",
   "metadata": {},
   "outputs": [],
   "source": []
  }
 ],
 "metadata": {
  "kernelspec": {
   "display_name": "Python 3 (ipykernel)",
   "language": "python",
   "name": "python3"
  },
  "language_info": {
   "codemirror_mode": {
    "name": "ipython",
    "version": 3
   },
   "file_extension": ".py",
   "mimetype": "text/x-python",
   "name": "python",
   "nbconvert_exporter": "python",
   "pygments_lexer": "ipython3",
   "version": "3.11.9"
  }
 },
 "nbformat": 4,
 "nbformat_minor": 5
}
