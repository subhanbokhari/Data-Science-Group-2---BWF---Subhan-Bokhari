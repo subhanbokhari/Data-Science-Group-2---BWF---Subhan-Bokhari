{
 "cells": [
  {
   "cell_type": "markdown",
   "id": "25f8774f-d8db-4fa9-a665-fab53b6bb75d",
   "metadata": {},
   "source": [
    "# <span style='color:blue'>Jupyter Notebook Title: Student Management System</span>\n",
    "\n",
    "\n",
    "#### <span style='color:green'>Objective:</span>\n",
    "The objective of this Python script is to create a simple student management system that allows users to perform operations such as adding, searching, deleting, displaying student records, and saving the data to a file (`studentData.txt`). The program ensures that student records are stored persistently across sessions using JSON file handling.\n"
   ]
  },
  {
   "cell_type": "code",
   "execution_count": 1,
   "id": "83575bec-bc45-4a6a-9870-bd509a7d213d",
   "metadata": {},
   "outputs": [
    {
     "name": "stdout",
     "output_type": "stream",
     "text": [
      "\n",
      "Student Data\n",
      "1.Add\n",
      "2.Search\n",
      "3.Delete\n",
      "4.Display\n",
      "5.Save\n"
     ]
    },
    {
     "name": "stdin",
     "output_type": "stream",
     "text": [
      "Enter your choice 1-5:  \n"
     ]
    },
    {
     "name": "stdout",
     "output_type": "stream",
     "text": [
      "Invalid Option.\n",
      "\n",
      "Student Data\n",
      "1.Add\n",
      "2.Search\n",
      "3.Delete\n",
      "4.Display\n",
      "5.Save\n"
     ]
    },
    {
     "name": "stdin",
     "output_type": "stream",
     "text": [
      "Enter your choice 1-5:  1\n",
      "Enter stdID:  6\n"
     ]
    },
    {
     "name": "stdout",
     "output_type": "stream",
     "text": [
      "Error: Student ID already exists.\n",
      "\n",
      "Student Data\n",
      "1.Add\n",
      "2.Search\n",
      "3.Delete\n",
      "4.Display\n",
      "5.Save\n"
     ]
    },
    {
     "name": "stdin",
     "output_type": "stream",
     "text": [
      "Enter your choice 1-5:  1\n",
      "Enter stdID:  2\n",
      "Enter student name:  Hamza\n",
      "Enter student age:  23\n",
      "Enter student grade:  15\n"
     ]
    },
    {
     "name": "stdout",
     "output_type": "stream",
     "text": [
      "Added\n",
      "\n",
      "Student Data\n",
      "1.Add\n",
      "2.Search\n",
      "3.Delete\n",
      "4.Display\n",
      "5.Save\n"
     ]
    },
    {
     "name": "stdin",
     "output_type": "stream",
     "text": [
      "Enter your choice 1-5:  2\n",
      "Enter stdID:  2\n"
     ]
    },
    {
     "name": "stdout",
     "output_type": "stream",
     "text": [
      "stdID: 2\n",
      "Student Name: Hamza\n",
      "Student Age: 23\n",
      "Student Grade: 15\n",
      "\n",
      "Student Data\n",
      "1.Add\n",
      "2.Search\n",
      "3.Delete\n",
      "4.Display\n",
      "5.Save\n"
     ]
    },
    {
     "name": "stdin",
     "output_type": "stream",
     "text": [
      "Enter your choice 1-5:  3\n",
      "Enter stdID:  2\n"
     ]
    },
    {
     "name": "stdout",
     "output_type": "stream",
     "text": [
      "Student record deleted successfully.\n",
      "\n",
      "Student Data\n",
      "1.Add\n",
      "2.Search\n",
      "3.Delete\n",
      "4.Display\n",
      "5.Save\n"
     ]
    },
    {
     "name": "stdin",
     "output_type": "stream",
     "text": [
      "Enter your choice 1-5:  4\n"
     ]
    },
    {
     "name": "stdout",
     "output_type": "stream",
     "text": [
      "Students:\n",
      "Student ID: 6, Name: subhan, Age: 21, Grade: 15\n",
      "\n",
      "Student Data\n",
      "1.Add\n",
      "2.Search\n",
      "3.Delete\n",
      "4.Display\n",
      "5.Save\n"
     ]
    },
    {
     "name": "stdin",
     "output_type": "stream",
     "text": [
      "Enter your choice 1-5:  5\n"
     ]
    },
    {
     "name": "stdout",
     "output_type": "stream",
     "text": [
      "Exiting the program.\n"
     ]
    }
   ],
   "source": [
    "import os\n",
    "import json\n",
    "if not os.path.exists(\"studentData.txt\"):\n",
    "    with open(\"studentData.txt\", \"w\") as file:\n",
    "        json.dump([], file)\n",
    "    students = []\n",
    "else:\n",
    "    with open(\"studentData.txt\", \"r\") as file:\n",
    "        students = json.load(file)\n",
    "\n",
    "def add():\n",
    "    stdID = input(\"Enter stdID: \")\n",
    "    \n",
    "    for student in students:\n",
    "        if student[\"stdID\"] == stdID:\n",
    "            print(\"Error: Student ID already exists.\")\n",
    "            return\n",
    "    \n",
    "    student_name = input(\"Enter student name: \")\n",
    "    student_age = int(input(\"Enter student age: \"))\n",
    "    student_grade = int(input(\"Enter student grade: \"))\n",
    "    \n",
    "    student = {\n",
    "        \"stdID\": stdID,\n",
    "        \"student_name\": student_name,\n",
    "        \"student_age\": student_age,\n",
    "        \"student_grade\": student_grade\n",
    "    }\n",
    "    \n",
    "    students.append(student)\n",
    "    print(\"Added\")\n",
    "\n",
    "def search():\n",
    "    stdID = input(\"Enter stdID: \")\n",
    "    \n",
    "    for student in students:\n",
    "        if student[\"stdID\"] == stdID:\n",
    "            print(\"stdID:\", student[\"stdID\"])\n",
    "            print(\"Student Name:\", student[\"student_name\"])\n",
    "            print(\"Student Age:\", student[\"student_age\"])\n",
    "            print(\"Student Grade:\", student[\"student_grade\"])\n",
    "            return\n",
    "    \n",
    "    print(\"Error: Student not found.\")\n",
    "\n",
    "def delete():\n",
    "    stdID = input(\"Enter stdID: \")\n",
    "    \n",
    "    for index, student in enumerate(students):\n",
    "        if student[\"stdID\"] == stdID:\n",
    "            del students[index]\n",
    "            print(\"Student record deleted successfully.\")\n",
    "            return students\n",
    "    \n",
    "    print(\"Error: Student not found.\")\n",
    "    \n",
    "def display():\n",
    "    if not students:\n",
    "        print(\"No records found.\")\n",
    "    else:\n",
    "        print(\"Students:\")\n",
    "        for student in students:\n",
    "            print(f\"Student ID: {student['stdID']}, Name: {student['student_name']}, Age: {student['student_age']}, Grade: {student['student_grade']}\")\n",
    "\n",
    "def save():\n",
    "    with open(\"studentData.txt\", \"w\") as file:\n",
    "        json.dump(students, file)\n",
    "    print(\"Exiting the program.\")\n",
    "\n",
    "while True:\n",
    "    print(\"\\nStudent Data\")\n",
    "    print(\"1.Add\")\n",
    "    print(\"2.Search\")\n",
    "    print(\"3.Delete\")\n",
    "    print(\"4.Display\")\n",
    "    print(\"5.Save\")\n",
    "    \n",
    "    try:\n",
    "        choice = input(\"Enter your choice 1-5: \")\n",
    "        \n",
    "        if choice == \"1\":\n",
    "            add()\n",
    "        elif choice == \"2\":\n",
    "            search()\n",
    "        elif choice == \"3\":\n",
    "            delete()\n",
    "        elif choice == \"4\":\n",
    "            display()\n",
    "        elif choice == \"5\":\n",
    "            save()\n",
    "            break\n",
    "        else:\n",
    "            print(\"Invalid Option.\")\n",
    "    except ValueError:\n",
    "        print(\"Error: Invalid input.\")"
   ]
  },
  {
   "cell_type": "markdown",
   "id": "19ccd662-cfe6-4cfc-91f3-7200f783c08f",
   "metadata": {},
   "source": [
    "\n",
    "#### <span style='color:red'>Summary:</span>\n",
    "The main functionalities include:\n",
    "- **Add**: Allows adding a new student record by entering student ID, name, age, and grade. Checks if the student ID already exists to avoid duplicates.\n",
    "- **Search**: Searches for a student record by student ID and displays the details if found.\n",
    "- **Delete**: Deletes a student record based on the student ID entered.\n",
    "- **Display**: Shows all stored student records.\n",
    "- **Save**: Saves the current list of student records back to the `studentData.txt` file before exiting the program.\n",
    "\n",
    "The program runs in a loop until the user chooses to exit by selecting option 5. It handles errors such as invalid inputs gracefully using exception handling.\n",
    "\n",
    "This script effectively demonstrates basic file handling with JSON, user input validation, and CRUD operations (Create, Read, Update, Delete) on student records.\n"
   ]
  },
  {
   "cell_type": "code",
   "execution_count": null,
   "id": "c7a74477-548a-45d3-8cad-68c32218aef4",
   "metadata": {},
   "outputs": [],
   "source": []
  }
 ],
 "metadata": {
  "kernelspec": {
   "display_name": "Python 3 (ipykernel)",
   "language": "python",
   "name": "python3"
  },
  "language_info": {
   "codemirror_mode": {
    "name": "ipython",
    "version": 3
   },
   "file_extension": ".py",
   "mimetype": "text/x-python",
   "name": "python",
   "nbconvert_exporter": "python",
   "pygments_lexer": "ipython3",
   "version": "3.11.9"
  }
 },
 "nbformat": 4,
 "nbformat_minor": 5
}
