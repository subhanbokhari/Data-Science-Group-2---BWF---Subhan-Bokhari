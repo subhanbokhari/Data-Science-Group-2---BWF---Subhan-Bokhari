{
 "cells": [
  {
   "cell_type": "markdown",
   "id": "fc6e86e2-b28b-472c-bcb1-ca510c0cb88f",
   "metadata": {},
   "source": [
    "# 🔴 Task 31-> Dimensionality Reduction Techniques"
   ]
  },
  {
   "cell_type": "markdown",
   "id": "620d6386-89ba-431f-950f-615960946a01",
   "metadata": {},
   "source": [
    "## **Principal Component Analysis (PCA)**"
   ]
  },
  {
   "cell_type": "markdown",
   "id": "26c32420-d1a2-466f-b44c-3a654b88cf4f",
   "metadata": {},
   "source": [
    "## 🌟 Import all the necessary Libraries"
   ]
  },
  {
   "cell_type": "code",
   "execution_count": 781,
   "id": "f48cb9eb-55c0-4b1a-883b-77d0b1e38c70",
   "metadata": {},
   "outputs": [],
   "source": [
    "import numpy as np\n",
    "import pandas as pd\n",
    "from sklearn.decomposition import PCA\n",
    "from sklearn.preprocessing import StandardScaler\n",
    "from sklearn.model_selection import train_test_split\n",
    "from sklearn.datasets import load_iris\n",
    "from sklearn.discriminant_analysis import LinearDiscriminantAnalysis\n",
    "from sklearn.datasets import make_classification\n",
    "from sklearn.decomposition import TruncatedSVD\n",
    "from sklearn.manifold import TSNE\n",
    "from sklearn.linear_model import LogisticRegression\n",
    "from sklearn.decomposition import FastICA\n",
    "from sklearn.feature_selection import SelectKBest, chi2, RFE, f_classif\n",
    "from sklearn.metrics import accuracy_score\n",
    "from sklearn.datasets import load_breast_cancer\n",
    "import seaborn as sns\n",
    "import matplotlib.pyplot as plt\n",
    "model = LogisticRegression(max_iter=1000)"
   ]
  },
  {
   "cell_type": "markdown",
   "id": "0a7d9829-bf0e-43b9-a7d2-1fa77cc3174e",
   "metadata": {},
   "source": [
    "## 🌟 Load the Iris Dataset with data and target"
   ]
  },
  {
   "cell_type": "code",
   "execution_count": 782,
   "id": "ca2b0a89-d038-446f-9584-7ffceeb90e4f",
   "metadata": {},
   "outputs": [],
   "source": [
    "iris = load_iris()\n",
    "X = iris.data\n",
    "y = iris.target"
   ]
  },
  {
   "cell_type": "markdown",
   "id": "f1f7a1ac-eec1-477d-9733-09d3b504265f",
   "metadata": {},
   "source": [
    "## 🌟 Split into Training and Testing Sets"
   ]
  },
  {
   "cell_type": "code",
   "execution_count": 783,
   "id": "f66d77df-4f29-4207-a1f5-28a1154d6f01",
   "metadata": {},
   "outputs": [],
   "source": [
    "X_train, X_test, y_train, y_test = train_test_split(X, y, test_size=0.2, random_state=42)"
   ]
  },
  {
   "cell_type": "markdown",
   "id": "51c7856b-39df-4d57-bf84-af8ffd0e8ee4",
   "metadata": {},
   "source": [
    "## 🌟 Standardize the data for PCA"
   ]
  },
  {
   "cell_type": "code",
   "execution_count": 784,
   "id": "c8d4c66e-9220-4860-96bd-82c8029f489b",
   "metadata": {},
   "outputs": [],
   "source": [
    "scaler = StandardScaler()\n",
    "X_train_std = scaler.fit_transform(X_train)\n",
    "X_test_std = scaler.transform(X_test)"
   ]
  },
  {
   "cell_type": "markdown",
   "id": "eb834ae9-cc35-49ba-b215-e73207d21d07",
   "metadata": {},
   "source": [
    "## 🌟 Apply PCA"
   ]
  },
  {
   "cell_type": "code",
   "execution_count": 785,
   "id": "a252ef99-1c46-4a42-940f-30e65b717fb4",
   "metadata": {},
   "outputs": [],
   "source": [
    "p = PCA()\n",
    "trainp = p.fit_transform(X_train_std)"
   ]
  },
  {
   "cell_type": "markdown",
   "id": "33cd9c09-2f8e-45d4-9454-b5788937cfcf",
   "metadata": {},
   "source": [
    "## 🌟 Calculate the cumulative explained variance"
   ]
  },
  {
   "cell_type": "code",
   "execution_count": 786,
   "id": "00b026f2-ed1a-4c13-97b8-d995ee1cdd17",
   "metadata": {},
   "outputs": [],
   "source": [
    "cvr = np.cumsum(p.explained_variance_ratio_)"
   ]
  },
  {
   "cell_type": "markdown",
   "id": "bc6f74d2-4703-413b-a1d7-4c5995f3d514",
   "metadata": {},
   "source": [
    "## 🌟 Number of components for 85% variance explained"
   ]
  },
  {
   "cell_type": "code",
   "execution_count": 787,
   "id": "996defa6-bea8-4436-842c-0c7a7e8d79c5",
   "metadata": {},
   "outputs": [],
   "source": [
    "n_components = np.argmax(cvr >= 0.85) + 1"
   ]
  },
  {
   "cell_type": "markdown",
   "id": "5fe7ea91-e1f2-4d6b-a788-97eff795c99f",
   "metadata": {},
   "source": [
    "## 🌟 Apply PCA with the selected number of components"
   ]
  },
  {
   "cell_type": "code",
   "execution_count": 788,
   "id": "dcc2de62-ab27-4007-b08d-826391a8aaee",
   "metadata": {},
   "outputs": [],
   "source": [
    "p = PCA(n_components=n_components)\n",
    "X_train_pca = p.fit_transform(X_train_std)\n",
    "X_test_pca = p.transform(X_test_std)"
   ]
  },
  {
   "cell_type": "markdown",
   "id": "94d1e55b-7557-4c1f-ae9f-bc20395736fe",
   "metadata": {},
   "source": [
    "## 🌟 Outputs 🌟 "
   ]
  },
  {
   "cell_type": "code",
   "execution_count": 789,
   "id": "421b2e5c-6488-4302-ab6b-14b876eafaa3",
   "metadata": {},
   "outputs": [
    {
     "name": "stdout",
     "output_type": "stream",
     "text": [
      "Original Training Data Shape: (120, 4)\n",
      "Reduced Training Data Shape (PCA): (120, 2)\n",
      "Number of Components Selected: 2\n"
     ]
    }
   ],
   "source": [
    "print(\"Original Training Data Shape:\", X_train.shape)\n",
    "print(\"Reduced Training Data Shape (PCA):\", X_train_pca.shape)\n",
    "print(\"Number of Components Selected:\", n_components)"
   ]
  },
  {
   "cell_type": "markdown",
   "id": "4aae3de7-0b14-4424-90db-06c7e4bfbb55",
   "metadata": {},
   "source": [
    "## **Linear Discriminant Analysis (LDA)**"
   ]
  },
  {
   "cell_type": "code",
   "execution_count": 790,
   "id": "82333d0a-1504-4960-b229-31e61382d6c9",
   "metadata": {},
   "outputs": [],
   "source": [
    "X2, y2 = make_classification(n_samples=1000, n_features=20, n_classes=2, random_state=43)"
   ]
  },
  {
   "cell_type": "markdown",
   "id": "5d33b035-8205-4119-abce-94027242d1c1",
   "metadata": {},
   "source": [
    "## 🌟 Split into Training and Testing Sets"
   ]
  },
  {
   "cell_type": "code",
   "execution_count": 791,
   "id": "e386d874-e2c9-4d86-b904-4cb4c193f6e5",
   "metadata": {},
   "outputs": [],
   "source": [
    "X_train, X_test, y_train, y_test = train_test_split(X, y, test_size=0.2, random_state=42)"
   ]
  },
  {
   "cell_type": "markdown",
   "id": "d503a1c3-3ee7-41d7-b8a1-3003a0f80101",
   "metadata": {},
   "source": [
    "## 🌟 Standardize the data for PCA"
   ]
  },
  {
   "cell_type": "code",
   "execution_count": 792,
   "id": "e286d350-2f1b-47fa-a37a-e52213387714",
   "metadata": {},
   "outputs": [],
   "source": [
    "scaler = StandardScaler()\n",
    "X_train = scaler.fit_transform(X_train)\n",
    "X_test = scaler.transform(X_test)"
   ]
  },
  {
   "cell_type": "markdown",
   "id": "5d370b29-3184-4ad0-9b78-d40bbe55765b",
   "metadata": {},
   "source": [
    "## 🌟 Apply LDA and transform the data to fit"
   ]
  },
  {
   "cell_type": "code",
   "execution_count": 793,
   "id": "0fbefcc7-4003-4e69-9a72-0def282cc52a",
   "metadata": {},
   "outputs": [],
   "source": [
    "lda = LinearDiscriminantAnalysis()\n",
    "X_train_lda = lda.fit_transform(X_train, y_train)"
   ]
  },
  {
   "cell_type": "markdown",
   "id": "573e3207-fb59-4787-aebb-7eebbd92190a",
   "metadata": {},
   "source": [
    "## 🌟 Calculate Variance Ratio"
   ]
  },
  {
   "cell_type": "code",
   "execution_count": 794,
   "id": "5a1c158c-2e18-4239-a16d-b32da73c80b3",
   "metadata": {},
   "outputs": [],
   "source": [
    "explained_variance_ratio = lda.explained_variance_ratio_"
   ]
  },
  {
   "cell_type": "markdown",
   "id": "aa1a57ab-6d18-46ff-99d6-9b579543dc34",
   "metadata": {},
   "source": [
    "## 🌟 Cummulative Variance Ratio"
   ]
  },
  {
   "cell_type": "code",
   "execution_count": 795,
   "id": "ac8f07c1-3499-43d0-bc7e-3c1f79563356",
   "metadata": {},
   "outputs": [],
   "source": [
    "cumulative_explained_variance = np.cumsum(explained_variance_ratio)"
   ]
  },
  {
   "cell_type": "markdown",
   "id": "2fb0a345-8f15-454c-abe7-cb12d27f103f",
   "metadata": {},
   "source": [
    "## 🌟 Number of components for 85% variance explained"
   ]
  },
  {
   "cell_type": "code",
   "execution_count": 796,
   "id": "dff28fd2-18e2-4bf8-b759-70614acd0ab9",
   "metadata": {},
   "outputs": [],
   "source": [
    "n_components = np.argmax(cumulative_explained_variance >= 0.75) + 1\n"
   ]
  },
  {
   "cell_type": "markdown",
   "id": "a2a783ef-c48f-403f-821c-b08f9b8190fc",
   "metadata": {},
   "source": [
    "## 🌟 Apply LDA with the selected number of components"
   ]
  },
  {
   "cell_type": "code",
   "execution_count": 797,
   "id": "bfeeb1cd-b954-49e3-9d9e-1026c279add0",
   "metadata": {},
   "outputs": [],
   "source": [
    "X_train_lda_selected = lda.transform(X_train)[:, :n_components]\n",
    "X_test_lda_selected = lda.transform(X_test)[:, :n_components]"
   ]
  },
  {
   "cell_type": "markdown",
   "id": "41875110-7d5a-4188-901d-1a10ad656cc2",
   "metadata": {},
   "source": [
    "## 🌟 Outputs 🌟 "
   ]
  },
  {
   "cell_type": "code",
   "execution_count": 798,
   "id": "5d91bcde-8402-4cf9-8c9c-bc44d2b34e02",
   "metadata": {},
   "outputs": [
    {
     "name": "stdout",
     "output_type": "stream",
     "text": [
      "Number of components selected: 1\n"
     ]
    }
   ],
   "source": [
    "print(f\"Number of components selected: {n_components}\")"
   ]
  },
  {
   "cell_type": "markdown",
   "id": "3ad91ab6-6d2c-4554-a9af-47f0ffb14f0d",
   "metadata": {},
   "source": [
    "## **Singular Value Decomposition (SVD)** "
   ]
  },
  {
   "cell_type": "markdown",
   "id": "c8691c83-4856-42b6-8c7d-310386a8a053",
   "metadata": {},
   "source": [
    "## 🌟 Initialize SVD and fit"
   ]
  },
  {
   "cell_type": "code",
   "execution_count": 799,
   "id": "c1beea95-f9f7-4974-a20c-169a34928b9b",
   "metadata": {},
   "outputs": [],
   "source": [
    "svd = TruncatedSVD(n_components=X_train.shape[1] - 1)\n",
    "X_train_svd = svd.fit_transform(X_train)"
   ]
  },
  {
   "cell_type": "markdown",
   "id": "1c5d4f2e-4237-4e9d-a406-07e86e4c1bc5",
   "metadata": {},
   "source": [
    "## 🌟 SVD Variance Ratio"
   ]
  },
  {
   "cell_type": "code",
   "execution_count": 800,
   "id": "48edc916-3f52-492b-8a3d-78ee87a1c3a7",
   "metadata": {},
   "outputs": [],
   "source": [
    " explained_variance_ratio = svd.explained_variance_ratio_"
   ]
  },
  {
   "cell_type": "markdown",
   "id": "b77c6e03-24c2-401c-ae7e-408312e3708a",
   "metadata": {},
   "source": [
    "## 🌟 SVD Cummulative Variance ratio"
   ]
  },
  {
   "cell_type": "code",
   "execution_count": 801,
   "id": "fecc485f-867d-410c-85e6-5f632045623d",
   "metadata": {},
   "outputs": [],
   "source": [
    "cumulative_explained_variance = np.cumsum(explained_variance_ratio)"
   ]
  },
  {
   "cell_type": "markdown",
   "id": "66480961-12bb-4f65-9ac3-b264bc265ba5",
   "metadata": {},
   "source": [
    "## 🌟 Number of components for 85% variance explained"
   ]
  },
  {
   "cell_type": "code",
   "execution_count": 802,
   "id": "086fba20-e30f-43cb-b1f0-304cf5a67399",
   "metadata": {},
   "outputs": [],
   "source": [
    "n_components = np.argmax(cumulative_explained_variance >= 0.75) + 1"
   ]
  },
  {
   "cell_type": "markdown",
   "id": "028036d2-92e5-4bdb-a256-90a2b6cd6cfe",
   "metadata": {},
   "source": [
    "## 🌟 Apply SVD with the selected number of components"
   ]
  },
  {
   "cell_type": "code",
   "execution_count": 803,
   "id": "0b9821d6-2b4e-447e-b7e0-e94bf92dec86",
   "metadata": {},
   "outputs": [],
   "source": [
    "X_train_svd_selected = svd.transform(X_train)[:, :n_components]\n",
    "X_test_svd_selected = svd.transform(X_test)[:, :n_components]"
   ]
  },
  {
   "cell_type": "markdown",
   "id": "2fdff52a-bb1b-4ab3-9b39-bc5e7a7457a4",
   "metadata": {},
   "source": [
    "## 🌟 Outputs 🌟 "
   ]
  },
  {
   "cell_type": "code",
   "execution_count": 804,
   "id": "b5ed1f0f-2106-44f6-9949-55fdd0dc35cb",
   "metadata": {},
   "outputs": [
    {
     "name": "stdout",
     "output_type": "stream",
     "text": [
      "Number of components selected: 2\n"
     ]
    }
   ],
   "source": [
    "print(f\"Number of components selected: {n_components}\")"
   ]
  },
  {
   "cell_type": "markdown",
   "id": "4875f6fc-4d64-4e60-b2fb-232ab443a335",
   "metadata": {},
   "source": [
    "## **t-distributed Stochastic Neighbor Embedding (T-SNE)**"
   ]
  },
  {
   "cell_type": "code",
   "execution_count": 805,
   "id": "9f13eadf-03d2-4cdd-a93f-fd0534472bbe",
   "metadata": {},
   "outputs": [],
   "source": [
    "tsne = TSNE(n_components=2, random_state=42, perplexity=10)\n",
    "X_train_tsne = tsne.fit_transform(X_train)\n",
    "X_test_tsne = tsne.fit_transform(X_test)"
   ]
  },
  {
   "cell_type": "markdown",
   "id": "603f158d-8c8e-454e-901a-ea5e4bf1cfba",
   "metadata": {},
   "source": [
    "## Train the Logistic Regression Model & Output Accuracy"
   ]
  },
  {
   "cell_type": "code",
   "execution_count": 806,
   "id": "3095e7e6-0b6c-4b6e-b6dc-9b168785d1ad",
   "metadata": {},
   "outputs": [
    {
     "name": "stdout",
     "output_type": "stream",
     "text": [
      "Logistic Regression Accuracy with t-SNE: 0.30\n"
     ]
    }
   ],
   "source": [
    "model = LogisticRegression()\n",
    "model.fit(X_train_tsne, y_train)\n",
    "score_tsne = model.score(X_test_tsne, y_test)\n",
    "print(f\"Logistic Regression Accuracy with t-SNE: {score_tsne:.2f}\")"
   ]
  },
  {
   "cell_type": "markdown",
   "id": "5e007906-0128-46c7-bf63-9f4d84a1cd75",
   "metadata": {},
   "source": [
    "## **Independent Component Analysis (ICA)**"
   ]
  },
  {
   "cell_type": "markdown",
   "id": "6e1a61cc-b3c9-4202-aedd-44f2bbb3960c",
   "metadata": {},
   "source": [
    "## 🌟 Center the Data"
   ]
  },
  {
   "cell_type": "code",
   "execution_count": 807,
   "id": "835da571-8354-4f41-bfef-57d1924ff7e9",
   "metadata": {},
   "outputs": [],
   "source": [
    "X_centered = X - X.mean(axis=0)"
   ]
  },
  {
   "cell_type": "markdown",
   "id": "3924d8a7-f58c-4e8d-958c-752add8174ad",
   "metadata": {},
   "source": [
    "## 🌟 Create an ICA model"
   ]
  },
  {
   "cell_type": "code",
   "execution_count": 808,
   "id": "51178828-498b-444b-a5a6-d823f8dc9d74",
   "metadata": {},
   "outputs": [],
   "source": [
    "ica = FastICA(n_components=3, random_state=42)"
   ]
  },
  {
   "cell_type": "markdown",
   "id": "fd431565-a4a7-41fd-8f68-0746cdc47bb0",
   "metadata": {},
   "source": [
    "## 🌟 Fit the ICA model and transform the data"
   ]
  },
  {
   "cell_type": "code",
   "execution_count": 809,
   "id": "dfce5155-27b7-45c8-bfd8-696be84a8f70",
   "metadata": {},
   "outputs": [],
   "source": [
    "X_ica = ica.fit_transform(X_centered)"
   ]
  },
  {
   "cell_type": "markdown",
   "id": "879c56e9-9e08-4451-99c6-27d62f044704",
   "metadata": {},
   "source": [
    "## 🌟 Outputs 🌟 "
   ]
  },
  {
   "cell_type": "code",
   "execution_count": 810,
   "id": "faa97c7a-07ba-425e-a326-db2746d829d3",
   "metadata": {},
   "outputs": [
    {
     "name": "stdout",
     "output_type": "stream",
     "text": [
      "Independent components:\n",
      "[[-0.10759944 -2.35976743  0.13514761 -0.86999319]\n",
      " [-0.28909407 -0.00785423  0.49781866  0.43463659]\n",
      " [ 2.46675482 -1.11648228 -0.3288617  -1.71562749]]\n",
      "\n",
      "Mixing matrix:\n",
      "[[-2.48906644e-01  6.56465683e-01  4.31119437e-01]\n",
      " [-3.79918425e-01 -2.04828055e-01  3.14161291e-04]\n",
      " [-6.47823162e-02  1.73699499e+00  2.62112575e-01]\n",
      " [-9.82235669e-02  7.44214969e-01 -1.34548983e-02]]\n"
     ]
    }
   ],
   "source": [
    "print(\"Independent components:\")\n",
    "print(ica.components_)\n",
    "\n",
    "# Print the mixing matrix\n",
    "print(\"\\nMixing matrix:\")\n",
    "print(ica.mixing_)"
   ]
  },
  {
   "cell_type": "code",
   "execution_count": 811,
   "id": "b25b026b-7a33-4222-9b5e-0a671e4b0a74",
   "metadata": {},
   "outputs": [
    {
     "data": {
      "image/png": "[encoded data removed]",
      "text/plain": [
       "<Figure size 1200x600 with 3 Axes>"
      ]
     },
     "metadata": {},
     "output_type": "display_data"
    }
   ],
   "source": [
    "plt.figure(figsize=(12, 6))\n",
    "plt.subplot(1, 2, 1)\n",
    "sns.lineplot(data=ica.components_.T, palette=\"viridis\")\n",
    "plt.xlabel(\"Feature\")\n",
    "plt.ylabel(\"Value\")\n",
    "plt.title(\"Independent Components\")\n",
    "plt.legend([f\"IC {i+1}\" for i in range(ica.n_components)])\n",
    "\n",
    "plt.subplot(1, 2, 2)\n",
    "sns.heatmap(ica.mixing_, cmap=\"viridis\", annot=True, fmt=\".2f\")\n",
    "plt.xlabel(\"Independent Component\")\n",
    "plt.ylabel(\"Original Feature\")\n",
    "plt.title(\"Mixing Matrix\")\n",
    "plt.tight_layout()\n",
    "plt.show()"
   ]
  },
  {
   "cell_type": "markdown",
   "id": "2df14877-9317-4adc-baf8-4bcaa41d6dd2",
   "metadata": {},
   "source": [
    "## **SelectKBest (SKB)**"
   ]
  },
  {
   "cell_type": "code",
   "execution_count": 812,
   "id": "d4c2ef5b-8494-4739-bb12-a529388c25af",
   "metadata": {},
   "outputs": [],
   "source": [
    "data = load_breast_cancer()\n",
    "X, y = data.data, data.target\n",
    "X_train, X_test, y_train, y_test = train_test_split(X, y, test_size=0.2, random_state=42)\n",
    "scaler = StandardScaler()\n",
    "X_train = scaler.fit_transform(X_train)\n",
    "X_test = scaler.transform(X_test)"
   ]
  },
  {
   "cell_type": "code",
   "execution_count": 813,
   "id": "ca6ff922-e150-41a4-b9ed-5279f33cea78",
   "metadata": {},
   "outputs": [],
   "source": [
    "selector = SelectKBest(f_classif, k=30)\n",
    "X_train_selected = selector.fit_transform(X_train, y_train)\n",
    "X_test_selected = selector.transform(X_test)"
   ]
  },
  {
   "cell_type": "code",
   "execution_count": 814,
   "id": "121cdc25-3e60-40a3-9719-70f62e1f2461",
   "metadata": {},
   "outputs": [
    {
     "name": "stdout",
     "output_type": "stream",
     "text": [
      "Accuracy with SelectKBest: 0.9736842105263158\n"
     ]
    }
   ],
   "source": [
    "model.fit(X_train_selected, y_train)\n",
    "y_pred_selected = model.predict(X_test_selected)\n",
    "print(\"Accuracy with SelectKBest:\", accuracy_score(y_test, y_pred_selected))"
   ]
  },
  {
   "cell_type": "markdown",
   "id": "df145f86-6904-434b-9845-0f0b08e1966c",
   "metadata": {},
   "source": [
    "## **Recursive Feature Elimination (RFE)**"
   ]
  },
  {
   "cell_type": "code",
   "execution_count": 815,
   "id": "23cb4269-e96a-4826-bcd4-39c583732c4a",
   "metadata": {},
   "outputs": [],
   "source": [
    "rfe = RFE(estimator=LogisticRegression(), n_features_to_select=30, step=1)\n",
    "X_train_rfe = rfe.fit_transform(X_train, y_train)\n",
    "X_test_rfe = rfe.transform(X_test)"
   ]
  },
  {
   "cell_type": "code",
   "execution_count": 816,
   "id": "b0b1ef7c-6266-4231-b6ed-345551b1a483",
   "metadata": {},
   "outputs": [
    {
     "name": "stdout",
     "output_type": "stream",
     "text": [
      "Accuracy with RFE: 0.9736842105263158\n"
     ]
    }
   ],
   "source": [
    "model.fit(X_train_rfe, y_train)\n",
    "y_pred_rfe = model.predict(X_test_rfe)\n",
    "print(\"Accuracy with RFE:\", accuracy_score(y_test, y_pred_rfe))"
   ]
  }
 ],
 "metadata": {
  "kernelspec": {
   "display_name": "Python 3 (ipykernel)",
   "language": "python",
   "name": "python3"
  },
  "language_info": {
   "codemirror_mode": {
    "name": "ipython",
    "version": 3
   },
   "file_extension": ".py",
   "mimetype": "text/x-python",
   "name": "python",
   "nbconvert_exporter": "python",
   "pygments_lexer": "ipython3",
   "version": "3.11.9"
  }
 },
 "nbformat": 4,
 "nbformat_minor": 5
}
