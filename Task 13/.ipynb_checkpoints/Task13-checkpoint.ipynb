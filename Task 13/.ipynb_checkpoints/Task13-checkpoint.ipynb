{
 "cells": [
  {
   "cell_type": "markdown",
   "id": "f15996ae-018a-41ef-ac01-f0b8bec19ab0",
   "metadata": {},
   "source": [
    "# 🔴 Task 13: Data manipulation with Pandas (indexing, selection, grouping)"
   ]
  },
  {
   "cell_type": "markdown",
   "id": "617cd08f-b44b-4c41-9bdb-d90dd6af5873",
   "metadata": {},
   "source": [
    "#### 1. Load a DataFrame from a CSV file. Display the first and last five rows of the DataFrame."
   ]
  },
  {
   "cell_type": "code",
   "execution_count": 2,
   "id": "8657a97a-d8b0-48fb-a876-fc31af07e2a9",
   "metadata": {},
   "outputs": [],
   "source": [
    "import numpy as np\n",
    "import pandas as pd"
   ]
  },
  {
   "cell_type": "code",
   "execution_count": 3,
   "id": "f3a0923f-513e-470a-8128-e0b5a9337001",
   "metadata": {},
   "outputs": [
    {
     "name": "stdout",
     "output_type": "stream",
     "text": [
      "First 5 rows:\n",
      "   year     month  passengers\n",
      "0  1949   January         112\n",
      "1  1949  February         118\n",
      "2  1949     March         132\n",
      "3  1949     April         129\n",
      "4  1949       May         121\n",
      "\n",
      "Last 5 rows:\n",
      "     year      month  passengers\n",
      "139  1960     August         606\n",
      "140  1960  September         508\n",
      "141  1960    October         461\n",
      "142  1960   November         390\n",
      "143  1960   December         432\n"
     ]
    }
   ],
   "source": [
    "import_dataFrame = pd.read_csv('flights.csv')\n",
    "print(\"First 5 rows:\")\n",
    "print(import_dataFrame.head())\n",
    "print()\n",
    "\n",
    "print(\"Last 5 rows:\")\n",
    "print(import_dataFrame.tail())"
   ]
  },
  {
   "cell_type": "markdown",
   "id": "9a29d8a1-0d14-4f3f-b3bb-fd0c03e9bb89",
   "metadata": {},
   "source": [
    "#### 2. Set a specific column as the index of the DataFrame."
   ]
  },
  {
   "cell_type": "code",
   "execution_count": 5,
   "id": "40651cb3-a61c-4c8f-bdda-d07570fcf62c",
   "metadata": {},
   "outputs": [
    {
     "name": "stdout",
     "output_type": "stream",
     "text": [
      "           year  passengers\n",
      "month                      \n",
      "January    1949         112\n",
      "February   1949         118\n",
      "March      1949         132\n",
      "April      1949         129\n",
      "May        1949         121\n",
      "...         ...         ...\n",
      "August     1960         606\n",
      "September  1960         508\n",
      "October    1960         461\n",
      "November   1960         390\n",
      "December   1960         432\n",
      "\n",
      "[144 rows x 2 columns]\n"
     ]
    }
   ],
   "source": [
    "dataFrame = import_dataFrame.set_index('month')\n",
    "print(dataFrame)"
   ]
  },
  {
   "cell_type": "markdown",
   "id": "25e8cb0e-9cae-4ea9-8324-e0833f5efa94",
   "metadata": {},
   "source": [
    "#### 3. Select a specific column and display its values."
   ]
  },
  {
   "cell_type": "code",
   "execution_count": 6,
   "id": "abcb27f5-b4d6-4077-9bb7-fc0c2e801c74",
   "metadata": {},
   "outputs": [
    {
     "name": "stdout",
     "output_type": "stream",
     "text": [
      "0        January\n",
      "1       February\n",
      "2          March\n",
      "3          April\n",
      "4            May\n",
      "         ...    \n",
      "139       August\n",
      "140    September\n",
      "141      October\n",
      "142     November\n",
      "143     December\n",
      "Name: month, Length: 144, dtype: object\n"
     ]
    }
   ],
   "source": [
    "dataFrame2 = import_dataFrame.month\n",
    "print(dataFrame2)"
   ]
  },
  {
   "cell_type": "markdown",
   "id": "8dff7fc5-1072-4975-9a18-5d0c7784a82a",
   "metadata": {},
   "source": [
    "#### 4. Select multiple columns and display the resulting DataFrame."
   ]
  },
  {
   "cell_type": "code",
   "execution_count": 7,
   "id": "b97195b3-cc9f-4405-bab0-0584bbfa142f",
   "metadata": {},
   "outputs": [
    {
     "name": "stdout",
     "output_type": "stream",
     "text": [
      "         month  year  passengers\n",
      "0      January  1949         112\n",
      "1     February  1949         118\n",
      "2        March  1949         132\n",
      "3        April  1949         129\n",
      "4          May  1949         121\n",
      "..         ...   ...         ...\n",
      "139     August  1960         606\n",
      "140  September  1960         508\n",
      "141    October  1960         461\n",
      "142   November  1960         390\n",
      "143   December  1960         432\n",
      "\n",
      "[144 rows x 3 columns]\n"
     ]
    }
   ],
   "source": [
    "dataFrame2 = import_dataFrame[['month', 'year', 'passengers']]\n",
    "print(dataFrame2)"
   ]
  },
  {
   "cell_type": "markdown",
   "id": "ca9bcc9e-0117-43a9-af86-98bfc6f7c17f",
   "metadata": {},
   "source": [
    "#### 5. Select a subset of rows using the .loc method."
   ]
  },
  {
   "cell_type": "code",
   "execution_count": 8,
   "id": "891051b6-0e42-4d75-afdf-49aafb326330",
   "metadata": {},
   "outputs": [
    {
     "name": "stdout",
     "output_type": "stream",
     "text": [
      "     year      month  passengers\n",
      "2    1949      March         132\n",
      "3    1949      April         129\n",
      "4    1949        May         121\n",
      "5    1949       June         135\n",
      "6    1949       July         148\n",
      "..    ...        ...         ...\n",
      "139  1960     August         606\n",
      "140  1960  September         508\n",
      "141  1960    October         461\n",
      "142  1960   November         390\n",
      "143  1960   December         432\n",
      "\n",
      "[137 rows x 3 columns]\n"
     ]
    }
   ],
   "source": [
    "subset = import_dataFrame.loc[import_dataFrame['passengers'] > 120]\n",
    "print(subset)"
   ]
  },
  {
   "cell_type": "markdown",
   "id": "7d2a53c8-9a00-4941-b5ad-1963e4d67d3e",
   "metadata": {},
   "source": [
    "#### 6. Select a subset of rows and columns using the .iloc method."
   ]
  },
  {
   "cell_type": "code",
   "execution_count": 14,
   "id": "20d22cbe-aa3b-462a-b6b3-f44d3e6b994b",
   "metadata": {},
   "outputs": [
    {
     "name": "stdout",
     "output_type": "stream",
     "text": [
      "    year      month\n",
      "0   1949    January\n",
      "1   1949   February\n",
      "2   1949      March\n",
      "3   1949      April\n",
      "4   1949        May\n",
      "5   1949       June\n",
      "6   1949       July\n",
      "7   1949     August\n",
      "8   1949  September\n",
      "9   1949    October\n",
      "10  1949   November\n",
      "11  1949   December\n"
     ]
    }
   ],
   "source": [
    "sub3 = import_dataFrame.iloc[:12, :2]\n",
    "print(sub3)\n"
   ]
  },
  {
   "cell_type": "markdown",
   "id": "7ec4d7f6-6984-4daa-acb7-f585d6e225e6",
   "metadata": {},
   "source": [
    "#### 7. Filter rows based on a condition."
   ]
  },
  {
   "cell_type": "code",
   "execution_count": 15,
   "id": "73651fe7-4cfa-4784-a6fa-a7f320841bd7",
   "metadata": {},
   "outputs": [
    {
     "name": "stdout",
     "output_type": "stream",
     "text": [
      "     year      month  passengers\n",
      "0    1949    January         112\n",
      "1    1949   February         118\n",
      "2    1949      March         132\n",
      "3    1949      April         129\n",
      "4    1949        May         121\n",
      "..    ...        ...         ...\n",
      "139  1960     August         606\n",
      "140  1960  September         508\n",
      "141  1960    October         461\n",
      "142  1960   November         390\n",
      "143  1960   December         432\n",
      "\n",
      "[144 rows x 3 columns]\n"
     ]
    }
   ],
   "source": [
    "f_df = import_dataFrame[(import_dataFrame['year'] > 1940) & (import_dataFrame['month'] != 'january')]\n",
    "print(f_df)"
   ]
  },
  {
   "cell_type": "markdown",
   "id": "bc084c76-ea68-4115-9cdf-894d1a16691c",
   "metadata": {},
   "source": [
    "#### 8. Group the DataFrame by a specific column and calculate the mean of each group."
   ]
  },
  {
   "cell_type": "code",
   "execution_count": 24,
   "id": "5f1f2bd8-be15-4297-9e7d-5bdbca88d206",
   "metadata": {},
   "outputs": [
    {
     "name": "stdout",
     "output_type": "stream",
     "text": [
      "             year  passengers\n",
      "month                        \n",
      "April      1954.5  267.083333\n",
      "August     1954.5  351.083333\n",
      "December   1954.5  261.833333\n",
      "February   1954.5  235.000000\n",
      "January    1954.5  241.750000\n",
      "July       1954.5  351.333333\n",
      "June       1954.5  311.666667\n",
      "March      1954.5  270.166667\n",
      "May        1954.5  271.833333\n",
      "November   1954.5  232.833333\n",
      "October    1954.5  266.583333\n",
      "September  1954.5  302.416667\n"
     ]
    }
   ],
   "source": [
    "grouped = import_dataFrame.groupby('month')\n",
    "grouped_mean = grouped.mean()\n",
    "print(grouped_mean)"
   ]
  },
  {
   "cell_type": "markdown",
   "id": "09125fdb-8954-456d-831f-d53bfac56020",
   "metadata": {},
   "source": [
    "#### 9. Group the DataFrame by multiple columns and calculate the sum of each group."
   ]
  },
  {
   "cell_type": "code",
   "execution_count": 26,
   "id": "eac6422f-3a0d-47f9-9807-bd440d7f031d",
   "metadata": {},
   "outputs": [
    {
     "name": "stdout",
     "output_type": "stream",
     "text": [
      "                passengers\n",
      "year month                \n",
      "1949 April             129\n",
      "     August            148\n",
      "     December          118\n",
      "     February          118\n",
      "     January           112\n",
      "...                    ...\n",
      "1960 March             419\n",
      "     May               472\n",
      "     November          390\n",
      "     October           461\n",
      "     September         508\n",
      "\n",
      "[144 rows x 1 columns]\n"
     ]
    }
   ],
   "source": [
    "grouped = import_dataFrame.groupby(['year', 'month'])\n",
    "grouped_sum = grouped.sum()\n",
    "print(grouped_sum)"
   ]
  },
  {
   "cell_type": "markdown",
   "id": "db090740-9ea1-40ff-95fb-bc3eacfa4470",
   "metadata": {},
   "source": [
    "#### 10. Use the agg method to apply multiple aggregation functions to grouped data."
   ]
  },
  {
   "cell_type": "code",
   "execution_count": 30,
   "id": "54150efd-0331-4c93-b12c-af73fdd829fa",
   "metadata": {},
   "outputs": [
    {
     "name": "stdout",
     "output_type": "stream",
     "text": [
      "               passengers         year      \n",
      "                      sum   mean   min   max\n",
      "year month                                  \n",
      "1949 April            129  129.0  1949  1949\n",
      "     August           148  148.0  1949  1949\n",
      "     December         118  118.0  1949  1949\n",
      "     February         118  118.0  1949  1949\n",
      "     January          112  112.0  1949  1949\n",
      "...                   ...    ...   ...   ...\n",
      "1960 March            419  419.0  1960  1960\n",
      "     May              472  472.0  1960  1960\n",
      "     November         390  390.0  1960  1960\n",
      "     October          461  461.0  1960  1960\n",
      "     September        508  508.0  1960  1960\n",
      "\n",
      "[144 rows x 4 columns]\n"
     ]
    }
   ],
   "source": [
    "aggregate = grouped.agg({\n",
    "    'passengers': ['sum', 'mean'],\n",
    "    'year': ['min', 'max']\n",
    "})\n",
    "print(aggregate)"
   ]
  },
  {
   "cell_type": "markdown",
   "id": "1e3ed33e-8667-4329-9577-b5c980ed93cf",
   "metadata": {},
   "source": [
    "#### 11. Calculate the size of each group."
   ]
  },
  {
   "cell_type": "code",
   "execution_count": 31,
   "id": "4a29aa5e-f782-402e-a443-b75a64baefa4",
   "metadata": {},
   "outputs": [
    {
     "name": "stdout",
     "output_type": "stream",
     "text": [
      "year  month    \n",
      "1949  April        1\n",
      "      August       1\n",
      "      December     1\n",
      "      February     1\n",
      "      January      1\n",
      "                  ..\n",
      "1960  March        1\n",
      "      May          1\n",
      "      November     1\n",
      "      October      1\n",
      "      September    1\n",
      "Length: 144, dtype: int64\n"
     ]
    }
   ],
   "source": [
    "group_sizes = grouped.size()\n",
    "print(group_sizes)"
   ]
  },
  {
   "cell_type": "markdown",
   "id": "562e3dd8-84e8-4e94-9928-cdb9518a5272",
   "metadata": {},
   "source": [
    "#### 12. Select rows based on multiple conditions."
   ]
  },
  {
   "cell_type": "code",
   "execution_count": 34,
   "id": "3be12014-e7ec-449e-836f-a99bdf76b1d5",
   "metadata": {},
   "outputs": [
    {
     "name": "stdout",
     "output_type": "stream",
     "text": [
      "     year      month  passengers\n",
      "2    1949      March         132\n",
      "5    1949       June         135\n",
      "6    1949       July         148\n",
      "7    1949     August         148\n",
      "8    1949  September         136\n",
      "..    ...        ...         ...\n",
      "139  1960     August         606\n",
      "140  1960  September         508\n",
      "141  1960    October         461\n",
      "142  1960   November         390\n",
      "143  1960   December         432\n",
      "\n",
      "[133 rows x 3 columns]\n"
     ]
    }
   ],
   "source": [
    "year = import_dataFrame['year'] > 1920 \n",
    "passengers = import_dataFrame['passengers'] > 130\n",
    "filter_dataFrame = import_dataFrame[year & passengers]\n",
    "\n",
    "print(filter_dataFrame)\n"
   ]
  },
  {
   "cell_type": "markdown",
   "id": "53ff1eea-6e61-4e80-928a-86fc4b0fce09",
   "metadata": {},
   "source": [
    "#### 13. Use the query method to filter rows."
   ]
  },
  {
   "cell_type": "code",
   "execution_count": 35,
   "id": "e66a8f35-748c-4bb5-a603-c59ea5b89efb",
   "metadata": {},
   "outputs": [
    {
     "name": "stdout",
     "output_type": "stream",
     "text": [
      "     year    month  passengers\n",
      "7    1949   August         148\n",
      "19   1950   August         170\n",
      "24   1951  January         145\n",
      "31   1951   August         199\n",
      "36   1952  January         171\n",
      "43   1952   August         242\n",
      "48   1953  January         196\n",
      "55   1953   August         272\n",
      "60   1954  January         204\n",
      "67   1954   August         293\n",
      "72   1955  January         242\n",
      "79   1955   August         347\n",
      "84   1956  January         284\n",
      "91   1956   August         405\n",
      "96   1957  January         315\n",
      "103  1957   August         467\n",
      "108  1958  January         340\n",
      "115  1958   August         505\n",
      "120  1959  January         360\n",
      "127  1959   August         559\n",
      "132  1960  January         417\n",
      "139  1960   August         606\n"
     ]
    }
   ],
   "source": [
    "query = 'passengers > 120 and month in [\"January\", \"August\"]'\n",
    "filter_df = import_dataFrame.query(query)\n",
    "print(filter_df)\n"
   ]
  },
  {
   "cell_type": "markdown",
   "id": "ca05d987-ffa1-4dfa-b872-4a0bf7b89dca",
   "metadata": {},
   "source": [
    "#### 14. Use isin to filter rows based on a list of values."
   ]
  },
  {
   "cell_type": "code",
   "execution_count": 36,
   "id": "9094ef0f-c513-4268-9096-816fef9f2f23",
   "metadata": {},
   "outputs": [
    {
     "name": "stdout",
     "output_type": "stream",
     "text": [
      "     year      month  passengers\n",
      "8    1949  September         136\n",
      "11   1949   December         118\n",
      "20   1950  September         158\n",
      "23   1950   December         140\n",
      "32   1951  September         184\n",
      "35   1951   December         166\n",
      "44   1952  September         209\n",
      "47   1952   December         194\n",
      "56   1953  September         237\n",
      "59   1953   December         201\n",
      "68   1954  September         259\n",
      "71   1954   December         229\n",
      "80   1955  September         312\n",
      "83   1955   December         278\n",
      "92   1956  September         355\n",
      "95   1956   December         306\n",
      "104  1957  September         404\n",
      "107  1957   December         336\n",
      "116  1958  September         404\n",
      "119  1958   December         337\n",
      "128  1959  September         463\n",
      "131  1959   December         405\n",
      "140  1960  September         508\n",
      "143  1960   December         432\n"
     ]
    }
   ],
   "source": [
    "filter1 = ['September', 'December']\n",
    "filter_df = import_dataFrame[import_dataFrame['month'].isin(filter1)]\n",
    "print(filter_df)\n"
   ]
  },
  {
   "cell_type": "markdown",
   "id": "7669fec3-94e9-4ce3-9e3b-7279683bc18c",
   "metadata": {},
   "source": [
    "#### 15. Select specific columns and rename them"
   ]
  },
  {
   "cell_type": "code",
   "execution_count": 39,
   "id": "daae29ca-a81c-4452-b6bc-2cf1d55cfb85",
   "metadata": {},
   "outputs": [
    {
     "name": "stdout",
     "output_type": "stream",
     "text": [
      "     period  load\n",
      "0      1949   112\n",
      "1      1949   118\n",
      "2      1949   132\n",
      "3      1949   129\n",
      "4      1949   121\n",
      "..      ...   ...\n",
      "139    1960   606\n",
      "140    1960   508\n",
      "141    1960   461\n",
      "142    1960   390\n",
      "143    1960   432\n",
      "\n",
      "[144 rows x 2 columns]\n"
     ]
    }
   ],
   "source": [
    "select1 = import_dataFrame.loc[:, ['year', 'passengers']]\n",
    "select1 = select1.rename(columns={'year': 'period', 'passengers': 'load'})\n",
    "print(select1)\n"
   ]
  },
  {
   "cell_type": "code",
   "execution_count": null,
   "id": "4c4503f8-0226-4615-bd99-08c21e682749",
   "metadata": {},
   "outputs": [],
   "source": []
  }
 ],
 "metadata": {
  "kernelspec": {
   "display_name": "Python 3 (ipykernel)",
   "language": "python",
   "name": "python3"
  },
  "language_info": {
   "codemirror_mode": {
    "name": "ipython",
    "version": 3
   },
   "file_extension": ".py",
   "mimetype": "text/x-python",
   "name": "python",
   "nbconvert_exporter": "python",
   "pygments_lexer": "ipython3",
   "version": "3.11.9"
  }
 },
 "nbformat": 4,
 "nbformat_minor": 5
}
