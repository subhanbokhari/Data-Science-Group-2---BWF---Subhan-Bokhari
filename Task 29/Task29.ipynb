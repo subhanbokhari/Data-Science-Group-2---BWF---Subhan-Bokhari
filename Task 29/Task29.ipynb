{
 "cells": [
  {
   "cell_type": "markdown",
   "id": "9241c663-d197-4223-8847-80dc77a6d34a",
   "metadata": {},
   "source": [
    " # 🔴 Task 29-> Hyperparameter Tuning Techniques"
   ]
  },
  {
   "cell_type": "markdown",
   "id": "5441d903-d543-42b3-8500-19ed7e24125a",
   "metadata": {},
   "source": [
    "## ✨Import the libraries"
   ]
  },
  {
   "cell_type": "code",
   "execution_count": 66,
   "id": "728078c9-2fd7-4ee9-81d4-afe925820923",
   "metadata": {},
   "outputs": [],
   "source": [
    "import pandas as pd\n",
    "from sklearn.model_selection import train_test_split\n",
    "from sklearn.pipeline import Pipeline\n",
    "from sklearn.preprocessing import StandardScaler, OneHotEncoder, FunctionTransformer\n",
    "from sklearn.compose import ColumnTransformer\n",
    "from sklearn.linear_model import LogisticRegression\n",
    "from sklearn.neighbors import KNeighborsClassifier\n",
    "from sklearn.svm import SVC\n",
    "from sklearn.tree import DecisionTreeClassifier\n",
    "from sklearn.ensemble import RandomForestClassifier, GradientBoostingClassifier\n",
    "from sklearn.naive_bayes import GaussianNB\n",
    "from sklearn.metrics import recall_score, f1_score, roc_auc_score\n",
    "from scipy.sparse import issparse\n",
    "from sklearn.impute import SimpleImputer\n",
    "from sklearn.model_selection import GridSearchCV\n",
    "from sklearn.model_selection import train_test_split"
   ]
  },
  {
   "cell_type": "markdown",
   "id": "15c6904f-124a-4dff-836a-eb5eeddce433",
   "metadata": {},
   "source": [
    "## ✨Import Titanic Data and make it usefull"
   ]
  },
  {
   "cell_type": "code",
   "execution_count": 67,
   "id": "062e723f-672a-4520-a558-31eb1faec859",
   "metadata": {},
   "outputs": [],
   "source": [
    "titanic = pd.read_csv(\"titanic.csv\")\n",
    "features = titanic.drop(columns=['Survived'])\n",
    "target = titanic['Survived']\n",
    "\n",
    "numeric_features = features.select_dtypes(include=['int64', 'float64']).columns\n",
    "numeric_transformer = Pipeline(steps=[\n",
    "    ('imputer', SimpleImputer(strategy='mean')),\n",
    "    ('scaler', StandardScaler())\n",
    "])\n",
    "\n",
    "categorical_features = features.select_dtypes(include=['object']).columns\n",
    "categorical_transformer = Pipeline(steps=[\n",
    "    ('imputer', SimpleImputer(strategy='constant', fill_value='missing')),\n",
    "    ('onehot', OneHotEncoder(handle_unknown='ignore'))\n",
    "])\n",
    "\n",
    "preprocessor = ColumnTransformer(\n",
    "    transformers=[\n",
    "        ('num', numeric_transformer, numeric_features),\n",
    "        ('cat', categorical_transformer, categorical_features)\n",
    "    ])"
   ]
  },
  {
   "cell_type": "markdown",
   "id": "615da09f-acac-4583-9ed0-bb52c7209ec3",
   "metadata": {},
   "source": [
    "## ✨Define Models and train it"
   ]
  },
  {
   "cell_type": "code",
   "execution_count": 68,
   "id": "767c0440-6c07-44f7-bcdc-433e7a39de30",
   "metadata": {},
   "outputs": [
    {
     "name": "stdout",
     "output_type": "stream",
     "text": [
      "Logistic Regression Accuracy: 0.70 (+/- 0.04)\n",
      "Decision Tree Accuracy: 0.59 (+/- 0.11)\n",
      "Random Forest Accuracy: 0.69 (+/- 0.08)\n",
      "SVM Accuracy: 0.64 (+/- 0.02)\n",
      "KNN Accuracy: 0.55 (+/- 0.10)\n"
     ]
    }
   ],
   "source": [
    "models = {\n",
    "    \"Logistic Regression\": LogisticRegression(max_iter=1000),\n",
    "    \"Decision Tree\": DecisionTreeClassifier(),\n",
    "    \"Random Forest\": RandomForestClassifier(),\n",
    "    \"SVM\": SVC(),\n",
    "    \"KNN\": KNeighborsClassifier()\n",
    "}\n",
    "\n",
    "for name, model in models.items():\n",
    "    scores = cross_val_score(model, X, y, cv=5, scoring='accuracy')\n",
    "    print(f\"{name} Accuracy: {scores.mean():.2f} (+/- {scores.std():.2f})\")"
   ]
  },
  {
   "cell_type": "markdown",
   "id": "2c3ba5f9-dd3f-4df8-b6d2-616d79d9bc5b",
   "metadata": {},
   "source": [
    "## ✨HyperParameter Tuning"
   ]
  },
  {
   "cell_type": "code",
   "execution_count": 69,
   "id": "863fb8b8-58c3-461e-b2af-ec789e49220a",
   "metadata": {},
   "outputs": [
    {
     "name": "stdout",
     "output_type": "stream",
     "text": [
      "Best Parameters: {'max_depth': 5, 'min_samples_split': 2, 'n_estimators': 200}\n",
      "Best Accuracy: 0.7336747759282971\n"
     ]
    }
   ],
   "source": [
    "param_grid = {\n",
    "    'n_estimators': [100, 200, 300],\n",
    "    'max_depth': [3, 5, 7],\n",
    "    'min_samples_split': [2, 5, 10]\n",
    "}\n",
    "\n",
    "rf = RandomForestClassifier()\n",
    "grid_search = GridSearchCV(rf, param_grid, cv=5, scoring='accuracy')\n",
    "grid_search.fit(X, y)\n",
    "\n",
    "print(\"Best Parameters:\", grid_search.best_params_)\n",
    "print(\"Best Accuracy:\", grid_search.best_score_)"
   ]
  },
  {
   "cell_type": "markdown",
   "id": "76c169c2-9b9f-4a77-a3f8-8b4552069db4",
   "metadata": {},
   "source": [
    "## ✨Model Evaluation and Accuracy"
   ]
  },
  {
   "cell_type": "code",
   "execution_count": 70,
   "id": "809686aa-ce6e-4e74-a843-9b14a517a975",
   "metadata": {},
   "outputs": [
    {
     "name": "stdout",
     "output_type": "stream",
     "text": [
      "Test Accuracy: 0.6783216783216783\n"
     ]
    }
   ],
   "source": [
    "X_train, X_test, y_train, y_test = train_test_split(X, y, test_size=0.2, random_state=42)\n",
    "\n",
    "rf = RandomForestClassifier(n_estimators=100, max_depth=3, min_samples_split=2)\n",
    "rf.fit(X_train, y_train)\n",
    "test_accuracy = rf.score(X_test, y_test)\n",
    "print(\"Test Accuracy:\", test_accuracy)"
   ]
  }
 ],
 "metadata": {
  "kernelspec": {
   "display_name": "Python 3 (ipykernel)",
   "language": "python",
   "name": "python3"
  },
  "language_info": {
   "codemirror_mode": {
    "name": "ipython",
    "version": 3
   },
   "file_extension": ".py",
   "mimetype": "text/x-python",
   "name": "python",
   "nbconvert_exporter": "python",
   "pygments_lexer": "ipython3",
   "version": "3.11.9"
  }
 },
 "nbformat": 4,
 "nbformat_minor": 5
}
