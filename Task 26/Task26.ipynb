{
 "cells": [
  {
   "cell_type": "markdown",
   "id": "db52d4ac-2bdd-46ac-86d7-8813a9e0e324",
   "metadata": {},
   "source": [
    "# 🔴 Task 26-> Classification Algorithms using scikit-learn"
   ]
  },
  {
   "cell_type": "markdown",
   "id": "41626b47-3922-4a2d-a793-11ee98e8be78",
   "metadata": {},
   "source": [
    "## The main objective of this task is to implement and compare the performance of several popular classification algorithms using the scikit-learn library in Python."
   ]
  },
  {
   "cell_type": "markdown",
   "id": "cb4a1511-afe7-4809-8586-011fe73fabc6",
   "metadata": {},
   "source": [
    "#### Import the Libraries"
   ]
  },
  {
   "cell_type": "code",
   "execution_count": 100,
   "id": "44f04c37-18aa-4bfb-9424-b277123006ea",
   "metadata": {},
   "outputs": [],
   "source": [
    "import pandas as pd\n",
    "from sklearn.model_selection import train_test_split\n",
    "from sklearn.pipeline import Pipeline\n",
    "from sklearn.preprocessing import StandardScaler, OneHotEncoder, FunctionTransformer\n",
    "from sklearn.compose import ColumnTransformer\n",
    "from sklearn.linear_model import LogisticRegression\n",
    "from sklearn.neighbors import KNeighborsClassifier\n",
    "from sklearn.svm import SVC\n",
    "from sklearn.tree import DecisionTreeClassifier\n",
    "from sklearn.ensemble import RandomForestClassifier, GradientBoostingClassifier\n",
    "from sklearn.naive_bayes import GaussianNB\n",
    "from sklearn.metrics import recall_score, f1_score, roc_auc_score\n",
    "from scipy.sparse import issparse"
   ]
  },
  {
   "cell_type": "markdown",
   "id": "98b53eef-c933-4c3a-87a0-6d2c2220e58f",
   "metadata": {},
   "source": [
    "#### Load the Titanic DataSet an Process the Data to make it useful"
   ]
  },
  {
   "cell_type": "code",
   "execution_count": 101,
   "id": "d370fadf-2ddf-40b8-97c3-74d8f3515912",
   "metadata": {},
   "outputs": [],
   "source": [
    "titanic = pd.read_csv(\"titanic.csv\")\n",
    "features = titanic.drop(columns=['Survived'])\n",
    "target = titanic['Survived']\n",
    "\n",
    "numeric_features = features.select_dtypes(include=['int64', 'float64']).columns\n",
    "numeric_transformer = Pipeline(steps=[\n",
    "    ('imputer', SimpleImputer(strategy='mean')),\n",
    "    ('scaler', StandardScaler())\n",
    "])\n",
    "\n",
    "categorical_features = features.select_dtypes(include=['object']).columns\n",
    "categorical_transformer = Pipeline(steps=[\n",
    "    ('imputer', SimpleImputer(strategy='constant', fill_value='missing')),\n",
    "    ('onehot', OneHotEncoder(handle_unknown='ignore'))\n",
    "])\n",
    "\n",
    "preprocessor = ColumnTransformer(\n",
    "    transformers=[\n",
    "        ('num', numeric_transformer, numeric_features),\n",
    "        ('cat', categorical_transformer, categorical_features)\n",
    "    ])"
   ]
  },
  {
   "cell_type": "markdown",
   "id": "a1407677-fc54-4dea-838e-3ecabfd69fc7",
   "metadata": {},
   "source": [
    "### 1- Logistic Regression: Models the probability of a binary outcome using the logistic function."
   ]
  },
  {
   "cell_type": "markdown",
   "id": "04ef31a9-c4d3-4a73-8879-4758d497aaae",
   "metadata": {},
   "source": [
    "#### ✨  Split the Data"
   ]
  },
  {
   "cell_type": "code",
   "execution_count": 102,
   "id": "b5359705-d9f5-4fa0-8e2c-208af143e6f4",
   "metadata": {},
   "outputs": [],
   "source": [
    "X_train, X_test, y_train, y_test = train_test_split(features, target, test_size=0.2, random_state=42)"
   ]
  },
  {
   "cell_type": "markdown",
   "id": "63e3d042-019c-4946-9a80-17104d565cb2",
   "metadata": {},
   "source": [
    "#### ✨ Implement the Classficication models"
   ]
  },
  {
   "cell_type": "code",
   "execution_count": 103,
   "id": "b5e46cf6-e954-49ca-8f5c-7895bde643b6",
   "metadata": {},
   "outputs": [],
   "source": [
    "models = {\n",
    "    \"Logistic Regression\": LogisticRegression(max_iter=200),\n",
    "    \"k-Nearest Neighbors\": KNeighborsClassifier(),\n",
    "    \"Support Vector Machine\": SVC(probability=True),\n",
    "    \"Decision Tree\": DecisionTreeClassifier(),\n",
    "    \"Random Forest\": RandomForestClassifier(),\n",
    "    \"Gradient Boosting\": GradientBoostingClassifier(),\n",
    "    \"Naive Bayes\": make_pipeline(StandardScaler(with_mean=False), GaussianNB())\n",
    "}"
   ]
  },
  {
   "cell_type": "markdown",
   "id": "fcc0acf4-2f5f-49bc-a7d0-d77775bd5a4e",
   "metadata": {},
   "source": [
    "#### ✨ Evaluate Classification Models"
   ]
  },
  {
   "cell_type": "code",
   "execution_count": 104,
   "id": "b36a460d-6a5a-4337-b903-e38a99ea6b31",
   "metadata": {},
   "outputs": [],
   "source": [
    "def evaluate_model(model, X_test, y_test):\n",
    "    y_pred = model.predict(X_test)\n",
    "    recall = recall_score(y_test, y_pred)\n",
    "    f1 = f1_score(y_test, y_pred)\n",
    "    if hasattr(model, \"predict_proba\"):\n",
    "        roc_auc = roc_auc_score(y_test, model.predict_proba(X_test)[:, 1])\n",
    "    else:\n",
    "        roc_auc = \"N/A\"\n",
    "    return recall, f1, roc_auc"
   ]
  },
  {
   "cell_type": "markdown",
   "id": "60c02418-16d8-49db-b1fe-25290f5be698",
   "metadata": {},
   "source": [
    "#### ✨ Train, Predict & Evaluate"
   ]
  },
  {
   "cell_type": "code",
   "execution_count": 105,
   "id": "a4a5598b-2180-4cc6-8083-549592e70ebd",
   "metadata": {},
   "outputs": [],
   "source": [
    "for name, model in models.items():\n",
    "    if name == \"Naive Bayes\":\n",
    "        pipeline = Pipeline(steps=[\n",
    "            ('preprocessor', preprocessor),\n",
    "            ('to_dense', FunctionTransformer(lambda x: x.toarray(), accept_sparse=True)),\n",
    "            ('model', model)\n",
    "        ])\n",
    "    else:\n",
    "        pipeline = Pipeline(steps=[('preprocessor', preprocessor), ('model', model)])\n",
    "    \n",
    "    pipeline.fit(X_train, y_train)"
   ]
  },
  {
   "cell_type": "markdown",
   "id": "c4daa825-7b73-41f6-9893-fd4ac4336f39",
   "metadata": {},
   "source": [
    "## Print the Performance Metrics"
   ]
  },
  {
   "cell_type": "code",
   "execution_count": 106,
   "id": "a5122d2d-b37d-4e74-8ac3-cd254e8949df",
   "metadata": {},
   "outputs": [
    {
     "name": "stdout",
     "output_type": "stream",
     "text": [
      "Naive Bayes Performance:\n",
      "Accuracy: 0.62\n",
      "Precision: 0.62\n",
      "Recall: 0.68\n",
      "F1-score: 0.74\n",
      "ROC-AUC: 0.89\n",
      "\n"
     ]
    }
   ],
   "source": [
    "print(f\"{name} Performance:\")\n",
    "print(f\"Accuracy: {accuracy:.2f}\")\n",
    "print(f\"Precision: {precision:.2f}\")\n",
    "print(f\"Recall: {recall:.2f}\")\n",
    "print(f\"F1-score: {f1:.2f}\")\n",
    "print(f\"ROC-AUC: {roc_auc:.2f}\")\n",
    "print()"
   ]
  }
 ],
 "metadata": {
  "kernelspec": {
   "display_name": "Python 3 (ipykernel)",
   "language": "python",
   "name": "python3"
  },
  "language_info": {
   "codemirror_mode": {
    "name": "ipython",
    "version": 3
   },
   "file_extension": ".py",
   "mimetype": "text/x-python",
   "name": "python",
   "nbconvert_exporter": "python",
   "pygments_lexer": "ipython3",
   "version": "3.11.9"
  }
 },
 "nbformat": 4,
 "nbformat_minor": 5
}
