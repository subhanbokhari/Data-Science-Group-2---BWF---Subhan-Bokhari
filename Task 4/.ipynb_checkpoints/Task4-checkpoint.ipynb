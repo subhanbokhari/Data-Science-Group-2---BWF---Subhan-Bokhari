{
 "cells": [
  {
   "cell_type": "code",
   "execution_count": 4,
   "id": "13d21a5b-903d-409f-bc10-6c86bce2e492",
   "metadata": {},
   "outputs": [
    {
     "name": "stdin",
     "output_type": "stream",
     "text": [
      "Enter Value 1: 2\n",
      "Enter Value 2: 3\n"
     ]
    },
    {
     "name": "stdout",
     "output_type": "stream",
     "text": [
      "sum:  5\n",
      "Difference:  -1\n",
      "Product:  6\n",
      "Quotient:  0.6666666666666666\n"
     ]
    }
   ],
   "source": [
    "a = int(input(\"Enter Value 1:\"))\n",
    "b = int(input(\"Enter Value 2:\"))\n",
    "print(\"sum: \",a+b)\n",
    "print(\"Difference: \", a-b)\n",
    "print(\"Product: \", a*b)\n",
    "print(\"Quotient: \", a/b)"
   ]
  },
  {
   "cell_type": "code",
   "execution_count": 2,
   "id": "6696d9ec-c920-4cba-8530-84f150ba2a98",
   "metadata": {},
   "outputs": [
    {
     "name": "stdin",
     "output_type": "stream",
     "text": [
      "What is the name of the organizer? For 25 Lakhs!  Subhan\n"
     ]
    },
    {
     "name": "stdout",
     "output_type": "stream",
     "text": [
      "Correct! 25 Lakhs\n"
     ]
    },
    {
     "name": "stdin",
     "output_type": "stream",
     "text": [
      "Will you like to Risk it for 50 Lakhs? Yes\n",
      "City which he is in currently?  Peshawar\n"
     ]
    },
    {
     "name": "stdout",
     "output_type": "stream",
     "text": [
      "Correct! 50 Lakhs\n"
     ]
    },
    {
     "name": "stdin",
     "output_type": "stream",
     "text": [
      "Will you like to Risk it for 75 Lakhs? yes\n",
      "What is the capital of Pakistan?  Lahore\n"
     ]
    },
    {
     "name": "stdout",
     "output_type": "stream",
     "text": [
      "You Lost all\n",
      "Don't be greedy sometimes!\n"
     ]
    }
   ],
   "source": [
    "answers = [\"Subhan\", \"Peshawar\", \"Islamabad\", \"K2\", \"Abu Dhabi\"]\n",
    "\n",
    "a1 = input(\"What is the name of the organizer? For 25 Lakhs! \")\n",
    "\n",
    "k = 0\n",
    "\n",
    "if a1 == answers[0]:\n",
    "    print(\"Correct! 25 Lakhs\")\n",
    "    k = 25\n",
    "else:\n",
    "    print(\"You Lost all\")\n",
    "\n",
    "if k == 25:\n",
    "    t = input(\"Will you like to Risk it for 50 Lakhs?\")\n",
    "    if t.lower() == \"yes\":\n",
    "        a2 = input(\"City which he is in currently? \")\n",
    "        if a2 == answers[1]:\n",
    "            print(\"Correct! 50 Lakhs\")\n",
    "            k = 50\n",
    "        else:\n",
    "            print(\"You Lost all\")\n",
    "            k = 0\n",
    "\n",
    "if k == 50:\n",
    "    t1 = input(\"Will you like to Risk it for 75 Lakhs?\")\n",
    "    if t1.lower() == \"yes\":\n",
    "        a3 = input(\"What is the capital of Pakistan? \")\n",
    "        if a3 == answers[2]:\n",
    "            print(\"Correct! 75 Lakhs\")\n",
    "            k = 75\n",
    "        else:\n",
    "            print(\"You Lost all\")\n",
    "            k = 0\n",
    "\n",
    "if k == 75:\n",
    "    t1 = input(\"Will you like to Risk it for 1 Crores?\")\n",
    "    if t1.lower() == \"yes\":\n",
    "        a3 = input(\"What is the second highest peak in the world? \")\n",
    "        if a3 == answers[3]:\n",
    "            print(\"Correct! 1 Crores\")\n",
    "            k = 100\n",
    "        else:\n",
    "            print(\"You Lost all\")\n",
    "            k = 0\n",
    "\n",
    "if k == 100:\n",
    "    t1 = input(\"Will you like to Risk it for 1.25 Crores?\")\n",
    "    if t1.lower() == \"yes\":\n",
    "        a4 = input(\"What is the capital of UAE? \")\n",
    "        if a4 == answers[4]:\n",
    "            print(\"Correct! 1.25 Crores\")\n",
    "            k = 125\n",
    "        else:\n",
    "            print(\"You Lost all\")\n",
    "            k = 0\n",
    "\n",
    "if k == 25:\n",
    "    print(\"You won 25 lakhs!\")\n",
    "elif k == 50:\n",
    "    print(\"You won 50 lakhs!\")\n",
    "elif k == 75:\n",
    "    print(\"You won 75 lakhs!\")\n",
    "elif k == 100:\n",
    "    print(\"You won 1 Crore!\")\n",
    "elif k == 125:\n",
    "    print(\"You won 1.25 Crores!\")\n",
    "elif k == 0:\n",
    "    print(\"Don't be greedy sometimes!\")"
   ]
  },
  {
   "cell_type": "code",
   "execution_count": null,
   "id": "a5ed38fa-d50c-4c7f-8839-44dd5665761e",
   "metadata": {},
   "outputs": [],
   "source": []
  }
 ],
 "metadata": {
  "kernelspec": {
   "display_name": "Python 3 (ipykernel)",
   "language": "python",
   "name": "python3"
  },
  "language_info": {
   "codemirror_mode": {
    "name": "ipython",
    "version": 3
   },
   "file_extension": ".py",
   "mimetype": "text/x-python",
   "name": "python",
   "nbconvert_exporter": "python",
   "pygments_lexer": "ipython3",
   "version": "3.11.9"
  }
 },
 "nbformat": 4,
 "nbformat_minor": 5
}
